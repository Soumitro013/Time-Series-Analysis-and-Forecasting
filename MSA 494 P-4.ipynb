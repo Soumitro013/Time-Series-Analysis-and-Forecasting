{
 "cells": [
  {
   "cell_type": "markdown",
   "id": "d6ed2fa0",
   "metadata": {},
   "source": [
    "### Time Series Analysis and Forecasting"
   ]
  },
  {
   "cell_type": "code",
   "execution_count": 1,
   "id": "0f9e8243",
   "metadata": {},
   "outputs": [],
   "source": [
    "import yfinance as yf"
   ]
  },
  {
   "cell_type": "code",
   "execution_count": 2,
   "id": "263bc53d",
   "metadata": {},
   "outputs": [],
   "source": [
    "import numpy as np\n",
    "import pandas as pd\n",
    "import itertools\n",
    "import matplotlib.pyplot as plt\n",
    "%matplotlib inline\n",
    "\n",
    "import warnings\n",
    "warnings.filterwarnings('ignore')"
   ]
  },
  {
   "cell_type": "code",
   "execution_count": 3,
   "id": "effd7066",
   "metadata": {},
   "outputs": [],
   "source": [
    "start_date = \"2014-09-19\"\n",
    "end_date = \"2022-06-03\""
   ]
  },
  {
   "cell_type": "code",
   "execution_count": 4,
   "id": "6ba5a001",
   "metadata": {},
   "outputs": [],
   "source": [
    "ticker = 'BABA' #Alibaba group"
   ]
  },
  {
   "cell_type": "code",
   "execution_count": 5,
   "id": "3f09b660",
   "metadata": {},
   "outputs": [
    {
     "name": "stdout",
     "output_type": "stream",
     "text": [
      "[*********************100%***********************]  1 of 1 completed\n"
     ]
    }
   ],
   "source": [
    "df = yf.download(ticker,start_date,end_date)"
   ]
  },
  {
   "cell_type": "code",
   "execution_count": 7,
   "id": "1f6ca2de",
   "metadata": {
    "collapsed": true
   },
   "outputs": [
    {
     "data": {
      "text/html": [
       "<div>\n",
       "<style scoped>\n",
       "    .dataframe tbody tr th:only-of-type {\n",
       "        vertical-align: middle;\n",
       "    }\n",
       "\n",
       "    .dataframe tbody tr th {\n",
       "        vertical-align: top;\n",
       "    }\n",
       "\n",
       "    .dataframe thead th {\n",
       "        text-align: right;\n",
       "    }\n",
       "</style>\n",
       "<table border=\"1\" class=\"dataframe\">\n",
       "  <thead>\n",
       "    <tr style=\"text-align: right;\">\n",
       "      <th></th>\n",
       "      <th>Open</th>\n",
       "      <th>High</th>\n",
       "      <th>Low</th>\n",
       "      <th>Close</th>\n",
       "      <th>Adj Close</th>\n",
       "      <th>Volume</th>\n",
       "    </tr>\n",
       "    <tr>\n",
       "      <th>Date</th>\n",
       "      <th></th>\n",
       "      <th></th>\n",
       "      <th></th>\n",
       "      <th></th>\n",
       "      <th></th>\n",
       "      <th></th>\n",
       "    </tr>\n",
       "  </thead>\n",
       "  <tbody>\n",
       "    <tr>\n",
       "      <th>2014-09-19</th>\n",
       "      <td>92.699997</td>\n",
       "      <td>99.699997</td>\n",
       "      <td>89.949997</td>\n",
       "      <td>93.889999</td>\n",
       "      <td>93.889999</td>\n",
       "      <td>271879400</td>\n",
       "    </tr>\n",
       "    <tr>\n",
       "      <th>2014-09-22</th>\n",
       "      <td>92.699997</td>\n",
       "      <td>92.949997</td>\n",
       "      <td>89.500000</td>\n",
       "      <td>89.889999</td>\n",
       "      <td>89.889999</td>\n",
       "      <td>66657800</td>\n",
       "    </tr>\n",
       "    <tr>\n",
       "      <th>2014-09-23</th>\n",
       "      <td>88.940002</td>\n",
       "      <td>90.480003</td>\n",
       "      <td>86.620003</td>\n",
       "      <td>87.169998</td>\n",
       "      <td>87.169998</td>\n",
       "      <td>39009800</td>\n",
       "    </tr>\n",
       "    <tr>\n",
       "      <th>2014-09-24</th>\n",
       "      <td>88.470001</td>\n",
       "      <td>90.570000</td>\n",
       "      <td>87.220001</td>\n",
       "      <td>90.570000</td>\n",
       "      <td>90.570000</td>\n",
       "      <td>32088000</td>\n",
       "    </tr>\n",
       "    <tr>\n",
       "      <th>2014-09-25</th>\n",
       "      <td>91.089996</td>\n",
       "      <td>91.500000</td>\n",
       "      <td>88.500000</td>\n",
       "      <td>88.919998</td>\n",
       "      <td>88.919998</td>\n",
       "      <td>28598000</td>\n",
       "    </tr>\n",
       "    <tr>\n",
       "      <th>2014-09-26</th>\n",
       "      <td>89.730003</td>\n",
       "      <td>90.459999</td>\n",
       "      <td>88.660004</td>\n",
       "      <td>90.459999</td>\n",
       "      <td>90.459999</td>\n",
       "      <td>18340000</td>\n",
       "    </tr>\n",
       "    <tr>\n",
       "      <th>2014-09-29</th>\n",
       "      <td>89.620003</td>\n",
       "      <td>89.699997</td>\n",
       "      <td>88.019997</td>\n",
       "      <td>88.750000</td>\n",
       "      <td>88.750000</td>\n",
       "      <td>25302000</td>\n",
       "    </tr>\n",
       "    <tr>\n",
       "      <th>2014-09-30</th>\n",
       "      <td>89.000000</td>\n",
       "      <td>90.879997</td>\n",
       "      <td>88.459999</td>\n",
       "      <td>88.849998</td>\n",
       "      <td>88.849998</td>\n",
       "      <td>24419400</td>\n",
       "    </tr>\n",
       "    <tr>\n",
       "      <th>2014-10-01</th>\n",
       "      <td>88.699997</td>\n",
       "      <td>88.940002</td>\n",
       "      <td>86.040001</td>\n",
       "      <td>86.099998</td>\n",
       "      <td>86.099998</td>\n",
       "      <td>24029600</td>\n",
       "    </tr>\n",
       "    <tr>\n",
       "      <th>2014-10-02</th>\n",
       "      <td>86.269997</td>\n",
       "      <td>88.199997</td>\n",
       "      <td>85.611000</td>\n",
       "      <td>87.059998</td>\n",
       "      <td>87.059998</td>\n",
       "      <td>21469700</td>\n",
       "    </tr>\n",
       "  </tbody>\n",
       "</table>\n",
       "</div>"
      ],
      "text/plain": [
       "                 Open       High        Low      Close  Adj Close     Volume\n",
       "Date                                                                        \n",
       "2014-09-19  92.699997  99.699997  89.949997  93.889999  93.889999  271879400\n",
       "2014-09-22  92.699997  92.949997  89.500000  89.889999  89.889999   66657800\n",
       "2014-09-23  88.940002  90.480003  86.620003  87.169998  87.169998   39009800\n",
       "2014-09-24  88.470001  90.570000  87.220001  90.570000  90.570000   32088000\n",
       "2014-09-25  91.089996  91.500000  88.500000  88.919998  88.919998   28598000\n",
       "2014-09-26  89.730003  90.459999  88.660004  90.459999  90.459999   18340000\n",
       "2014-09-29  89.620003  89.699997  88.019997  88.750000  88.750000   25302000\n",
       "2014-09-30  89.000000  90.879997  88.459999  88.849998  88.849998   24419400\n",
       "2014-10-01  88.699997  88.940002  86.040001  86.099998  86.099998   24029600\n",
       "2014-10-02  86.269997  88.199997  85.611000  87.059998  87.059998   21469700"
      ]
     },
     "execution_count": 7,
     "metadata": {},
     "output_type": "execute_result"
    }
   ],
   "source": [
    "df.head(10)"
   ]
  },
  {
   "cell_type": "code",
   "execution_count": 8,
   "id": "3667b0f7",
   "metadata": {},
   "outputs": [],
   "source": [
    "#drop unnecessary column\n",
    "df.drop(columns=['Open','High','Low','Close','Volume'], inplace=True, axis=1)"
   ]
  },
  {
   "cell_type": "code",
   "execution_count": 9,
   "id": "b596d9d6",
   "metadata": {
    "collapsed": true
   },
   "outputs": [
    {
     "data": {
      "text/html": [
       "<div>\n",
       "<style scoped>\n",
       "    .dataframe tbody tr th:only-of-type {\n",
       "        vertical-align: middle;\n",
       "    }\n",
       "\n",
       "    .dataframe tbody tr th {\n",
       "        vertical-align: top;\n",
       "    }\n",
       "\n",
       "    .dataframe thead th {\n",
       "        text-align: right;\n",
       "    }\n",
       "</style>\n",
       "<table border=\"1\" class=\"dataframe\">\n",
       "  <thead>\n",
       "    <tr style=\"text-align: right;\">\n",
       "      <th></th>\n",
       "      <th>Adj Close</th>\n",
       "    </tr>\n",
       "    <tr>\n",
       "      <th>Date</th>\n",
       "      <th></th>\n",
       "    </tr>\n",
       "  </thead>\n",
       "  <tbody>\n",
       "    <tr>\n",
       "      <th>2014-09-19</th>\n",
       "      <td>93.889999</td>\n",
       "    </tr>\n",
       "    <tr>\n",
       "      <th>2014-09-22</th>\n",
       "      <td>89.889999</td>\n",
       "    </tr>\n",
       "    <tr>\n",
       "      <th>2014-09-23</th>\n",
       "      <td>87.169998</td>\n",
       "    </tr>\n",
       "    <tr>\n",
       "      <th>2014-09-24</th>\n",
       "      <td>90.570000</td>\n",
       "    </tr>\n",
       "    <tr>\n",
       "      <th>2014-09-25</th>\n",
       "      <td>88.919998</td>\n",
       "    </tr>\n",
       "    <tr>\n",
       "      <th>2014-09-26</th>\n",
       "      <td>90.459999</td>\n",
       "    </tr>\n",
       "    <tr>\n",
       "      <th>2014-09-29</th>\n",
       "      <td>88.750000</td>\n",
       "    </tr>\n",
       "    <tr>\n",
       "      <th>2014-09-30</th>\n",
       "      <td>88.849998</td>\n",
       "    </tr>\n",
       "    <tr>\n",
       "      <th>2014-10-01</th>\n",
       "      <td>86.099998</td>\n",
       "    </tr>\n",
       "    <tr>\n",
       "      <th>2014-10-02</th>\n",
       "      <td>87.059998</td>\n",
       "    </tr>\n",
       "  </tbody>\n",
       "</table>\n",
       "</div>"
      ],
      "text/plain": [
       "            Adj Close\n",
       "Date                 \n",
       "2014-09-19  93.889999\n",
       "2014-09-22  89.889999\n",
       "2014-09-23  87.169998\n",
       "2014-09-24  90.570000\n",
       "2014-09-25  88.919998\n",
       "2014-09-26  90.459999\n",
       "2014-09-29  88.750000\n",
       "2014-09-30  88.849998\n",
       "2014-10-01  86.099998\n",
       "2014-10-02  87.059998"
      ]
     },
     "execution_count": 9,
     "metadata": {},
     "output_type": "execute_result"
    }
   ],
   "source": [
    "df.head(10)"
   ]
  },
  {
   "cell_type": "code",
   "execution_count": 10,
   "id": "c5708011",
   "metadata": {
    "collapsed": true
   },
   "outputs": [
    {
     "data": {
      "text/html": [
       "<div>\n",
       "<style scoped>\n",
       "    .dataframe tbody tr th:only-of-type {\n",
       "        vertical-align: middle;\n",
       "    }\n",
       "\n",
       "    .dataframe tbody tr th {\n",
       "        vertical-align: top;\n",
       "    }\n",
       "\n",
       "    .dataframe thead th {\n",
       "        text-align: right;\n",
       "    }\n",
       "</style>\n",
       "<table border=\"1\" class=\"dataframe\">\n",
       "  <thead>\n",
       "    <tr style=\"text-align: right;\">\n",
       "      <th></th>\n",
       "      <th>Date</th>\n",
       "      <th>Adj Close</th>\n",
       "    </tr>\n",
       "  </thead>\n",
       "  <tbody>\n",
       "    <tr>\n",
       "      <th>0</th>\n",
       "      <td>2014-09-19</td>\n",
       "      <td>93.889999</td>\n",
       "    </tr>\n",
       "    <tr>\n",
       "      <th>1</th>\n",
       "      <td>2014-09-22</td>\n",
       "      <td>89.889999</td>\n",
       "    </tr>\n",
       "    <tr>\n",
       "      <th>2</th>\n",
       "      <td>2014-09-23</td>\n",
       "      <td>87.169998</td>\n",
       "    </tr>\n",
       "    <tr>\n",
       "      <th>3</th>\n",
       "      <td>2014-09-24</td>\n",
       "      <td>90.570000</td>\n",
       "    </tr>\n",
       "    <tr>\n",
       "      <th>4</th>\n",
       "      <td>2014-09-25</td>\n",
       "      <td>88.919998</td>\n",
       "    </tr>\n",
       "    <tr>\n",
       "      <th>5</th>\n",
       "      <td>2014-09-26</td>\n",
       "      <td>90.459999</td>\n",
       "    </tr>\n",
       "    <tr>\n",
       "      <th>6</th>\n",
       "      <td>2014-09-29</td>\n",
       "      <td>88.750000</td>\n",
       "    </tr>\n",
       "    <tr>\n",
       "      <th>7</th>\n",
       "      <td>2014-09-30</td>\n",
       "      <td>88.849998</td>\n",
       "    </tr>\n",
       "    <tr>\n",
       "      <th>8</th>\n",
       "      <td>2014-10-01</td>\n",
       "      <td>86.099998</td>\n",
       "    </tr>\n",
       "    <tr>\n",
       "      <th>9</th>\n",
       "      <td>2014-10-02</td>\n",
       "      <td>87.059998</td>\n",
       "    </tr>\n",
       "  </tbody>\n",
       "</table>\n",
       "</div>"
      ],
      "text/plain": [
       "        Date  Adj Close\n",
       "0 2014-09-19  93.889999\n",
       "1 2014-09-22  89.889999\n",
       "2 2014-09-23  87.169998\n",
       "3 2014-09-24  90.570000\n",
       "4 2014-09-25  88.919998\n",
       "5 2014-09-26  90.459999\n",
       "6 2014-09-29  88.750000\n",
       "7 2014-09-30  88.849998\n",
       "8 2014-10-01  86.099998\n",
       "9 2014-10-02  87.059998"
      ]
     },
     "execution_count": 10,
     "metadata": {},
     "output_type": "execute_result"
    }
   ],
   "source": [
    "#to change the index column\n",
    "df1 = df.reset_index()\n",
    "df1.head(10)"
   ]
  },
  {
   "cell_type": "code",
   "execution_count": 11,
   "id": "d7f9e702",
   "metadata": {},
   "outputs": [
    {
     "data": {
      "text/plain": [
       "Date         0\n",
       "Adj Close    0\n",
       "dtype: int64"
      ]
     },
     "execution_count": 11,
     "metadata": {},
     "output_type": "execute_result"
    }
   ],
   "source": [
    "df1.isnull().sum()"
   ]
  },
  {
   "cell_type": "code",
   "execution_count": 12,
   "id": "343029ce",
   "metadata": {},
   "outputs": [
    {
     "data": {
      "image/png": "[encoded data removed]",
      "text/plain": [
       "<Figure size 1152x648 with 1 Axes>"
      ]
     },
     "metadata": {
      "needs_background": "light"
     },
     "output_type": "display_data"
    }
   ],
   "source": [
    "f = plt.figure()\n",
    "f.set_figwidth(16)\n",
    "f.set_figheight(9)\n",
    "\n",
    "plt.plot(df1['Adj Close'].dropna(),linewidth = 2.5,color='blue',label='adj close')\n",
    "font1 = {'family':'serif','color':'blue','size':20}\n",
    "font2 = {'family':'serif','color':'darkred','size':15}\n",
    "plt.title(\"Adj Close visualization plot\",fontdict = font1)\n",
    "plt.xlabel(\"Time Stamp\",fontdict = font2)\n",
    "plt.ylabel(\"Price\",fontdict = font2)\n",
    "plt.legend()\n",
    "plt.show()"
   ]
  },
  {
   "cell_type": "code",
   "execution_count": 13,
   "id": "f294f1c7",
   "metadata": {},
   "outputs": [],
   "source": [
    "#check if close series is stationary\n",
    "from statsmodels.tsa.stattools import adfuller"
   ]
  },
  {
   "cell_type": "code",
   "execution_count": 14,
   "id": "aa3e1d2d",
   "metadata": {},
   "outputs": [],
   "source": [
    "def adf_test(series):\n",
    "    result=adfuller(series)\n",
    "    print('ADF Statistics: {}'.format(result[0]))\n",
    "    print('p- value: {}'.format(result[1]))\n",
    "    if result[1] <= 0.05:\n",
    "        print(\"strong evidence against the null hypothesis, reject the null hypothesis. Data has no unit root and is stationary\")\n",
    "    else:\n",
    "        print(\"weak evidence against null hypothesis, time series has a unit root, indicating it is non-stationary \")"
   ]
  },
  {
   "cell_type": "code",
   "execution_count": 15,
   "id": "51b4b3a5",
   "metadata": {},
   "outputs": [
    {
     "name": "stdout",
     "output_type": "stream",
     "text": [
      "ADF Statistics: -1.1534751922432536\n",
      "p- value: 0.6932827395598636\n",
      "weak evidence against null hypothesis, time series has a unit root, indicating it is non-stationary \n"
     ]
    }
   ],
   "source": [
    "adf_test(df1[\"Adj Close\"])"
   ]
  },
  {
   "cell_type": "code",
   "execution_count": 16,
   "id": "9f84504d",
   "metadata": {},
   "outputs": [],
   "source": [
    "from statsmodels.graphics.tsaplots import plot_acf,plot_pacf"
   ]
  },
  {
   "cell_type": "code",
   "execution_count": 17,
   "id": "5ac46be4",
   "metadata": {},
   "outputs": [
    {
     "data": {
      "text/plain": [
       "(<Figure size 432x288 with 1 Axes>, <Figure size 432x288 with 1 Axes>)"
      ]
     },
     "execution_count": 17,
     "metadata": {},
     "output_type": "execute_result"
    },
    {
     "data": {
      "image/png": "[encoded data removed]",
      "text/plain": [
       "<Figure size 432x288 with 1 Axes>"
      ]
     },
     "metadata": {
      "needs_background": "light"
     },
     "output_type": "display_data"
    },
    {
     "data": {
      "image/png": "[encoded data removed]",
      "text/plain": [
       "<Figure size 432x288 with 1 Axes>"
      ]
     },
     "metadata": {
      "needs_background": "light"
     },
     "output_type": "display_data"
    }
   ],
   "source": [
    "plot_acf(df1[\"Adj Close\"]),plot_pacf(df1[\"Adj Close\"])"
   ]
  },
  {
   "cell_type": "code",
   "execution_count": 18,
   "id": "c724b944",
   "metadata": {},
   "outputs": [],
   "source": [
    "#taking log return lpg(pt/pt-1)\n",
    "df1['Log Return'] = np.log(df1['Adj Close']/df1['Adj Close'].shift(1))"
   ]
  },
  {
   "cell_type": "code",
   "execution_count": 19,
   "id": "50c11a92",
   "metadata": {
    "collapsed": true
   },
   "outputs": [
    {
     "data": {
      "text/html": [
       "<div>\n",
       "<style scoped>\n",
       "    .dataframe tbody tr th:only-of-type {\n",
       "        vertical-align: middle;\n",
       "    }\n",
       "\n",
       "    .dataframe tbody tr th {\n",
       "        vertical-align: top;\n",
       "    }\n",
       "\n",
       "    .dataframe thead th {\n",
       "        text-align: right;\n",
       "    }\n",
       "</style>\n",
       "<table border=\"1\" class=\"dataframe\">\n",
       "  <thead>\n",
       "    <tr style=\"text-align: right;\">\n",
       "      <th></th>\n",
       "      <th>Date</th>\n",
       "      <th>Adj Close</th>\n",
       "      <th>Log Return</th>\n",
       "    </tr>\n",
       "  </thead>\n",
       "  <tbody>\n",
       "    <tr>\n",
       "      <th>0</th>\n",
       "      <td>2014-09-19</td>\n",
       "      <td>93.889999</td>\n",
       "      <td>NaN</td>\n",
       "    </tr>\n",
       "    <tr>\n",
       "      <th>1</th>\n",
       "      <td>2014-09-22</td>\n",
       "      <td>89.889999</td>\n",
       "      <td>-0.043537</td>\n",
       "    </tr>\n",
       "    <tr>\n",
       "      <th>2</th>\n",
       "      <td>2014-09-23</td>\n",
       "      <td>87.169998</td>\n",
       "      <td>-0.030726</td>\n",
       "    </tr>\n",
       "    <tr>\n",
       "      <th>3</th>\n",
       "      <td>2014-09-24</td>\n",
       "      <td>90.570000</td>\n",
       "      <td>0.038263</td>\n",
       "    </tr>\n",
       "    <tr>\n",
       "      <th>4</th>\n",
       "      <td>2014-09-25</td>\n",
       "      <td>88.919998</td>\n",
       "      <td>-0.018386</td>\n",
       "    </tr>\n",
       "    <tr>\n",
       "      <th>5</th>\n",
       "      <td>2014-09-26</td>\n",
       "      <td>90.459999</td>\n",
       "      <td>0.017171</td>\n",
       "    </tr>\n",
       "    <tr>\n",
       "      <th>6</th>\n",
       "      <td>2014-09-29</td>\n",
       "      <td>88.750000</td>\n",
       "      <td>-0.019084</td>\n",
       "    </tr>\n",
       "    <tr>\n",
       "      <th>7</th>\n",
       "      <td>2014-09-30</td>\n",
       "      <td>88.849998</td>\n",
       "      <td>0.001126</td>\n",
       "    </tr>\n",
       "    <tr>\n",
       "      <th>8</th>\n",
       "      <td>2014-10-01</td>\n",
       "      <td>86.099998</td>\n",
       "      <td>-0.031440</td>\n",
       "    </tr>\n",
       "    <tr>\n",
       "      <th>9</th>\n",
       "      <td>2014-10-02</td>\n",
       "      <td>87.059998</td>\n",
       "      <td>0.011088</td>\n",
       "    </tr>\n",
       "  </tbody>\n",
       "</table>\n",
       "</div>"
      ],
      "text/plain": [
       "        Date  Adj Close  Log Return\n",
       "0 2014-09-19  93.889999         NaN\n",
       "1 2014-09-22  89.889999   -0.043537\n",
       "2 2014-09-23  87.169998   -0.030726\n",
       "3 2014-09-24  90.570000    0.038263\n",
       "4 2014-09-25  88.919998   -0.018386\n",
       "5 2014-09-26  90.459999    0.017171\n",
       "6 2014-09-29  88.750000   -0.019084\n",
       "7 2014-09-30  88.849998    0.001126\n",
       "8 2014-10-01  86.099998   -0.031440\n",
       "9 2014-10-02  87.059998    0.011088"
      ]
     },
     "execution_count": 19,
     "metadata": {},
     "output_type": "execute_result"
    }
   ],
   "source": [
    "df1.head(10)"
   ]
  },
  {
   "cell_type": "code",
   "execution_count": 20,
   "id": "4dc98d33",
   "metadata": {},
   "outputs": [],
   "source": [
    "#omit the NaN value\n",
    "df2 = df1.iloc[1:]"
   ]
  },
  {
   "cell_type": "code",
   "execution_count": 21,
   "id": "50fa67cf",
   "metadata": {
    "collapsed": true
   },
   "outputs": [
    {
     "data": {
      "text/html": [
       "<div>\n",
       "<style scoped>\n",
       "    .dataframe tbody tr th:only-of-type {\n",
       "        vertical-align: middle;\n",
       "    }\n",
       "\n",
       "    .dataframe tbody tr th {\n",
       "        vertical-align: top;\n",
       "    }\n",
       "\n",
       "    .dataframe thead th {\n",
       "        text-align: right;\n",
       "    }\n",
       "</style>\n",
       "<table border=\"1\" class=\"dataframe\">\n",
       "  <thead>\n",
       "    <tr style=\"text-align: right;\">\n",
       "      <th></th>\n",
       "      <th>Date</th>\n",
       "      <th>Adj Close</th>\n",
       "      <th>Log Return</th>\n",
       "    </tr>\n",
       "  </thead>\n",
       "  <tbody>\n",
       "    <tr>\n",
       "      <th>1</th>\n",
       "      <td>2014-09-22</td>\n",
       "      <td>89.889999</td>\n",
       "      <td>-0.043537</td>\n",
       "    </tr>\n",
       "    <tr>\n",
       "      <th>2</th>\n",
       "      <td>2014-09-23</td>\n",
       "      <td>87.169998</td>\n",
       "      <td>-0.030726</td>\n",
       "    </tr>\n",
       "    <tr>\n",
       "      <th>3</th>\n",
       "      <td>2014-09-24</td>\n",
       "      <td>90.570000</td>\n",
       "      <td>0.038263</td>\n",
       "    </tr>\n",
       "    <tr>\n",
       "      <th>4</th>\n",
       "      <td>2014-09-25</td>\n",
       "      <td>88.919998</td>\n",
       "      <td>-0.018386</td>\n",
       "    </tr>\n",
       "    <tr>\n",
       "      <th>5</th>\n",
       "      <td>2014-09-26</td>\n",
       "      <td>90.459999</td>\n",
       "      <td>0.017171</td>\n",
       "    </tr>\n",
       "    <tr>\n",
       "      <th>6</th>\n",
       "      <td>2014-09-29</td>\n",
       "      <td>88.750000</td>\n",
       "      <td>-0.019084</td>\n",
       "    </tr>\n",
       "    <tr>\n",
       "      <th>7</th>\n",
       "      <td>2014-09-30</td>\n",
       "      <td>88.849998</td>\n",
       "      <td>0.001126</td>\n",
       "    </tr>\n",
       "    <tr>\n",
       "      <th>8</th>\n",
       "      <td>2014-10-01</td>\n",
       "      <td>86.099998</td>\n",
       "      <td>-0.031440</td>\n",
       "    </tr>\n",
       "    <tr>\n",
       "      <th>9</th>\n",
       "      <td>2014-10-02</td>\n",
       "      <td>87.059998</td>\n",
       "      <td>0.011088</td>\n",
       "    </tr>\n",
       "    <tr>\n",
       "      <th>10</th>\n",
       "      <td>2014-10-03</td>\n",
       "      <td>88.099998</td>\n",
       "      <td>0.011875</td>\n",
       "    </tr>\n",
       "  </tbody>\n",
       "</table>\n",
       "</div>"
      ],
      "text/plain": [
       "         Date  Adj Close  Log Return\n",
       "1  2014-09-22  89.889999   -0.043537\n",
       "2  2014-09-23  87.169998   -0.030726\n",
       "3  2014-09-24  90.570000    0.038263\n",
       "4  2014-09-25  88.919998   -0.018386\n",
       "5  2014-09-26  90.459999    0.017171\n",
       "6  2014-09-29  88.750000   -0.019084\n",
       "7  2014-09-30  88.849998    0.001126\n",
       "8  2014-10-01  86.099998   -0.031440\n",
       "9  2014-10-02  87.059998    0.011088\n",
       "10 2014-10-03  88.099998    0.011875"
      ]
     },
     "execution_count": 21,
     "metadata": {},
     "output_type": "execute_result"
    }
   ],
   "source": [
    "df2.head(10)"
   ]
  },
  {
   "cell_type": "code",
   "execution_count": 22,
   "id": "f50d9cb6",
   "metadata": {},
   "outputs": [
    {
     "data": {
      "image/png": "[encoded data removed]",
      "text/plain": [
       "<Figure size 1152x648 with 1 Axes>"
      ]
     },
     "metadata": {
      "needs_background": "light"
     },
     "output_type": "display_data"
    }
   ],
   "source": [
    "### Plotting \n",
    "f = plt.figure()\n",
    "f.set_figwidth(16)\n",
    "f.set_figheight(9)\n",
    "\n",
    "plt.plot(df2[\"Log Return\"].dropna(),linewidth = 0.5,color='blue',label='actual')\n",
    "font1 = {'family':'serif','color':'blue','size':20}\n",
    "font2 = {'family':'serif','color':'darkred','size':15}\n",
    "plt.title(\"After taking log return\",fontdict = font1)\n",
    "plt.xlabel(\"Time Stamp\",fontdict = font2)\n",
    "plt.ylabel(\"Price\",fontdict = font2)\n",
    "plt.legend()\n",
    "plt.show()"
   ]
  },
  {
   "cell_type": "code",
   "execution_count": 23,
   "id": "42c66a9d",
   "metadata": {},
   "outputs": [
    {
     "name": "stdout",
     "output_type": "stream",
     "text": [
      "ADF Statistics: -19.253540528280652\n",
      "p- value: 0.0\n",
      "strong evidence against the null hypothesis, reject the null hypothesis. Data has no unit root and is stationary\n"
     ]
    }
   ],
   "source": [
    "#ADF test after taking log return\n",
    "adf_test(df2[\"Log Return\"])"
   ]
  },
  {
   "cell_type": "code",
   "execution_count": 24,
   "id": "7d7f51ab",
   "metadata": {},
   "outputs": [
    {
     "data": {
      "text/plain": [
       "(<Figure size 432x288 with 1 Axes>, <Figure size 432x288 with 1 Axes>)"
      ]
     },
     "execution_count": 24,
     "metadata": {},
     "output_type": "execute_result"
    },
    {
     "data": {
      "image/png": "[encoded data removed]",
      "text/plain": [
       "<Figure size 432x288 with 1 Axes>"
      ]
     },
     "metadata": {
      "needs_background": "light"
     },
     "output_type": "display_data"
    },
    {
     "data": {
      "image/png": "[encoded data removed]",
      "text/plain": [
       "<Figure size 432x288 with 1 Axes>"
      ]
     },
     "metadata": {
      "needs_background": "light"
     },
     "output_type": "display_data"
    }
   ],
   "source": [
    "plot_acf(df2[\"Log Return\"]),plot_pacf(df2[\"Log Return\"])"
   ]
  },
  {
   "cell_type": "code",
   "execution_count": 25,
   "id": "7e14bd7c",
   "metadata": {},
   "outputs": [],
   "source": [
    "##splitting dataset into train and test split\n",
    "training_size=int(len(df2[\"Log Return\"])*0.7)\n",
    "test_size=len(df2[\"Log Return\"])-training_size\n",
    "train_data,test_data=df2[\"Log Return\"][:training_size],df2[\"Log Return\"][training_size:len(df2[\"Log Return\"])]"
   ]
  },
  {
   "cell_type": "code",
   "execution_count": 26,
   "id": "a9a72ef9",
   "metadata": {},
   "outputs": [
    {
     "data": {
      "text/plain": [
       "(1357, 582)"
      ]
     },
     "execution_count": 26,
     "metadata": {},
     "output_type": "execute_result"
    }
   ],
   "source": [
    "train_data.size,test_data.size"
   ]
  },
  {
   "cell_type": "code",
   "execution_count": 27,
   "id": "d8cba20c",
   "metadata": {},
   "outputs": [],
   "source": [
    "## create a ARIMA model\n",
    "from statsmodels.tsa.arima_model import ARIMA\n",
    "model_ARIMA=ARIMA(train_data,order=(2,0,2))"
   ]
  },
  {
   "cell_type": "code",
   "execution_count": 28,
   "id": "8b389b15",
   "metadata": {},
   "outputs": [],
   "source": [
    "model_Arima_fit=model_ARIMA.fit()"
   ]
  },
  {
   "cell_type": "code",
   "execution_count": 29,
   "id": "c17da0c2",
   "metadata": {},
   "outputs": [
    {
     "data": {
      "text/html": [
       "<table class=\"simpletable\">\n",
       "<caption>ARMA Model Results</caption>\n",
       "<tr>\n",
       "  <th>Dep. Variable:</th>    <td>Log Return</td>    <th>  No. Observations:  </th>   <td>1357</td>   \n",
       "</tr>\n",
       "<tr>\n",
       "  <th>Model:</th>            <td>ARMA(2, 2)</td>    <th>  Log Likelihood     </th> <td>3390.293</td> \n",
       "</tr>\n",
       "<tr>\n",
       "  <th>Method:</th>             <td>css-mle</td>     <th>  S.D. of innovations</th>   <td>0.020</td>  \n",
       "</tr>\n",
       "<tr>\n",
       "  <th>Date:</th>          <td>Sun, 05 Jun 2022</td> <th>  AIC                </th> <td>-6768.586</td>\n",
       "</tr>\n",
       "<tr>\n",
       "  <th>Time:</th>              <td>06:54:32</td>     <th>  BIC                </th> <td>-6737.308</td>\n",
       "</tr>\n",
       "<tr>\n",
       "  <th>Sample:</th>                <td>0</td>        <th>  HQIC               </th> <td>-6756.876</td>\n",
       "</tr>\n",
       "<tr>\n",
       "  <th></th>                       <td> </td>        <th>                     </th>     <td> </td>    \n",
       "</tr>\n",
       "</table>\n",
       "<table class=\"simpletable\">\n",
       "<tr>\n",
       "          <td></td>            <th>coef</th>     <th>std err</th>      <th>z</th>      <th>P>|z|</th>  <th>[0.025</th>    <th>0.975]</th>  \n",
       "</tr>\n",
       "<tr>\n",
       "  <th>const</th>            <td>    0.0006</td> <td>    0.001</td> <td>    1.090</td> <td> 0.276</td> <td>   -0.000</td> <td>    0.002</td>\n",
       "</tr>\n",
       "<tr>\n",
       "  <th>ar.L1.Log Return</th> <td>   -0.9552</td> <td>    0.099</td> <td>   -9.600</td> <td> 0.000</td> <td>   -1.150</td> <td>   -0.760</td>\n",
       "</tr>\n",
       "<tr>\n",
       "  <th>ar.L2.Log Return</th> <td>   -0.7650</td> <td>    0.111</td> <td>   -6.874</td> <td> 0.000</td> <td>   -0.983</td> <td>   -0.547</td>\n",
       "</tr>\n",
       "<tr>\n",
       "  <th>ma.L1.Log Return</th> <td>    1.0368</td> <td>    0.085</td> <td>   12.155</td> <td> 0.000</td> <td>    0.870</td> <td>    1.204</td>\n",
       "</tr>\n",
       "<tr>\n",
       "  <th>ma.L2.Log Return</th> <td>    0.8165</td> <td>    0.102</td> <td>    7.969</td> <td> 0.000</td> <td>    0.616</td> <td>    1.017</td>\n",
       "</tr>\n",
       "</table>\n",
       "<table class=\"simpletable\">\n",
       "<caption>Roots</caption>\n",
       "<tr>\n",
       "    <td></td>   <th>            Real</th>  <th>         Imaginary</th> <th>         Modulus</th>  <th>        Frequency</th>\n",
       "</tr>\n",
       "<tr>\n",
       "  <th>AR.1</th> <td>          -0.6243</td> <td>          -0.9578j</td> <td>           1.1433</td> <td>          -0.3419</td>\n",
       "</tr>\n",
       "<tr>\n",
       "  <th>AR.2</th> <td>          -0.6243</td> <td>          +0.9578j</td> <td>           1.1433</td> <td>           0.3419</td>\n",
       "</tr>\n",
       "<tr>\n",
       "  <th>MA.1</th> <td>          -0.6349</td> <td>          -0.9065j</td> <td>           1.1067</td> <td>          -0.3472</td>\n",
       "</tr>\n",
       "<tr>\n",
       "  <th>MA.2</th> <td>          -0.6349</td> <td>          +0.9065j</td> <td>           1.1067</td> <td>           0.3472</td>\n",
       "</tr>\n",
       "</table>"
      ],
      "text/plain": [
       "<class 'statsmodels.iolib.summary.Summary'>\n",
       "\"\"\"\n",
       "                              ARMA Model Results                              \n",
       "==============================================================================\n",
       "Dep. Variable:             Log Return   No. Observations:                 1357\n",
       "Model:                     ARMA(2, 2)   Log Likelihood                3390.293\n",
       "Method:                       css-mle   S.D. of innovations              0.020\n",
       "Date:                Sun, 05 Jun 2022   AIC                          -6768.586\n",
       "Time:                        06:54:32   BIC                          -6737.308\n",
       "Sample:                             0   HQIC                         -6756.876\n",
       "                                                                              \n",
       "====================================================================================\n",
       "                       coef    std err          z      P>|z|      [0.025      0.975]\n",
       "------------------------------------------------------------------------------------\n",
       "const                0.0006      0.001      1.090      0.276      -0.000       0.002\n",
       "ar.L1.Log Return    -0.9552      0.099     -9.600      0.000      -1.150      -0.760\n",
       "ar.L2.Log Return    -0.7650      0.111     -6.874      0.000      -0.983      -0.547\n",
       "ma.L1.Log Return     1.0368      0.085     12.155      0.000       0.870       1.204\n",
       "ma.L2.Log Return     0.8165      0.102      7.969      0.000       0.616       1.017\n",
       "                                    Roots                                    \n",
       "=============================================================================\n",
       "                  Real          Imaginary           Modulus         Frequency\n",
       "-----------------------------------------------------------------------------\n",
       "AR.1           -0.6243           -0.9578j            1.1433           -0.3419\n",
       "AR.2           -0.6243           +0.9578j            1.1433            0.3419\n",
       "MA.1           -0.6349           -0.9065j            1.1067           -0.3472\n",
       "MA.2           -0.6349           +0.9065j            1.1067            0.3472\n",
       "-----------------------------------------------------------------------------\n",
       "\"\"\""
      ]
     },
     "execution_count": 29,
     "metadata": {},
     "output_type": "execute_result"
    }
   ],
   "source": [
    "model_Arima_fit.summary()"
   ]
  },
  {
   "cell_type": "code",
   "execution_count": 30,
   "id": "f2a62b1f",
   "metadata": {},
   "outputs": [
    {
     "data": {
      "text/plain": [
       "(1357, 1938)"
      ]
     },
     "execution_count": 30,
     "metadata": {},
     "output_type": "execute_result"
    }
   ],
   "source": [
    "st = len(train_data)\n",
    "ed = st+len(test_data)-1\n",
    "st,ed"
   ]
  },
  {
   "cell_type": "code",
   "execution_count": 31,
   "id": "ff3144c8",
   "metadata": {},
   "outputs": [
    {
     "data": {
      "text/plain": [
       "581"
      ]
     },
     "execution_count": 31,
     "metadata": {},
     "output_type": "execute_result"
    }
   ],
   "source": [
    "ed-st"
   ]
  },
  {
   "cell_type": "code",
   "execution_count": 32,
   "id": "6a4775cf",
   "metadata": {},
   "outputs": [],
   "source": [
    "# make prediction\n",
    "pred=model_Arima_fit.predict(start=st,end=ed)"
   ]
  },
  {
   "cell_type": "code",
   "execution_count": 33,
   "id": "d9541e43",
   "metadata": {
    "collapsed": true
   },
   "outputs": [
    {
     "data": {
      "text/plain": [
       "1358    0.002382\n",
       "1359    0.000102\n",
       "1360   -0.000239\n",
       "1361    0.001831\n",
       "1362    0.000114\n",
       "1363    0.000171\n",
       "1364    0.001430\n",
       "1365    0.000184\n",
       "1366    0.000411\n",
       "1367    0.001147\n",
       "1368    0.000270\n",
       "1369    0.000544\n",
       "1370    0.000953\n",
       "1371    0.000353\n",
       "1372    0.000614\n",
       "1373    0.000824\n",
       "1374    0.000424\n",
       "1375    0.000645\n",
       "1376    0.000740\n",
       "1377    0.000480\n",
       "1378    0.000656\n",
       "1379    0.000687\n",
       "1380    0.000523\n",
       "1381    0.000656\n",
       "1382    0.000654\n",
       "dtype: float64"
      ]
     },
     "execution_count": 33,
     "metadata": {},
     "output_type": "execute_result"
    }
   ],
   "source": [
    "pred[:25]"
   ]
  },
  {
   "cell_type": "code",
   "execution_count": 34,
   "id": "0d29bda0",
   "metadata": {
    "collapsed": true
   },
   "outputs": [
    {
     "data": {
      "text/plain": [
       "1358    0.032164\n",
       "1359   -0.017766\n",
       "1360   -0.003318\n",
       "1361    0.004044\n",
       "1362    0.007319\n",
       "1363   -0.018629\n",
       "1364   -0.025313\n",
       "1365   -0.030713\n",
       "1366   -0.002671\n",
       "1367    0.015108\n",
       "1368   -0.017933\n",
       "1369    0.014382\n",
       "1370    0.014225\n",
       "1371   -0.017066\n",
       "1372    0.021700\n",
       "1373   -0.002362\n",
       "1374   -0.032784\n",
       "1375   -0.034704\n",
       "1376    0.043219\n",
       "1377   -0.036915\n",
       "1378   -0.071956\n",
       "1379    0.046962\n",
       "1380   -0.081311\n",
       "1381    0.032781\n",
       "1382   -0.026371\n",
       "Name: Log Return, dtype: float64"
      ]
     },
     "execution_count": 34,
     "metadata": {},
     "output_type": "execute_result"
    }
   ],
   "source": [
    "test_data[:25]"
   ]
  },
  {
   "cell_type": "code",
   "execution_count": 35,
   "id": "71a7d6a8",
   "metadata": {},
   "outputs": [],
   "source": [
    "#taking exponential of predicted value\n",
    "pred_exp = np.exp(pred)"
   ]
  },
  {
   "cell_type": "code",
   "execution_count": 36,
   "id": "d938a9a9",
   "metadata": {
    "collapsed": true
   },
   "outputs": [
    {
     "data": {
      "text/plain": [
       "1358    1.002384\n",
       "1359    1.000102\n",
       "1360    0.999761\n",
       "1361    1.001832\n",
       "1362    1.000114\n",
       "1363    1.000171\n",
       "1364    1.001431\n",
       "1365    1.000184\n",
       "1366    1.000411\n",
       "1367    1.001148\n",
       "1368    1.000270\n",
       "1369    1.000545\n",
       "1370    1.000954\n",
       "1371    1.000353\n",
       "1372    1.000614\n",
       "1373    1.000824\n",
       "1374    1.000424\n",
       "1375    1.000645\n",
       "1376    1.000740\n",
       "1377    1.000480\n",
       "1378    1.000656\n",
       "1379    1.000687\n",
       "1380    1.000523\n",
       "1381    1.000656\n",
       "1382    1.000654\n",
       "dtype: float64"
      ]
     },
     "execution_count": 36,
     "metadata": {},
     "output_type": "execute_result"
    }
   ],
   "source": [
    "pred_exp[:25]"
   ]
  },
  {
   "cell_type": "code",
   "execution_count": 37,
   "id": "b89122fe",
   "metadata": {},
   "outputs": [],
   "source": [
    "#taking exponential of test data value\n",
    "test_exp = np.exp(test_data)"
   ]
  },
  {
   "cell_type": "code",
   "execution_count": 38,
   "id": "9ffd7afe",
   "metadata": {
    "collapsed": true
   },
   "outputs": [
    {
     "data": {
      "text/plain": [
       "1358    1.032687\n",
       "1359    0.982390\n",
       "1360    0.996687\n",
       "1361    1.004052\n",
       "1362    1.007346\n",
       "1363    0.981543\n",
       "1364    0.975005\n",
       "1365    0.969754\n",
       "1366    0.997332\n",
       "1367    1.015223\n",
       "1368    0.982227\n",
       "1369    1.014486\n",
       "1370    1.014327\n",
       "1371    0.983079\n",
       "1372    1.021937\n",
       "1373    0.997641\n",
       "1374    0.967748\n",
       "1375    0.965891\n",
       "1376    1.044167\n",
       "1377    0.963758\n",
       "1378    0.930572\n",
       "1379    1.048082\n",
       "1380    0.921907\n",
       "1381    1.033324\n",
       "1382    0.973973\n",
       "Name: Log Return, dtype: float64"
      ]
     },
     "execution_count": 38,
     "metadata": {},
     "output_type": "execute_result"
    }
   ],
   "source": [
    "test_exp[:25]"
   ]
  },
  {
   "cell_type": "code",
   "execution_count": 39,
   "id": "2c15e495",
   "metadata": {},
   "outputs": [],
   "source": [
    "#making new data frame\n",
    "new1 = df1['Adj Close'].iloc[1358:]"
   ]
  },
  {
   "cell_type": "code",
   "execution_count": 40,
   "id": "1c7cf805",
   "metadata": {
    "collapsed": true
   },
   "outputs": [
    {
     "data": {
      "text/plain": [
       "1358    224.309998\n",
       "1359    220.360001\n",
       "1360    219.630005\n",
       "1361    220.520004\n",
       "1362    222.139999\n",
       "           ...    \n",
       "1935     94.480003\n",
       "1936     93.410004\n",
       "1937     96.050003\n",
       "1938     93.379997\n",
       "1939     97.500000\n",
       "Name: Adj Close, Length: 582, dtype: float64"
      ]
     },
     "execution_count": 40,
     "metadata": {},
     "output_type": "execute_result"
    }
   ],
   "source": [
    "new1"
   ]
  },
  {
   "cell_type": "code",
   "execution_count": 41,
   "id": "724f1378",
   "metadata": {},
   "outputs": [],
   "source": [
    "new1 = pd.DataFrame(new1, columns = ['Adj Close'])"
   ]
  },
  {
   "cell_type": "code",
   "execution_count": 42,
   "id": "b455af97",
   "metadata": {
    "collapsed": true
   },
   "outputs": [
    {
     "data": {
      "text/html": [
       "<div>\n",
       "<style scoped>\n",
       "    .dataframe tbody tr th:only-of-type {\n",
       "        vertical-align: middle;\n",
       "    }\n",
       "\n",
       "    .dataframe tbody tr th {\n",
       "        vertical-align: top;\n",
       "    }\n",
       "\n",
       "    .dataframe thead th {\n",
       "        text-align: right;\n",
       "    }\n",
       "</style>\n",
       "<table border=\"1\" class=\"dataframe\">\n",
       "  <thead>\n",
       "    <tr style=\"text-align: right;\">\n",
       "      <th></th>\n",
       "      <th>Adj Close</th>\n",
       "    </tr>\n",
       "  </thead>\n",
       "  <tbody>\n",
       "    <tr>\n",
       "      <th>1358</th>\n",
       "      <td>224.309998</td>\n",
       "    </tr>\n",
       "    <tr>\n",
       "      <th>1359</th>\n",
       "      <td>220.360001</td>\n",
       "    </tr>\n",
       "    <tr>\n",
       "      <th>1360</th>\n",
       "      <td>219.630005</td>\n",
       "    </tr>\n",
       "    <tr>\n",
       "      <th>1361</th>\n",
       "      <td>220.520004</td>\n",
       "    </tr>\n",
       "    <tr>\n",
       "      <th>1362</th>\n",
       "      <td>222.139999</td>\n",
       "    </tr>\n",
       "    <tr>\n",
       "      <th>...</th>\n",
       "      <td>...</td>\n",
       "    </tr>\n",
       "    <tr>\n",
       "      <th>1935</th>\n",
       "      <td>94.480003</td>\n",
       "    </tr>\n",
       "    <tr>\n",
       "      <th>1936</th>\n",
       "      <td>93.410004</td>\n",
       "    </tr>\n",
       "    <tr>\n",
       "      <th>1937</th>\n",
       "      <td>96.050003</td>\n",
       "    </tr>\n",
       "    <tr>\n",
       "      <th>1938</th>\n",
       "      <td>93.379997</td>\n",
       "    </tr>\n",
       "    <tr>\n",
       "      <th>1939</th>\n",
       "      <td>97.500000</td>\n",
       "    </tr>\n",
       "  </tbody>\n",
       "</table>\n",
       "<p>582 rows × 1 columns</p>\n",
       "</div>"
      ],
      "text/plain": [
       "       Adj Close\n",
       "1358  224.309998\n",
       "1359  220.360001\n",
       "1360  219.630005\n",
       "1361  220.520004\n",
       "1362  222.139999\n",
       "...          ...\n",
       "1935   94.480003\n",
       "1936   93.410004\n",
       "1937   96.050003\n",
       "1938   93.379997\n",
       "1939   97.500000\n",
       "\n",
       "[582 rows x 1 columns]"
      ]
     },
     "execution_count": 42,
     "metadata": {},
     "output_type": "execute_result"
    }
   ],
   "source": [
    "new1"
   ]
  },
  {
   "cell_type": "code",
   "execution_count": 43,
   "id": "61bdf397",
   "metadata": {},
   "outputs": [],
   "source": [
    "new1[\"test data\"] = test_exp"
   ]
  },
  {
   "cell_type": "code",
   "execution_count": 44,
   "id": "ebdfd173",
   "metadata": {
    "collapsed": true
   },
   "outputs": [
    {
     "data": {
      "text/html": [
       "<div>\n",
       "<style scoped>\n",
       "    .dataframe tbody tr th:only-of-type {\n",
       "        vertical-align: middle;\n",
       "    }\n",
       "\n",
       "    .dataframe tbody tr th {\n",
       "        vertical-align: top;\n",
       "    }\n",
       "\n",
       "    .dataframe thead th {\n",
       "        text-align: right;\n",
       "    }\n",
       "</style>\n",
       "<table border=\"1\" class=\"dataframe\">\n",
       "  <thead>\n",
       "    <tr style=\"text-align: right;\">\n",
       "      <th></th>\n",
       "      <th>Adj Close</th>\n",
       "      <th>test data</th>\n",
       "    </tr>\n",
       "  </thead>\n",
       "  <tbody>\n",
       "    <tr>\n",
       "      <th>1358</th>\n",
       "      <td>224.309998</td>\n",
       "      <td>1.032687</td>\n",
       "    </tr>\n",
       "    <tr>\n",
       "      <th>1359</th>\n",
       "      <td>220.360001</td>\n",
       "      <td>0.982390</td>\n",
       "    </tr>\n",
       "    <tr>\n",
       "      <th>1360</th>\n",
       "      <td>219.630005</td>\n",
       "      <td>0.996687</td>\n",
       "    </tr>\n",
       "    <tr>\n",
       "      <th>1361</th>\n",
       "      <td>220.520004</td>\n",
       "      <td>1.004052</td>\n",
       "    </tr>\n",
       "    <tr>\n",
       "      <th>1362</th>\n",
       "      <td>222.139999</td>\n",
       "      <td>1.007346</td>\n",
       "    </tr>\n",
       "    <tr>\n",
       "      <th>...</th>\n",
       "      <td>...</td>\n",
       "      <td>...</td>\n",
       "    </tr>\n",
       "    <tr>\n",
       "      <th>1935</th>\n",
       "      <td>94.480003</td>\n",
       "      <td>1.147856</td>\n",
       "    </tr>\n",
       "    <tr>\n",
       "      <th>1936</th>\n",
       "      <td>93.410004</td>\n",
       "      <td>0.988675</td>\n",
       "    </tr>\n",
       "    <tr>\n",
       "      <th>1937</th>\n",
       "      <td>96.050003</td>\n",
       "      <td>1.028262</td>\n",
       "    </tr>\n",
       "    <tr>\n",
       "      <th>1938</th>\n",
       "      <td>93.379997</td>\n",
       "      <td>0.972202</td>\n",
       "    </tr>\n",
       "    <tr>\n",
       "      <th>1939</th>\n",
       "      <td>97.500000</td>\n",
       "      <td>1.044121</td>\n",
       "    </tr>\n",
       "  </tbody>\n",
       "</table>\n",
       "<p>582 rows × 2 columns</p>\n",
       "</div>"
      ],
      "text/plain": [
       "       Adj Close  test data\n",
       "1358  224.309998   1.032687\n",
       "1359  220.360001   0.982390\n",
       "1360  219.630005   0.996687\n",
       "1361  220.520004   1.004052\n",
       "1362  222.139999   1.007346\n",
       "...          ...        ...\n",
       "1935   94.480003   1.147856\n",
       "1936   93.410004   0.988675\n",
       "1937   96.050003   1.028262\n",
       "1938   93.379997   0.972202\n",
       "1939   97.500000   1.044121\n",
       "\n",
       "[582 rows x 2 columns]"
      ]
     },
     "execution_count": 44,
     "metadata": {},
     "output_type": "execute_result"
    }
   ],
   "source": [
    "new1"
   ]
  },
  {
   "cell_type": "code",
   "execution_count": 45,
   "id": "11a10a0a",
   "metadata": {},
   "outputs": [],
   "source": [
    "new1[\"pred data\"] = pred_exp"
   ]
  },
  {
   "cell_type": "code",
   "execution_count": 46,
   "id": "6744e2ae",
   "metadata": {
    "collapsed": true
   },
   "outputs": [
    {
     "data": {
      "text/html": [
       "<div>\n",
       "<style scoped>\n",
       "    .dataframe tbody tr th:only-of-type {\n",
       "        vertical-align: middle;\n",
       "    }\n",
       "\n",
       "    .dataframe tbody tr th {\n",
       "        vertical-align: top;\n",
       "    }\n",
       "\n",
       "    .dataframe thead th {\n",
       "        text-align: right;\n",
       "    }\n",
       "</style>\n",
       "<table border=\"1\" class=\"dataframe\">\n",
       "  <thead>\n",
       "    <tr style=\"text-align: right;\">\n",
       "      <th></th>\n",
       "      <th>Adj Close</th>\n",
       "      <th>test data</th>\n",
       "      <th>pred data</th>\n",
       "    </tr>\n",
       "  </thead>\n",
       "  <tbody>\n",
       "    <tr>\n",
       "      <th>1358</th>\n",
       "      <td>224.309998</td>\n",
       "      <td>1.032687</td>\n",
       "      <td>1.002384</td>\n",
       "    </tr>\n",
       "    <tr>\n",
       "      <th>1359</th>\n",
       "      <td>220.360001</td>\n",
       "      <td>0.982390</td>\n",
       "      <td>1.000102</td>\n",
       "    </tr>\n",
       "    <tr>\n",
       "      <th>1360</th>\n",
       "      <td>219.630005</td>\n",
       "      <td>0.996687</td>\n",
       "      <td>0.999761</td>\n",
       "    </tr>\n",
       "    <tr>\n",
       "      <th>1361</th>\n",
       "      <td>220.520004</td>\n",
       "      <td>1.004052</td>\n",
       "      <td>1.001832</td>\n",
       "    </tr>\n",
       "    <tr>\n",
       "      <th>1362</th>\n",
       "      <td>222.139999</td>\n",
       "      <td>1.007346</td>\n",
       "      <td>1.000114</td>\n",
       "    </tr>\n",
       "    <tr>\n",
       "      <th>...</th>\n",
       "      <td>...</td>\n",
       "      <td>...</td>\n",
       "      <td>...</td>\n",
       "    </tr>\n",
       "    <tr>\n",
       "      <th>1935</th>\n",
       "      <td>94.480003</td>\n",
       "      <td>1.147856</td>\n",
       "      <td>1.000618</td>\n",
       "    </tr>\n",
       "    <tr>\n",
       "      <th>1936</th>\n",
       "      <td>93.410004</td>\n",
       "      <td>0.988675</td>\n",
       "      <td>1.000618</td>\n",
       "    </tr>\n",
       "    <tr>\n",
       "      <th>1937</th>\n",
       "      <td>96.050003</td>\n",
       "      <td>1.028262</td>\n",
       "      <td>1.000618</td>\n",
       "    </tr>\n",
       "    <tr>\n",
       "      <th>1938</th>\n",
       "      <td>93.379997</td>\n",
       "      <td>0.972202</td>\n",
       "      <td>1.000618</td>\n",
       "    </tr>\n",
       "    <tr>\n",
       "      <th>1939</th>\n",
       "      <td>97.500000</td>\n",
       "      <td>1.044121</td>\n",
       "      <td>1.000618</td>\n",
       "    </tr>\n",
       "  </tbody>\n",
       "</table>\n",
       "<p>582 rows × 3 columns</p>\n",
       "</div>"
      ],
      "text/plain": [
       "       Adj Close  test data  pred data\n",
       "1358  224.309998   1.032687   1.002384\n",
       "1359  220.360001   0.982390   1.000102\n",
       "1360  219.630005   0.996687   0.999761\n",
       "1361  220.520004   1.004052   1.001832\n",
       "1362  222.139999   1.007346   1.000114\n",
       "...          ...        ...        ...\n",
       "1935   94.480003   1.147856   1.000618\n",
       "1936   93.410004   0.988675   1.000618\n",
       "1937   96.050003   1.028262   1.000618\n",
       "1938   93.379997   0.972202   1.000618\n",
       "1939   97.500000   1.044121   1.000618\n",
       "\n",
       "[582 rows x 3 columns]"
      ]
     },
     "execution_count": 46,
     "metadata": {},
     "output_type": "execute_result"
    }
   ],
   "source": [
    "new1"
   ]
  },
  {
   "cell_type": "code",
   "execution_count": 47,
   "id": "ec186767",
   "metadata": {},
   "outputs": [],
   "source": [
    "new1['actual_test_prod'] = new1['Adj Close']*new1['test data']"
   ]
  },
  {
   "cell_type": "code",
   "execution_count": 48,
   "id": "c26a9d00",
   "metadata": {
    "collapsed": true
   },
   "outputs": [
    {
     "data": {
      "text/html": [
       "<div>\n",
       "<style scoped>\n",
       "    .dataframe tbody tr th:only-of-type {\n",
       "        vertical-align: middle;\n",
       "    }\n",
       "\n",
       "    .dataframe tbody tr th {\n",
       "        vertical-align: top;\n",
       "    }\n",
       "\n",
       "    .dataframe thead th {\n",
       "        text-align: right;\n",
       "    }\n",
       "</style>\n",
       "<table border=\"1\" class=\"dataframe\">\n",
       "  <thead>\n",
       "    <tr style=\"text-align: right;\">\n",
       "      <th></th>\n",
       "      <th>Adj Close</th>\n",
       "      <th>test data</th>\n",
       "      <th>pred data</th>\n",
       "      <th>actual_test_prod</th>\n",
       "    </tr>\n",
       "  </thead>\n",
       "  <tbody>\n",
       "    <tr>\n",
       "      <th>1358</th>\n",
       "      <td>224.309998</td>\n",
       "      <td>1.032687</td>\n",
       "      <td>1.002384</td>\n",
       "      <td>231.642067</td>\n",
       "    </tr>\n",
       "    <tr>\n",
       "      <th>1359</th>\n",
       "      <td>220.360001</td>\n",
       "      <td>0.982390</td>\n",
       "      <td>1.000102</td>\n",
       "      <td>216.479561</td>\n",
       "    </tr>\n",
       "    <tr>\n",
       "      <th>1360</th>\n",
       "      <td>219.630005</td>\n",
       "      <td>0.996687</td>\n",
       "      <td>0.999761</td>\n",
       "      <td>218.902427</td>\n",
       "    </tr>\n",
       "    <tr>\n",
       "      <th>1361</th>\n",
       "      <td>220.520004</td>\n",
       "      <td>1.004052</td>\n",
       "      <td>1.001832</td>\n",
       "      <td>221.413610</td>\n",
       "    </tr>\n",
       "    <tr>\n",
       "      <th>1362</th>\n",
       "      <td>222.139999</td>\n",
       "      <td>1.007346</td>\n",
       "      <td>1.000114</td>\n",
       "      <td>223.771895</td>\n",
       "    </tr>\n",
       "    <tr>\n",
       "      <th>...</th>\n",
       "      <td>...</td>\n",
       "      <td>...</td>\n",
       "      <td>...</td>\n",
       "      <td>...</td>\n",
       "    </tr>\n",
       "    <tr>\n",
       "      <th>1935</th>\n",
       "      <td>94.480003</td>\n",
       "      <td>1.147856</td>\n",
       "      <td>1.000618</td>\n",
       "      <td>108.449414</td>\n",
       "    </tr>\n",
       "    <tr>\n",
       "      <th>1936</th>\n",
       "      <td>93.410004</td>\n",
       "      <td>0.988675</td>\n",
       "      <td>1.000618</td>\n",
       "      <td>92.352122</td>\n",
       "    </tr>\n",
       "    <tr>\n",
       "      <th>1937</th>\n",
       "      <td>96.050003</td>\n",
       "      <td>1.028262</td>\n",
       "      <td>1.000618</td>\n",
       "      <td>98.764615</td>\n",
       "    </tr>\n",
       "    <tr>\n",
       "      <th>1938</th>\n",
       "      <td>93.379997</td>\n",
       "      <td>0.972202</td>\n",
       "      <td>1.000618</td>\n",
       "      <td>90.784212</td>\n",
       "    </tr>\n",
       "    <tr>\n",
       "      <th>1939</th>\n",
       "      <td>97.500000</td>\n",
       "      <td>1.044121</td>\n",
       "      <td>1.000618</td>\n",
       "      <td>101.801781</td>\n",
       "    </tr>\n",
       "  </tbody>\n",
       "</table>\n",
       "<p>582 rows × 4 columns</p>\n",
       "</div>"
      ],
      "text/plain": [
       "       Adj Close  test data  pred data  actual_test_prod\n",
       "1358  224.309998   1.032687   1.002384        231.642067\n",
       "1359  220.360001   0.982390   1.000102        216.479561\n",
       "1360  219.630005   0.996687   0.999761        218.902427\n",
       "1361  220.520004   1.004052   1.001832        221.413610\n",
       "1362  222.139999   1.007346   1.000114        223.771895\n",
       "...          ...        ...        ...               ...\n",
       "1935   94.480003   1.147856   1.000618        108.449414\n",
       "1936   93.410004   0.988675   1.000618         92.352122\n",
       "1937   96.050003   1.028262   1.000618         98.764615\n",
       "1938   93.379997   0.972202   1.000618         90.784212\n",
       "1939   97.500000   1.044121   1.000618        101.801781\n",
       "\n",
       "[582 rows x 4 columns]"
      ]
     },
     "execution_count": 48,
     "metadata": {},
     "output_type": "execute_result"
    }
   ],
   "source": [
    "new1"
   ]
  },
  {
   "cell_type": "code",
   "execution_count": 49,
   "id": "132de8a9",
   "metadata": {},
   "outputs": [],
   "source": [
    "new1['actual_pred_prod'] = new1['Adj Close']*new1['pred data']"
   ]
  },
  {
   "cell_type": "code",
   "execution_count": 50,
   "id": "b334912d",
   "metadata": {
    "collapsed": true
   },
   "outputs": [
    {
     "data": {
      "text/html": [
       "<div>\n",
       "<style scoped>\n",
       "    .dataframe tbody tr th:only-of-type {\n",
       "        vertical-align: middle;\n",
       "    }\n",
       "\n",
       "    .dataframe tbody tr th {\n",
       "        vertical-align: top;\n",
       "    }\n",
       "\n",
       "    .dataframe thead th {\n",
       "        text-align: right;\n",
       "    }\n",
       "</style>\n",
       "<table border=\"1\" class=\"dataframe\">\n",
       "  <thead>\n",
       "    <tr style=\"text-align: right;\">\n",
       "      <th></th>\n",
       "      <th>Adj Close</th>\n",
       "      <th>test data</th>\n",
       "      <th>pred data</th>\n",
       "      <th>actual_test_prod</th>\n",
       "      <th>actual_pred_prod</th>\n",
       "    </tr>\n",
       "  </thead>\n",
       "  <tbody>\n",
       "    <tr>\n",
       "      <th>1358</th>\n",
       "      <td>224.309998</td>\n",
       "      <td>1.032687</td>\n",
       "      <td>1.002384</td>\n",
       "      <td>231.642067</td>\n",
       "      <td>224.844862</td>\n",
       "    </tr>\n",
       "    <tr>\n",
       "      <th>1359</th>\n",
       "      <td>220.360001</td>\n",
       "      <td>0.982390</td>\n",
       "      <td>1.000102</td>\n",
       "      <td>216.479561</td>\n",
       "      <td>220.382372</td>\n",
       "    </tr>\n",
       "    <tr>\n",
       "      <th>1360</th>\n",
       "      <td>219.630005</td>\n",
       "      <td>0.996687</td>\n",
       "      <td>0.999761</td>\n",
       "      <td>218.902427</td>\n",
       "      <td>219.577574</td>\n",
       "    </tr>\n",
       "    <tr>\n",
       "      <th>1361</th>\n",
       "      <td>220.520004</td>\n",
       "      <td>1.004052</td>\n",
       "      <td>1.001832</td>\n",
       "      <td>221.413610</td>\n",
       "      <td>220.924056</td>\n",
       "    </tr>\n",
       "    <tr>\n",
       "      <th>1362</th>\n",
       "      <td>222.139999</td>\n",
       "      <td>1.007346</td>\n",
       "      <td>1.000114</td>\n",
       "      <td>223.771895</td>\n",
       "      <td>222.165381</td>\n",
       "    </tr>\n",
       "    <tr>\n",
       "      <th>...</th>\n",
       "      <td>...</td>\n",
       "      <td>...</td>\n",
       "      <td>...</td>\n",
       "      <td>...</td>\n",
       "      <td>...</td>\n",
       "    </tr>\n",
       "    <tr>\n",
       "      <th>1935</th>\n",
       "      <td>94.480003</td>\n",
       "      <td>1.147856</td>\n",
       "      <td>1.000618</td>\n",
       "      <td>108.449414</td>\n",
       "      <td>94.538379</td>\n",
       "    </tr>\n",
       "    <tr>\n",
       "      <th>1936</th>\n",
       "      <td>93.410004</td>\n",
       "      <td>0.988675</td>\n",
       "      <td>1.000618</td>\n",
       "      <td>92.352122</td>\n",
       "      <td>93.467718</td>\n",
       "    </tr>\n",
       "    <tr>\n",
       "      <th>1937</th>\n",
       "      <td>96.050003</td>\n",
       "      <td>1.028262</td>\n",
       "      <td>1.000618</td>\n",
       "      <td>98.764615</td>\n",
       "      <td>96.109349</td>\n",
       "    </tr>\n",
       "    <tr>\n",
       "      <th>1938</th>\n",
       "      <td>93.379997</td>\n",
       "      <td>0.972202</td>\n",
       "      <td>1.000618</td>\n",
       "      <td>90.784212</td>\n",
       "      <td>93.437693</td>\n",
       "    </tr>\n",
       "    <tr>\n",
       "      <th>1939</th>\n",
       "      <td>97.500000</td>\n",
       "      <td>1.044121</td>\n",
       "      <td>1.000618</td>\n",
       "      <td>101.801781</td>\n",
       "      <td>97.560241</td>\n",
       "    </tr>\n",
       "  </tbody>\n",
       "</table>\n",
       "<p>582 rows × 5 columns</p>\n",
       "</div>"
      ],
      "text/plain": [
       "       Adj Close  test data  pred data  actual_test_prod  actual_pred_prod\n",
       "1358  224.309998   1.032687   1.002384        231.642067        224.844862\n",
       "1359  220.360001   0.982390   1.000102        216.479561        220.382372\n",
       "1360  219.630005   0.996687   0.999761        218.902427        219.577574\n",
       "1361  220.520004   1.004052   1.001832        221.413610        220.924056\n",
       "1362  222.139999   1.007346   1.000114        223.771895        222.165381\n",
       "...          ...        ...        ...               ...               ...\n",
       "1935   94.480003   1.147856   1.000618        108.449414         94.538379\n",
       "1936   93.410004   0.988675   1.000618         92.352122         93.467718\n",
       "1937   96.050003   1.028262   1.000618         98.764615         96.109349\n",
       "1938   93.379997   0.972202   1.000618         90.784212         93.437693\n",
       "1939   97.500000   1.044121   1.000618        101.801781         97.560241\n",
       "\n",
       "[582 rows x 5 columns]"
      ]
     },
     "execution_count": 50,
     "metadata": {},
     "output_type": "execute_result"
    }
   ],
   "source": [
    "new1"
   ]
  },
  {
   "cell_type": "code",
   "execution_count": 51,
   "id": "e90f9a37",
   "metadata": {},
   "outputs": [],
   "source": [
    "new1[\"actual_test_data\"] = new1['actual_test_prod']"
   ]
  },
  {
   "cell_type": "code",
   "execution_count": 52,
   "id": "a8d552ac",
   "metadata": {},
   "outputs": [],
   "source": [
    "new1[\"actual_pred_data\"] = new1['actual_pred_prod']"
   ]
  },
  {
   "cell_type": "code",
   "execution_count": 53,
   "id": "3b170ae0",
   "metadata": {
    "collapsed": true
   },
   "outputs": [
    {
     "data": {
      "text/html": [
       "<div>\n",
       "<style scoped>\n",
       "    .dataframe tbody tr th:only-of-type {\n",
       "        vertical-align: middle;\n",
       "    }\n",
       "\n",
       "    .dataframe tbody tr th {\n",
       "        vertical-align: top;\n",
       "    }\n",
       "\n",
       "    .dataframe thead th {\n",
       "        text-align: right;\n",
       "    }\n",
       "</style>\n",
       "<table border=\"1\" class=\"dataframe\">\n",
       "  <thead>\n",
       "    <tr style=\"text-align: right;\">\n",
       "      <th></th>\n",
       "      <th>Adj Close</th>\n",
       "      <th>test data</th>\n",
       "      <th>pred data</th>\n",
       "      <th>actual_test_prod</th>\n",
       "      <th>actual_pred_prod</th>\n",
       "      <th>actual_test_data</th>\n",
       "      <th>actual_pred_data</th>\n",
       "    </tr>\n",
       "  </thead>\n",
       "  <tbody>\n",
       "    <tr>\n",
       "      <th>1358</th>\n",
       "      <td>224.309998</td>\n",
       "      <td>1.032687</td>\n",
       "      <td>1.002384</td>\n",
       "      <td>231.642067</td>\n",
       "      <td>224.844862</td>\n",
       "      <td>231.642067</td>\n",
       "      <td>224.844862</td>\n",
       "    </tr>\n",
       "    <tr>\n",
       "      <th>1359</th>\n",
       "      <td>220.360001</td>\n",
       "      <td>0.982390</td>\n",
       "      <td>1.000102</td>\n",
       "      <td>216.479561</td>\n",
       "      <td>220.382372</td>\n",
       "      <td>216.479561</td>\n",
       "      <td>220.382372</td>\n",
       "    </tr>\n",
       "    <tr>\n",
       "      <th>1360</th>\n",
       "      <td>219.630005</td>\n",
       "      <td>0.996687</td>\n",
       "      <td>0.999761</td>\n",
       "      <td>218.902427</td>\n",
       "      <td>219.577574</td>\n",
       "      <td>218.902427</td>\n",
       "      <td>219.577574</td>\n",
       "    </tr>\n",
       "    <tr>\n",
       "      <th>1361</th>\n",
       "      <td>220.520004</td>\n",
       "      <td>1.004052</td>\n",
       "      <td>1.001832</td>\n",
       "      <td>221.413610</td>\n",
       "      <td>220.924056</td>\n",
       "      <td>221.413610</td>\n",
       "      <td>220.924056</td>\n",
       "    </tr>\n",
       "    <tr>\n",
       "      <th>1362</th>\n",
       "      <td>222.139999</td>\n",
       "      <td>1.007346</td>\n",
       "      <td>1.000114</td>\n",
       "      <td>223.771895</td>\n",
       "      <td>222.165381</td>\n",
       "      <td>223.771895</td>\n",
       "      <td>222.165381</td>\n",
       "    </tr>\n",
       "    <tr>\n",
       "      <th>...</th>\n",
       "      <td>...</td>\n",
       "      <td>...</td>\n",
       "      <td>...</td>\n",
       "      <td>...</td>\n",
       "      <td>...</td>\n",
       "      <td>...</td>\n",
       "      <td>...</td>\n",
       "    </tr>\n",
       "    <tr>\n",
       "      <th>1935</th>\n",
       "      <td>94.480003</td>\n",
       "      <td>1.147856</td>\n",
       "      <td>1.000618</td>\n",
       "      <td>108.449414</td>\n",
       "      <td>94.538379</td>\n",
       "      <td>108.449414</td>\n",
       "      <td>94.538379</td>\n",
       "    </tr>\n",
       "    <tr>\n",
       "      <th>1936</th>\n",
       "      <td>93.410004</td>\n",
       "      <td>0.988675</td>\n",
       "      <td>1.000618</td>\n",
       "      <td>92.352122</td>\n",
       "      <td>93.467718</td>\n",
       "      <td>92.352122</td>\n",
       "      <td>93.467718</td>\n",
       "    </tr>\n",
       "    <tr>\n",
       "      <th>1937</th>\n",
       "      <td>96.050003</td>\n",
       "      <td>1.028262</td>\n",
       "      <td>1.000618</td>\n",
       "      <td>98.764615</td>\n",
       "      <td>96.109349</td>\n",
       "      <td>98.764615</td>\n",
       "      <td>96.109349</td>\n",
       "    </tr>\n",
       "    <tr>\n",
       "      <th>1938</th>\n",
       "      <td>93.379997</td>\n",
       "      <td>0.972202</td>\n",
       "      <td>1.000618</td>\n",
       "      <td>90.784212</td>\n",
       "      <td>93.437693</td>\n",
       "      <td>90.784212</td>\n",
       "      <td>93.437693</td>\n",
       "    </tr>\n",
       "    <tr>\n",
       "      <th>1939</th>\n",
       "      <td>97.500000</td>\n",
       "      <td>1.044121</td>\n",
       "      <td>1.000618</td>\n",
       "      <td>101.801781</td>\n",
       "      <td>97.560241</td>\n",
       "      <td>101.801781</td>\n",
       "      <td>97.560241</td>\n",
       "    </tr>\n",
       "  </tbody>\n",
       "</table>\n",
       "<p>582 rows × 7 columns</p>\n",
       "</div>"
      ],
      "text/plain": [
       "       Adj Close  test data  pred data  actual_test_prod  actual_pred_prod  \\\n",
       "1358  224.309998   1.032687   1.002384        231.642067        224.844862   \n",
       "1359  220.360001   0.982390   1.000102        216.479561        220.382372   \n",
       "1360  219.630005   0.996687   0.999761        218.902427        219.577574   \n",
       "1361  220.520004   1.004052   1.001832        221.413610        220.924056   \n",
       "1362  222.139999   1.007346   1.000114        223.771895        222.165381   \n",
       "...          ...        ...        ...               ...               ...   \n",
       "1935   94.480003   1.147856   1.000618        108.449414         94.538379   \n",
       "1936   93.410004   0.988675   1.000618         92.352122         93.467718   \n",
       "1937   96.050003   1.028262   1.000618         98.764615         96.109349   \n",
       "1938   93.379997   0.972202   1.000618         90.784212         93.437693   \n",
       "1939   97.500000   1.044121   1.000618        101.801781         97.560241   \n",
       "\n",
       "      actual_test_data  actual_pred_data  \n",
       "1358        231.642067        224.844862  \n",
       "1359        216.479561        220.382372  \n",
       "1360        218.902427        219.577574  \n",
       "1361        221.413610        220.924056  \n",
       "1362        223.771895        222.165381  \n",
       "...                ...               ...  \n",
       "1935        108.449414         94.538379  \n",
       "1936         92.352122         93.467718  \n",
       "1937         98.764615         96.109349  \n",
       "1938         90.784212         93.437693  \n",
       "1939        101.801781         97.560241  \n",
       "\n",
       "[582 rows x 7 columns]"
      ]
     },
     "execution_count": 53,
     "metadata": {},
     "output_type": "execute_result"
    }
   ],
   "source": [
    "new1"
   ]
  },
  {
   "cell_type": "code",
   "execution_count": 54,
   "id": "10f7ae40",
   "metadata": {},
   "outputs": [],
   "source": [
    "new1.drop(columns=['Adj Close','test data','pred data','actual_test_prod','actual_pred_prod'], inplace=True, axis=1)"
   ]
  },
  {
   "cell_type": "code",
   "execution_count": 55,
   "id": "9fdae1b7",
   "metadata": {
    "collapsed": true
   },
   "outputs": [
    {
     "data": {
      "text/html": [
       "<div>\n",
       "<style scoped>\n",
       "    .dataframe tbody tr th:only-of-type {\n",
       "        vertical-align: middle;\n",
       "    }\n",
       "\n",
       "    .dataframe tbody tr th {\n",
       "        vertical-align: top;\n",
       "    }\n",
       "\n",
       "    .dataframe thead th {\n",
       "        text-align: right;\n",
       "    }\n",
       "</style>\n",
       "<table border=\"1\" class=\"dataframe\">\n",
       "  <thead>\n",
       "    <tr style=\"text-align: right;\">\n",
       "      <th></th>\n",
       "      <th>actual_test_data</th>\n",
       "      <th>actual_pred_data</th>\n",
       "    </tr>\n",
       "  </thead>\n",
       "  <tbody>\n",
       "    <tr>\n",
       "      <th>1358</th>\n",
       "      <td>231.642067</td>\n",
       "      <td>224.844862</td>\n",
       "    </tr>\n",
       "    <tr>\n",
       "      <th>1359</th>\n",
       "      <td>216.479561</td>\n",
       "      <td>220.382372</td>\n",
       "    </tr>\n",
       "    <tr>\n",
       "      <th>1360</th>\n",
       "      <td>218.902427</td>\n",
       "      <td>219.577574</td>\n",
       "    </tr>\n",
       "    <tr>\n",
       "      <th>1361</th>\n",
       "      <td>221.413610</td>\n",
       "      <td>220.924056</td>\n",
       "    </tr>\n",
       "    <tr>\n",
       "      <th>1362</th>\n",
       "      <td>223.771895</td>\n",
       "      <td>222.165381</td>\n",
       "    </tr>\n",
       "    <tr>\n",
       "      <th>...</th>\n",
       "      <td>...</td>\n",
       "      <td>...</td>\n",
       "    </tr>\n",
       "    <tr>\n",
       "      <th>1935</th>\n",
       "      <td>108.449414</td>\n",
       "      <td>94.538379</td>\n",
       "    </tr>\n",
       "    <tr>\n",
       "      <th>1936</th>\n",
       "      <td>92.352122</td>\n",
       "      <td>93.467718</td>\n",
       "    </tr>\n",
       "    <tr>\n",
       "      <th>1937</th>\n",
       "      <td>98.764615</td>\n",
       "      <td>96.109349</td>\n",
       "    </tr>\n",
       "    <tr>\n",
       "      <th>1938</th>\n",
       "      <td>90.784212</td>\n",
       "      <td>93.437693</td>\n",
       "    </tr>\n",
       "    <tr>\n",
       "      <th>1939</th>\n",
       "      <td>101.801781</td>\n",
       "      <td>97.560241</td>\n",
       "    </tr>\n",
       "  </tbody>\n",
       "</table>\n",
       "<p>582 rows × 2 columns</p>\n",
       "</div>"
      ],
      "text/plain": [
       "      actual_test_data  actual_pred_data\n",
       "1358        231.642067        224.844862\n",
       "1359        216.479561        220.382372\n",
       "1360        218.902427        219.577574\n",
       "1361        221.413610        220.924056\n",
       "1362        223.771895        222.165381\n",
       "...                ...               ...\n",
       "1935        108.449414         94.538379\n",
       "1936         92.352122         93.467718\n",
       "1937         98.764615         96.109349\n",
       "1938         90.784212         93.437693\n",
       "1939        101.801781         97.560241\n",
       "\n",
       "[582 rows x 2 columns]"
      ]
     },
     "execution_count": 55,
     "metadata": {},
     "output_type": "execute_result"
    }
   ],
   "source": [
    "new1"
   ]
  },
  {
   "cell_type": "code",
   "execution_count": 56,
   "id": "8367172e",
   "metadata": {},
   "outputs": [
    {
     "data": {
      "text/plain": [
       "(582, 582)"
      ]
     },
     "execution_count": 56,
     "metadata": {},
     "output_type": "execute_result"
    }
   ],
   "source": [
    "new1['actual_test_data'].size,new1['actual_pred_data'].size"
   ]
  },
  {
   "cell_type": "code",
   "execution_count": 57,
   "id": "92b6cb1f",
   "metadata": {},
   "outputs": [
    {
     "data": {
      "image/png": "[encoded data removed]",
      "text/plain": [
       "<Figure size 1152x648 with 1 Axes>"
      ]
     },
     "metadata": {
      "needs_background": "light"
     },
     "output_type": "display_data"
    }
   ],
   "source": [
    "### Plotting \n",
    "f = plt.figure()\n",
    "f.set_figwidth(16)\n",
    "f.set_figheight(9)\n",
    "\n",
    "plt.plot(new1['actual_test_data'],linewidth = 2.5,color='lime',label='actual')\n",
    "plt.plot(new1['actual_pred_data'],color='red',label='pred')\n",
    "plt.legend()\n",
    "plt.show()"
   ]
  },
  {
   "cell_type": "code",
   "execution_count": 58,
   "id": "aa953d30",
   "metadata": {},
   "outputs": [
    {
     "data": {
      "text/plain": [
       "5.7530273136761"
      ]
     },
     "execution_count": 58,
     "metadata": {},
     "output_type": "execute_result"
    }
   ],
   "source": [
    "from sklearn.metrics import mean_squared_error\n",
    "mse = (mean_squared_error(new1['actual_test_data'],new1['actual_pred_data']))**(1/2)\n",
    "mse"
   ]
  },
  {
   "cell_type": "code",
   "execution_count": 59,
   "id": "388ab303",
   "metadata": {
    "collapsed": true
   },
   "outputs": [
    {
     "data": {
      "text/plain": [
       "1358    0.002382\n",
       "1359    0.000102\n",
       "1360   -0.000239\n",
       "1361    0.001831\n",
       "1362    0.000114\n",
       "          ...   \n",
       "1985    0.000618\n",
       "1986    0.000618\n",
       "1987    0.000618\n",
       "1988    0.000618\n",
       "1989    0.000618\n",
       "Length: 632, dtype: float64"
      ]
     },
     "execution_count": 59,
     "metadata": {},
     "output_type": "execute_result"
    }
   ],
   "source": [
    "# make prediction\n",
    "forecast=model_Arima_fit.predict(start=st,end=ed+50)\n",
    "forecast"
   ]
  },
  {
   "cell_type": "code",
   "execution_count": 60,
   "id": "e08fd1bd",
   "metadata": {},
   "outputs": [],
   "source": [
    "pred_exp3 = np.exp(forecast)"
   ]
  },
  {
   "cell_type": "code",
   "execution_count": 61,
   "id": "a866d7b2",
   "metadata": {
    "collapsed": true
   },
   "outputs": [
    {
     "data": {
      "text/html": [
       "<div>\n",
       "<style scoped>\n",
       "    .dataframe tbody tr th:only-of-type {\n",
       "        vertical-align: middle;\n",
       "    }\n",
       "\n",
       "    .dataframe tbody tr th {\n",
       "        vertical-align: top;\n",
       "    }\n",
       "\n",
       "    .dataframe thead th {\n",
       "        text-align: right;\n",
       "    }\n",
       "</style>\n",
       "<table border=\"1\" class=\"dataframe\">\n",
       "  <thead>\n",
       "    <tr style=\"text-align: right;\">\n",
       "      <th></th>\n",
       "      <th>forecast</th>\n",
       "    </tr>\n",
       "  </thead>\n",
       "  <tbody>\n",
       "    <tr>\n",
       "      <th>1358</th>\n",
       "      <td>1.002384</td>\n",
       "    </tr>\n",
       "    <tr>\n",
       "      <th>1359</th>\n",
       "      <td>1.000102</td>\n",
       "    </tr>\n",
       "    <tr>\n",
       "      <th>1360</th>\n",
       "      <td>0.999761</td>\n",
       "    </tr>\n",
       "    <tr>\n",
       "      <th>1361</th>\n",
       "      <td>1.001832</td>\n",
       "    </tr>\n",
       "    <tr>\n",
       "      <th>1362</th>\n",
       "      <td>1.000114</td>\n",
       "    </tr>\n",
       "    <tr>\n",
       "      <th>...</th>\n",
       "      <td>...</td>\n",
       "    </tr>\n",
       "    <tr>\n",
       "      <th>1985</th>\n",
       "      <td>1.000618</td>\n",
       "    </tr>\n",
       "    <tr>\n",
       "      <th>1986</th>\n",
       "      <td>1.000618</td>\n",
       "    </tr>\n",
       "    <tr>\n",
       "      <th>1987</th>\n",
       "      <td>1.000618</td>\n",
       "    </tr>\n",
       "    <tr>\n",
       "      <th>1988</th>\n",
       "      <td>1.000618</td>\n",
       "    </tr>\n",
       "    <tr>\n",
       "      <th>1989</th>\n",
       "      <td>1.000618</td>\n",
       "    </tr>\n",
       "  </tbody>\n",
       "</table>\n",
       "<p>632 rows × 1 columns</p>\n",
       "</div>"
      ],
      "text/plain": [
       "      forecast\n",
       "1358  1.002384\n",
       "1359  1.000102\n",
       "1360  0.999761\n",
       "1361  1.001832\n",
       "1362  1.000114\n",
       "...        ...\n",
       "1985  1.000618\n",
       "1986  1.000618\n",
       "1987  1.000618\n",
       "1988  1.000618\n",
       "1989  1.000618\n",
       "\n",
       "[632 rows x 1 columns]"
      ]
     },
     "execution_count": 61,
     "metadata": {},
     "output_type": "execute_result"
    }
   ],
   "source": [
    "forecastdf = pd.DataFrame(pred_exp3, columns = ['forecast'])\n",
    "forecastdf"
   ]
  },
  {
   "cell_type": "code",
   "execution_count": 62,
   "id": "bc274d0f",
   "metadata": {
    "collapsed": true
   },
   "outputs": [
    {
     "data": {
      "text/html": [
       "<div>\n",
       "<style scoped>\n",
       "    .dataframe tbody tr th:only-of-type {\n",
       "        vertical-align: middle;\n",
       "    }\n",
       "\n",
       "    .dataframe tbody tr th {\n",
       "        vertical-align: top;\n",
       "    }\n",
       "\n",
       "    .dataframe thead th {\n",
       "        text-align: right;\n",
       "    }\n",
       "</style>\n",
       "<table border=\"1\" class=\"dataframe\">\n",
       "  <thead>\n",
       "    <tr style=\"text-align: right;\">\n",
       "      <th></th>\n",
       "      <th>forecast</th>\n",
       "      <th>Adj Close</th>\n",
       "    </tr>\n",
       "  </thead>\n",
       "  <tbody>\n",
       "    <tr>\n",
       "      <th>1358</th>\n",
       "      <td>1.002384</td>\n",
       "      <td>224.309998</td>\n",
       "    </tr>\n",
       "    <tr>\n",
       "      <th>1359</th>\n",
       "      <td>1.000102</td>\n",
       "      <td>220.360001</td>\n",
       "    </tr>\n",
       "    <tr>\n",
       "      <th>1360</th>\n",
       "      <td>0.999761</td>\n",
       "      <td>219.630005</td>\n",
       "    </tr>\n",
       "    <tr>\n",
       "      <th>1361</th>\n",
       "      <td>1.001832</td>\n",
       "      <td>220.520004</td>\n",
       "    </tr>\n",
       "    <tr>\n",
       "      <th>1362</th>\n",
       "      <td>1.000114</td>\n",
       "      <td>222.139999</td>\n",
       "    </tr>\n",
       "    <tr>\n",
       "      <th>...</th>\n",
       "      <td>...</td>\n",
       "      <td>...</td>\n",
       "    </tr>\n",
       "    <tr>\n",
       "      <th>1985</th>\n",
       "      <td>1.000618</td>\n",
       "      <td>NaN</td>\n",
       "    </tr>\n",
       "    <tr>\n",
       "      <th>1986</th>\n",
       "      <td>1.000618</td>\n",
       "      <td>NaN</td>\n",
       "    </tr>\n",
       "    <tr>\n",
       "      <th>1987</th>\n",
       "      <td>1.000618</td>\n",
       "      <td>NaN</td>\n",
       "    </tr>\n",
       "    <tr>\n",
       "      <th>1988</th>\n",
       "      <td>1.000618</td>\n",
       "      <td>NaN</td>\n",
       "    </tr>\n",
       "    <tr>\n",
       "      <th>1989</th>\n",
       "      <td>1.000618</td>\n",
       "      <td>NaN</td>\n",
       "    </tr>\n",
       "  </tbody>\n",
       "</table>\n",
       "<p>632 rows × 2 columns</p>\n",
       "</div>"
      ],
      "text/plain": [
       "      forecast   Adj Close\n",
       "1358  1.002384  224.309998\n",
       "1359  1.000102  220.360001\n",
       "1360  0.999761  219.630005\n",
       "1361  1.001832  220.520004\n",
       "1362  1.000114  222.139999\n",
       "...        ...         ...\n",
       "1985  1.000618         NaN\n",
       "1986  1.000618         NaN\n",
       "1987  1.000618         NaN\n",
       "1988  1.000618         NaN\n",
       "1989  1.000618         NaN\n",
       "\n",
       "[632 rows x 2 columns]"
      ]
     },
     "execution_count": 62,
     "metadata": {},
     "output_type": "execute_result"
    }
   ],
   "source": [
    "forecastdf['Adj Close'] = df1['Adj Close'].iloc[1358:]\n",
    "forecastdf"
   ]
  },
  {
   "cell_type": "code",
   "execution_count": 63,
   "id": "14f2b1a1",
   "metadata": {
    "collapsed": true
   },
   "outputs": [
    {
     "data": {
      "text/html": [
       "<div>\n",
       "<style scoped>\n",
       "    .dataframe tbody tr th:only-of-type {\n",
       "        vertical-align: middle;\n",
       "    }\n",
       "\n",
       "    .dataframe tbody tr th {\n",
       "        vertical-align: top;\n",
       "    }\n",
       "\n",
       "    .dataframe thead th {\n",
       "        text-align: right;\n",
       "    }\n",
       "</style>\n",
       "<table border=\"1\" class=\"dataframe\">\n",
       "  <thead>\n",
       "    <tr style=\"text-align: right;\">\n",
       "      <th></th>\n",
       "      <th>forecast</th>\n",
       "      <th>Adj Close</th>\n",
       "    </tr>\n",
       "  </thead>\n",
       "  <tbody>\n",
       "    <tr>\n",
       "      <th>1939</th>\n",
       "      <td>1.000618</td>\n",
       "      <td>97.5</td>\n",
       "    </tr>\n",
       "    <tr>\n",
       "      <th>1940</th>\n",
       "      <td>1.000618</td>\n",
       "      <td>NaN</td>\n",
       "    </tr>\n",
       "    <tr>\n",
       "      <th>1941</th>\n",
       "      <td>1.000618</td>\n",
       "      <td>NaN</td>\n",
       "    </tr>\n",
       "    <tr>\n",
       "      <th>1942</th>\n",
       "      <td>1.000618</td>\n",
       "      <td>NaN</td>\n",
       "    </tr>\n",
       "    <tr>\n",
       "      <th>1943</th>\n",
       "      <td>1.000618</td>\n",
       "      <td>NaN</td>\n",
       "    </tr>\n",
       "    <tr>\n",
       "      <th>1944</th>\n",
       "      <td>1.000618</td>\n",
       "      <td>NaN</td>\n",
       "    </tr>\n",
       "    <tr>\n",
       "      <th>1945</th>\n",
       "      <td>1.000618</td>\n",
       "      <td>NaN</td>\n",
       "    </tr>\n",
       "    <tr>\n",
       "      <th>1946</th>\n",
       "      <td>1.000618</td>\n",
       "      <td>NaN</td>\n",
       "    </tr>\n",
       "    <tr>\n",
       "      <th>1947</th>\n",
       "      <td>1.000618</td>\n",
       "      <td>NaN</td>\n",
       "    </tr>\n",
       "    <tr>\n",
       "      <th>1948</th>\n",
       "      <td>1.000618</td>\n",
       "      <td>NaN</td>\n",
       "    </tr>\n",
       "    <tr>\n",
       "      <th>1949</th>\n",
       "      <td>1.000618</td>\n",
       "      <td>NaN</td>\n",
       "    </tr>\n",
       "    <tr>\n",
       "      <th>1950</th>\n",
       "      <td>1.000618</td>\n",
       "      <td>NaN</td>\n",
       "    </tr>\n",
       "    <tr>\n",
       "      <th>1951</th>\n",
       "      <td>1.000618</td>\n",
       "      <td>NaN</td>\n",
       "    </tr>\n",
       "    <tr>\n",
       "      <th>1952</th>\n",
       "      <td>1.000618</td>\n",
       "      <td>NaN</td>\n",
       "    </tr>\n",
       "    <tr>\n",
       "      <th>1953</th>\n",
       "      <td>1.000618</td>\n",
       "      <td>NaN</td>\n",
       "    </tr>\n",
       "    <tr>\n",
       "      <th>1954</th>\n",
       "      <td>1.000618</td>\n",
       "      <td>NaN</td>\n",
       "    </tr>\n",
       "    <tr>\n",
       "      <th>1955</th>\n",
       "      <td>1.000618</td>\n",
       "      <td>NaN</td>\n",
       "    </tr>\n",
       "    <tr>\n",
       "      <th>1956</th>\n",
       "      <td>1.000618</td>\n",
       "      <td>NaN</td>\n",
       "    </tr>\n",
       "    <tr>\n",
       "      <th>1957</th>\n",
       "      <td>1.000618</td>\n",
       "      <td>NaN</td>\n",
       "    </tr>\n",
       "    <tr>\n",
       "      <th>1958</th>\n",
       "      <td>1.000618</td>\n",
       "      <td>NaN</td>\n",
       "    </tr>\n",
       "    <tr>\n",
       "      <th>1959</th>\n",
       "      <td>1.000618</td>\n",
       "      <td>NaN</td>\n",
       "    </tr>\n",
       "    <tr>\n",
       "      <th>1960</th>\n",
       "      <td>1.000618</td>\n",
       "      <td>NaN</td>\n",
       "    </tr>\n",
       "    <tr>\n",
       "      <th>1961</th>\n",
       "      <td>1.000618</td>\n",
       "      <td>NaN</td>\n",
       "    </tr>\n",
       "    <tr>\n",
       "      <th>1962</th>\n",
       "      <td>1.000618</td>\n",
       "      <td>NaN</td>\n",
       "    </tr>\n",
       "    <tr>\n",
       "      <th>1963</th>\n",
       "      <td>1.000618</td>\n",
       "      <td>NaN</td>\n",
       "    </tr>\n",
       "    <tr>\n",
       "      <th>1964</th>\n",
       "      <td>1.000618</td>\n",
       "      <td>NaN</td>\n",
       "    </tr>\n",
       "    <tr>\n",
       "      <th>1965</th>\n",
       "      <td>1.000618</td>\n",
       "      <td>NaN</td>\n",
       "    </tr>\n",
       "    <tr>\n",
       "      <th>1966</th>\n",
       "      <td>1.000618</td>\n",
       "      <td>NaN</td>\n",
       "    </tr>\n",
       "    <tr>\n",
       "      <th>1967</th>\n",
       "      <td>1.000618</td>\n",
       "      <td>NaN</td>\n",
       "    </tr>\n",
       "    <tr>\n",
       "      <th>1968</th>\n",
       "      <td>1.000618</td>\n",
       "      <td>NaN</td>\n",
       "    </tr>\n",
       "    <tr>\n",
       "      <th>1969</th>\n",
       "      <td>1.000618</td>\n",
       "      <td>NaN</td>\n",
       "    </tr>\n",
       "    <tr>\n",
       "      <th>1970</th>\n",
       "      <td>1.000618</td>\n",
       "      <td>NaN</td>\n",
       "    </tr>\n",
       "    <tr>\n",
       "      <th>1971</th>\n",
       "      <td>1.000618</td>\n",
       "      <td>NaN</td>\n",
       "    </tr>\n",
       "    <tr>\n",
       "      <th>1972</th>\n",
       "      <td>1.000618</td>\n",
       "      <td>NaN</td>\n",
       "    </tr>\n",
       "    <tr>\n",
       "      <th>1973</th>\n",
       "      <td>1.000618</td>\n",
       "      <td>NaN</td>\n",
       "    </tr>\n",
       "    <tr>\n",
       "      <th>1974</th>\n",
       "      <td>1.000618</td>\n",
       "      <td>NaN</td>\n",
       "    </tr>\n",
       "    <tr>\n",
       "      <th>1975</th>\n",
       "      <td>1.000618</td>\n",
       "      <td>NaN</td>\n",
       "    </tr>\n",
       "    <tr>\n",
       "      <th>1976</th>\n",
       "      <td>1.000618</td>\n",
       "      <td>NaN</td>\n",
       "    </tr>\n",
       "    <tr>\n",
       "      <th>1977</th>\n",
       "      <td>1.000618</td>\n",
       "      <td>NaN</td>\n",
       "    </tr>\n",
       "    <tr>\n",
       "      <th>1978</th>\n",
       "      <td>1.000618</td>\n",
       "      <td>NaN</td>\n",
       "    </tr>\n",
       "    <tr>\n",
       "      <th>1979</th>\n",
       "      <td>1.000618</td>\n",
       "      <td>NaN</td>\n",
       "    </tr>\n",
       "    <tr>\n",
       "      <th>1980</th>\n",
       "      <td>1.000618</td>\n",
       "      <td>NaN</td>\n",
       "    </tr>\n",
       "    <tr>\n",
       "      <th>1981</th>\n",
       "      <td>1.000618</td>\n",
       "      <td>NaN</td>\n",
       "    </tr>\n",
       "    <tr>\n",
       "      <th>1982</th>\n",
       "      <td>1.000618</td>\n",
       "      <td>NaN</td>\n",
       "    </tr>\n",
       "    <tr>\n",
       "      <th>1983</th>\n",
       "      <td>1.000618</td>\n",
       "      <td>NaN</td>\n",
       "    </tr>\n",
       "    <tr>\n",
       "      <th>1984</th>\n",
       "      <td>1.000618</td>\n",
       "      <td>NaN</td>\n",
       "    </tr>\n",
       "    <tr>\n",
       "      <th>1985</th>\n",
       "      <td>1.000618</td>\n",
       "      <td>NaN</td>\n",
       "    </tr>\n",
       "    <tr>\n",
       "      <th>1986</th>\n",
       "      <td>1.000618</td>\n",
       "      <td>NaN</td>\n",
       "    </tr>\n",
       "    <tr>\n",
       "      <th>1987</th>\n",
       "      <td>1.000618</td>\n",
       "      <td>NaN</td>\n",
       "    </tr>\n",
       "    <tr>\n",
       "      <th>1988</th>\n",
       "      <td>1.000618</td>\n",
       "      <td>NaN</td>\n",
       "    </tr>\n",
       "    <tr>\n",
       "      <th>1989</th>\n",
       "      <td>1.000618</td>\n",
       "      <td>NaN</td>\n",
       "    </tr>\n",
       "  </tbody>\n",
       "</table>\n",
       "</div>"
      ],
      "text/plain": [
       "      forecast  Adj Close\n",
       "1939  1.000618       97.5\n",
       "1940  1.000618        NaN\n",
       "1941  1.000618        NaN\n",
       "1942  1.000618        NaN\n",
       "1943  1.000618        NaN\n",
       "1944  1.000618        NaN\n",
       "1945  1.000618        NaN\n",
       "1946  1.000618        NaN\n",
       "1947  1.000618        NaN\n",
       "1948  1.000618        NaN\n",
       "1949  1.000618        NaN\n",
       "1950  1.000618        NaN\n",
       "1951  1.000618        NaN\n",
       "1952  1.000618        NaN\n",
       "1953  1.000618        NaN\n",
       "1954  1.000618        NaN\n",
       "1955  1.000618        NaN\n",
       "1956  1.000618        NaN\n",
       "1957  1.000618        NaN\n",
       "1958  1.000618        NaN\n",
       "1959  1.000618        NaN\n",
       "1960  1.000618        NaN\n",
       "1961  1.000618        NaN\n",
       "1962  1.000618        NaN\n",
       "1963  1.000618        NaN\n",
       "1964  1.000618        NaN\n",
       "1965  1.000618        NaN\n",
       "1966  1.000618        NaN\n",
       "1967  1.000618        NaN\n",
       "1968  1.000618        NaN\n",
       "1969  1.000618        NaN\n",
       "1970  1.000618        NaN\n",
       "1971  1.000618        NaN\n",
       "1972  1.000618        NaN\n",
       "1973  1.000618        NaN\n",
       "1974  1.000618        NaN\n",
       "1975  1.000618        NaN\n",
       "1976  1.000618        NaN\n",
       "1977  1.000618        NaN\n",
       "1978  1.000618        NaN\n",
       "1979  1.000618        NaN\n",
       "1980  1.000618        NaN\n",
       "1981  1.000618        NaN\n",
       "1982  1.000618        NaN\n",
       "1983  1.000618        NaN\n",
       "1984  1.000618        NaN\n",
       "1985  1.000618        NaN\n",
       "1986  1.000618        NaN\n",
       "1987  1.000618        NaN\n",
       "1988  1.000618        NaN\n",
       "1989  1.000618        NaN"
      ]
     },
     "execution_count": 63,
     "metadata": {},
     "output_type": "execute_result"
    }
   ],
   "source": [
    "forecastdf[581:]"
   ]
  },
  {
   "cell_type": "code",
   "execution_count": 64,
   "id": "5feba3e0",
   "metadata": {},
   "outputs": [],
   "source": [
    "pred_list = (forecastdf['forecast'].iloc[582:]).tolist()"
   ]
  },
  {
   "cell_type": "code",
   "execution_count": 65,
   "id": "e330640a",
   "metadata": {
    "collapsed": true
   },
   "outputs": [
    {
     "data": {
      "text/plain": [
       "[1.0006178608212446,\n",
       " 1.0006178608212446,\n",
       " 1.0006178608212446,\n",
       " 1.0006178608212446,\n",
       " 1.0006178608212446,\n",
       " 1.0006178608212446,\n",
       " 1.0006178608212446,\n",
       " 1.0006178608212446,\n",
       " 1.0006178608212446,\n",
       " 1.0006178608212446,\n",
       " 1.0006178608212446,\n",
       " 1.0006178608212446,\n",
       " 1.0006178608212446,\n",
       " 1.0006178608212446,\n",
       " 1.0006178608212446,\n",
       " 1.0006178608212446,\n",
       " 1.0006178608212446,\n",
       " 1.0006178608212446,\n",
       " 1.0006178608212446,\n",
       " 1.0006178608212446,\n",
       " 1.0006178608212446,\n",
       " 1.0006178608212446,\n",
       " 1.0006178608212446,\n",
       " 1.0006178608212446,\n",
       " 1.0006178608212446,\n",
       " 1.0006178608212446,\n",
       " 1.0006178608212446,\n",
       " 1.0006178608212446,\n",
       " 1.0006178608212446,\n",
       " 1.0006178608212446,\n",
       " 1.0006178608212446,\n",
       " 1.0006178608212446,\n",
       " 1.0006178608212446,\n",
       " 1.0006178608212446,\n",
       " 1.0006178608212446,\n",
       " 1.0006178608212446,\n",
       " 1.0006178608212446,\n",
       " 1.0006178608212446,\n",
       " 1.0006178608212446,\n",
       " 1.0006178608212446,\n",
       " 1.0006178608212446,\n",
       " 1.0006178608212446,\n",
       " 1.0006178608212446,\n",
       " 1.0006178608212446,\n",
       " 1.0006178608212446,\n",
       " 1.0006178608212446,\n",
       " 1.0006178608212446,\n",
       " 1.0006178608212446,\n",
       " 1.0006178608212446,\n",
       " 1.0006178608212446]"
      ]
     },
     "execution_count": 65,
     "metadata": {},
     "output_type": "execute_result"
    }
   ],
   "source": [
    "pred_list"
   ]
  },
  {
   "cell_type": "code",
   "execution_count": 66,
   "id": "e1499415",
   "metadata": {},
   "outputs": [
    {
     "data": {
      "text/plain": [
       "50"
      ]
     },
     "execution_count": 66,
     "metadata": {},
     "output_type": "execute_result"
    }
   ],
   "source": [
    "len(pred_list)"
   ]
  },
  {
   "cell_type": "code",
   "execution_count": 67,
   "id": "2cba4b4c",
   "metadata": {},
   "outputs": [
    {
     "data": {
      "text/html": [
       "<div>\n",
       "<style scoped>\n",
       "    .dataframe tbody tr th:only-of-type {\n",
       "        vertical-align: middle;\n",
       "    }\n",
       "\n",
       "    .dataframe tbody tr th {\n",
       "        vertical-align: top;\n",
       "    }\n",
       "\n",
       "    .dataframe thead th {\n",
       "        text-align: right;\n",
       "    }\n",
       "</style>\n",
       "<table border=\"1\" class=\"dataframe\">\n",
       "  <thead>\n",
       "    <tr style=\"text-align: right;\">\n",
       "      <th></th>\n",
       "      <th>Adj Close</th>\n",
       "    </tr>\n",
       "  </thead>\n",
       "  <tbody>\n",
       "    <tr>\n",
       "      <th>1939</th>\n",
       "      <td>97.5</td>\n",
       "    </tr>\n",
       "  </tbody>\n",
       "</table>\n",
       "</div>"
      ],
      "text/plain": [
       "      Adj Close\n",
       "1939       97.5"
      ]
     },
     "execution_count": 67,
     "metadata": {},
     "output_type": "execute_result"
    }
   ],
   "source": [
    "adj_close_list = pd.DataFrame(df1['Adj Close'].iloc[1939:], columns = ['Adj Close'])\n",
    "adj_close_list"
   ]
  },
  {
   "cell_type": "code",
   "execution_count": 68,
   "id": "b22afc27",
   "metadata": {},
   "outputs": [
    {
     "data": {
      "text/plain": [
       "[97.5]"
      ]
     },
     "execution_count": 68,
     "metadata": {},
     "output_type": "execute_result"
    }
   ],
   "source": [
    "adj_close_list = adj_close_list['Adj Close'].tolist()\n",
    "adj_close_list"
   ]
  },
  {
   "cell_type": "code",
   "execution_count": 69,
   "id": "d2e66333",
   "metadata": {},
   "outputs": [],
   "source": [
    "for i in pred_list:\n",
    "    predicted= i*adj_close_list[-1]\n",
    "    adj_close_list.append(predicted)"
   ]
  },
  {
   "cell_type": "code",
   "execution_count": 70,
   "id": "c0cdea64",
   "metadata": {
    "collapsed": true
   },
   "outputs": [
    {
     "data": {
      "text/plain": [
       "[97.5,\n",
       " 97.56024143007134,\n",
       " 97.62052008096215,\n",
       " 97.6808359756697,\n",
       " 97.74118913720548,\n",
       " 97.80157958859522,\n",
       " 97.86200735287885,\n",
       " 97.92247245311054,\n",
       " 97.98297491235873,\n",
       " 98.04351475370606,\n",
       " 98.1040920002495,\n",
       " 98.16470667510022,\n",
       " 98.22535880138373,\n",
       " 98.2860484022398,\n",
       " 98.34677550082249,\n",
       " 98.40754012030018,\n",
       " 98.46834228385558,\n",
       " 98.52918201468567,\n",
       " 98.59005933600183,\n",
       " 98.65097427102972,\n",
       " 98.71192684300941,\n",
       " 98.77291707519527,\n",
       " 98.83394499085607,\n",
       " 98.89501061327496,\n",
       " 98.95611396574948,\n",
       " 99.01725507159153,\n",
       " 99.07843395412745,\n",
       " 99.13965063669798,\n",
       " 99.20090514265827,\n",
       " 99.26219749537792,\n",
       " 99.32352771824095,\n",
       " 99.38489583464586,\n",
       " 99.44630186800556,\n",
       " 99.50774584174746,\n",
       " 99.56922777931345,\n",
       " 99.63074770415987,\n",
       " 99.69230563975758,\n",
       " 99.75390160959192,\n",
       " 99.81553563716278,\n",
       " 99.87720774598453,\n",
       " 99.93891795958609,\n",
       " 100.0006663015109,\n",
       " 100.06245279531696,\n",
       " 100.12427746457682,\n",
       " 100.1861403328776,\n",
       " 100.248041423821,\n",
       " 100.30998076102328,\n",
       " 100.37195836811532,\n",
       " 100.43397426874257,\n",
       " 100.49602848656512,\n",
       " 100.55812104525765]"
      ]
     },
     "execution_count": 70,
     "metadata": {},
     "output_type": "execute_result"
    }
   ],
   "source": [
    "adj_close_list"
   ]
  },
  {
   "cell_type": "code",
   "execution_count": 71,
   "id": "5f6e9df8",
   "metadata": {},
   "outputs": [
    {
     "data": {
      "text/plain": [
       "51"
      ]
     },
     "execution_count": 71,
     "metadata": {},
     "output_type": "execute_result"
    }
   ],
   "source": [
    "len(adj_close_list)"
   ]
  },
  {
   "cell_type": "code",
   "execution_count": 72,
   "id": "f14d6c91",
   "metadata": {},
   "outputs": [
    {
     "data": {
      "text/plain": [
       "97.5"
      ]
     },
     "execution_count": 72,
     "metadata": {},
     "output_type": "execute_result"
    }
   ],
   "source": [
    "adj_close_list.pop(0)"
   ]
  },
  {
   "cell_type": "code",
   "execution_count": 73,
   "id": "c100ebb5",
   "metadata": {},
   "outputs": [
    {
     "data": {
      "text/plain": [
       "[<matplotlib.lines.Line2D at 0x222d4711f40>]"
      ]
     },
     "execution_count": 73,
     "metadata": {},
     "output_type": "execute_result"
    },
    {
     "data": {
      "image/png": "[encoded data removed]",
      "text/plain": [
       "<Figure size 432x288 with 1 Axes>"
      ]
     },
     "metadata": {
      "needs_background": "light"
     },
     "output_type": "display_data"
    }
   ],
   "source": [
    "plt.plot(adj_close_list)"
   ]
  },
  {
   "cell_type": "code",
   "execution_count": 74,
   "id": "a19df26d",
   "metadata": {},
   "outputs": [
    {
     "data": {
      "image/png": "[encoded data removed]",
      "text/plain": [
       "<Figure size 1152x648 with 1 Axes>"
      ]
     },
     "metadata": {
      "needs_background": "light"
     },
     "output_type": "display_data"
    }
   ],
   "source": [
    "final_set = df1['Adj Close'].tolist()\n",
    "final_set.extend(adj_close_list)\n",
    "f = plt.figure()\n",
    "f.set_figwidth(16)\n",
    "f.set_figheight(9)\n",
    "plt.plot(final_set,'lime')\n",
    "plt.show()"
   ]
  },
  {
   "cell_type": "markdown",
   "id": "7e975294",
   "metadata": {},
   "source": [
    "Submitted by,\n",
    "\n",
    "> Soumitro Mukherjee\n",
    "\n",
    "\n",
    "Reg. No. : 213001818010030, Roll No. : 30018021030"
   ]
  }
 ],
 "metadata": {
  "kernelspec": {
   "display_name": "Python 3",
   "language": "python",
   "name": "python3"
  },
  "language_info": {
   "codemirror_mode": {
    "name": "ipython",
    "version": 3
   },
   "file_extension": ".py",
   "mimetype": "text/x-python",
   "name": "python",
   "nbconvert_exporter": "python",
   "pygments_lexer": "ipython3",
   "version": "3.8.8"
  }
 },
 "nbformat": 4,
 "nbformat_minor": 5
}
