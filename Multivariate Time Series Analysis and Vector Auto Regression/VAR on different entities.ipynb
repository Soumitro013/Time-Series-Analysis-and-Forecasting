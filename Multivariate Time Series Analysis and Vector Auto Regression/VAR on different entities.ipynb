{
 "cells": [
  {
   "cell_type": "markdown",
   "id": "432f73a0",
   "metadata": {},
   "source": [
    "MSASA 494(LAB)\n",
    "> Soumitro Mukherjee\n",
    "Reg. No.: 213001818010030\n",
    "Roll No.: 30018021030"
   ]
  },
  {
   "cell_type": "code",
   "execution_count": 1,
   "id": "2f17c7cc",
   "metadata": {},
   "outputs": [],
   "source": [
    "import pandas as pd\n",
    "import numpy as np\n",
    "import warnings"
   ]
  },
  {
   "cell_type": "code",
   "execution_count": 2,
   "id": "45f1ddca",
   "metadata": {},
   "outputs": [],
   "source": [
    "warnings.filterwarnings('ignore')"
   ]
  },
  {
   "cell_type": "code",
   "execution_count": 3,
   "id": "72cba43b",
   "metadata": {},
   "outputs": [
    {
     "data": {
      "text/html": [
       "<div>\n",
       "<style scoped>\n",
       "    .dataframe tbody tr th:only-of-type {\n",
       "        vertical-align: middle;\n",
       "    }\n",
       "\n",
       "    .dataframe tbody tr th {\n",
       "        vertical-align: top;\n",
       "    }\n",
       "\n",
       "    .dataframe thead th {\n",
       "        text-align: right;\n",
       "    }\n",
       "</style>\n",
       "<table border=\"1\" class=\"dataframe\">\n",
       "  <thead>\n",
       "    <tr style=\"text-align: right;\">\n",
       "      <th></th>\n",
       "      <th>Date</th>\n",
       "      <th>Closing Price</th>\n",
       "      <th>Gold Price</th>\n",
       "      <th>Oil Price</th>\n",
       "      <th>M3</th>\n",
       "      <th>Exchange Rate</th>\n",
       "      <th>Interest Rate</th>\n",
       "    </tr>\n",
       "  </thead>\n",
       "  <tbody>\n",
       "    <tr>\n",
       "      <th>0</th>\n",
       "      <td>Feb-02</td>\n",
       "      <td>3562.31</td>\n",
       "      <td>14465.5</td>\n",
       "      <td>972.86</td>\n",
       "      <td>14.19164</td>\n",
       "      <td>30.415</td>\n",
       "      <td>6.50</td>\n",
       "    </tr>\n",
       "    <tr>\n",
       "      <th>1</th>\n",
       "      <td>Mar-02</td>\n",
       "      <td>3469.35</td>\n",
       "      <td>14702.3</td>\n",
       "      <td>1152.20</td>\n",
       "      <td>14.01346</td>\n",
       "      <td>30.574</td>\n",
       "      <td>6.50</td>\n",
       "    </tr>\n",
       "    <tr>\n",
       "      <th>2</th>\n",
       "      <td>Apr-02</td>\n",
       "      <td>3338.16</td>\n",
       "      <td>15080.2</td>\n",
       "      <td>1244.02</td>\n",
       "      <td>14.08145</td>\n",
       "      <td>31.209</td>\n",
       "      <td>6.50</td>\n",
       "    </tr>\n",
       "    <tr>\n",
       "      <th>3</th>\n",
       "      <td>May-02</td>\n",
       "      <td>3125.73</td>\n",
       "      <td>16006.7</td>\n",
       "      <td>1257.83</td>\n",
       "      <td>17.20787</td>\n",
       "      <td>31.970</td>\n",
       "      <td>6.50</td>\n",
       "    </tr>\n",
       "    <tr>\n",
       "      <th>4</th>\n",
       "      <td>Jun-02</td>\n",
       "      <td>3244.70</td>\n",
       "      <td>15561.9</td>\n",
       "      <td>1199.06</td>\n",
       "      <td>16.27839</td>\n",
       "      <td>32.170</td>\n",
       "      <td>6.50</td>\n",
       "    </tr>\n",
       "    <tr>\n",
       "      <th>...</th>\n",
       "      <td>...</td>\n",
       "      <td>...</td>\n",
       "      <td>...</td>\n",
       "      <td>...</td>\n",
       "      <td>...</td>\n",
       "      <td>...</td>\n",
       "      <td>...</td>\n",
       "    </tr>\n",
       "    <tr>\n",
       "      <th>186</th>\n",
       "      <td>Aug-17</td>\n",
       "      <td>31730.49</td>\n",
       "      <td>83855.2</td>\n",
       "      <td>3194.46</td>\n",
       "      <td>5.50563</td>\n",
       "      <td>51.222</td>\n",
       "      <td>6.25</td>\n",
       "    </tr>\n",
       "    <tr>\n",
       "      <th>187</th>\n",
       "      <td>Sep-17</td>\n",
       "      <td>31283.72</td>\n",
       "      <td>83812.1</td>\n",
       "      <td>3413.19</td>\n",
       "      <td>5.66959</td>\n",
       "      <td>52.376</td>\n",
       "      <td>6.25</td>\n",
       "    </tr>\n",
       "    <tr>\n",
       "      <th>188</th>\n",
       "      <td>Oct-17</td>\n",
       "      <td>33213.13</td>\n",
       "      <td>82269.2</td>\n",
       "      <td>3574.53</td>\n",
       "      <td>6.68857</td>\n",
       "      <td>50.248</td>\n",
       "      <td>6.25</td>\n",
       "    </tr>\n",
       "    <tr>\n",
       "      <th>189</th>\n",
       "      <td>Nov-17</td>\n",
       "      <td>33149.35</td>\n",
       "      <td>82547.3</td>\n",
       "      <td>3887.81</td>\n",
       "      <td>6.97587</td>\n",
       "      <td>50.006</td>\n",
       "      <td>6.25</td>\n",
       "    </tr>\n",
       "    <tr>\n",
       "      <th>190</th>\n",
       "      <td>Dec-17</td>\n",
       "      <td>34056.83</td>\n",
       "      <td>82401.3</td>\n",
       "      <td>3930.99</td>\n",
       "      <td>10.24980</td>\n",
       "      <td>50.751</td>\n",
       "      <td>6.25</td>\n",
       "    </tr>\n",
       "  </tbody>\n",
       "</table>\n",
       "<p>191 rows × 7 columns</p>\n",
       "</div>"
      ],
      "text/plain": [
       "       Date  Closing Price  Gold Price  Oil Price        M3  Exchange Rate  \\\n",
       "0    Feb-02        3562.31     14465.5     972.86  14.19164         30.415   \n",
       "1    Mar-02        3469.35     14702.3    1152.20  14.01346         30.574   \n",
       "2    Apr-02        3338.16     15080.2    1244.02  14.08145         31.209   \n",
       "3    May-02        3125.73     16006.7    1257.83  17.20787         31.970   \n",
       "4    Jun-02        3244.70     15561.9    1199.06  16.27839         32.170   \n",
       "..      ...            ...         ...        ...       ...            ...   \n",
       "186  Aug-17       31730.49     83855.2    3194.46   5.50563         51.222   \n",
       "187  Sep-17       31283.72     83812.1    3413.19   5.66959         52.376   \n",
       "188  Oct-17       33213.13     82269.2    3574.53   6.68857         50.248   \n",
       "189  Nov-17       33149.35     82547.3    3887.81   6.97587         50.006   \n",
       "190  Dec-17       34056.83     82401.3    3930.99  10.24980         50.751   \n",
       "\n",
       "     Interest Rate  \n",
       "0             6.50  \n",
       "1             6.50  \n",
       "2             6.50  \n",
       "3             6.50  \n",
       "4             6.50  \n",
       "..             ...  \n",
       "186           6.25  \n",
       "187           6.25  \n",
       "188           6.25  \n",
       "189           6.25  \n",
       "190           6.25  \n",
       "\n",
       "[191 rows x 7 columns]"
      ]
     },
     "execution_count": 3,
     "metadata": {},
     "output_type": "execute_result"
    }
   ],
   "source": [
    "data = pd.read_csv(\"Data1 (1).csv\")\n",
    "data"
   ]
  },
  {
   "cell_type": "code",
   "execution_count": 4,
   "id": "31e9b8d7",
   "metadata": {},
   "outputs": [
    {
     "data": {
      "text/plain": [
       "Date              object\n",
       "Closing Price    float64\n",
       "Gold Price       float64\n",
       "Oil Price        float64\n",
       "M3               float64\n",
       "Exchange Rate    float64\n",
       "Interest Rate    float64\n",
       "dtype: object"
      ]
     },
     "execution_count": 4,
     "metadata": {},
     "output_type": "execute_result"
    }
   ],
   "source": [
    "data.dtypes"
   ]
  },
  {
   "cell_type": "code",
   "execution_count": 5,
   "id": "0588aa1d",
   "metadata": {
    "scrolled": true
   },
   "outputs": [
    {
     "data": {
      "text/plain": [
       "Date             0\n",
       "Closing Price    0\n",
       "Gold Price       0\n",
       "Oil Price        0\n",
       "M3               0\n",
       "Exchange Rate    0\n",
       "Interest Rate    0\n",
       "dtype: int64"
      ]
     },
     "execution_count": 5,
     "metadata": {},
     "output_type": "execute_result"
    }
   ],
   "source": [
    "data.isna().sum()"
   ]
  },
  {
   "cell_type": "code",
   "execution_count": 6,
   "id": "1061ef16",
   "metadata": {},
   "outputs": [
    {
     "data": {
      "text/html": [
       "<div>\n",
       "<style scoped>\n",
       "    .dataframe tbody tr th:only-of-type {\n",
       "        vertical-align: middle;\n",
       "    }\n",
       "\n",
       "    .dataframe tbody tr th {\n",
       "        vertical-align: top;\n",
       "    }\n",
       "\n",
       "    .dataframe thead th {\n",
       "        text-align: right;\n",
       "    }\n",
       "</style>\n",
       "<table border=\"1\" class=\"dataframe\">\n",
       "  <thead>\n",
       "    <tr style=\"text-align: right;\">\n",
       "      <th></th>\n",
       "      <th>Closing Price</th>\n",
       "      <th>Gold Price</th>\n",
       "      <th>Oil Price</th>\n",
       "      <th>M3</th>\n",
       "      <th>Exchange Rate</th>\n",
       "      <th>Interest Rate</th>\n",
       "    </tr>\n",
       "  </thead>\n",
       "  <tbody>\n",
       "    <tr>\n",
       "      <th>count</th>\n",
       "      <td>191.000000</td>\n",
       "      <td>191.000000</td>\n",
       "      <td>191.000000</td>\n",
       "      <td>191.000000</td>\n",
       "      <td>191.00000</td>\n",
       "      <td>191.000000</td>\n",
       "    </tr>\n",
       "    <tr>\n",
       "      <th>mean</th>\n",
       "      <td>16271.865236</td>\n",
       "      <td>52145.140314</td>\n",
       "      <td>3462.208848</td>\n",
       "      <td>15.062906</td>\n",
       "      <td>44.17555</td>\n",
       "      <td>6.825916</td>\n",
       "    </tr>\n",
       "    <tr>\n",
       "      <th>std</th>\n",
       "      <td>8425.124715</td>\n",
       "      <td>27456.514056</td>\n",
       "      <td>1542.312679</td>\n",
       "      <td>4.139020</td>\n",
       "      <td>7.99439</td>\n",
       "      <td>1.212380</td>\n",
       "    </tr>\n",
       "    <tr>\n",
       "      <th>min</th>\n",
       "      <td>2949.320000</td>\n",
       "      <td>14465.500000</td>\n",
       "      <td>972.860000</td>\n",
       "      <td>5.505630</td>\n",
       "      <td>30.41500</td>\n",
       "      <td>6.000000</td>\n",
       "    </tr>\n",
       "    <tr>\n",
       "      <th>25%</th>\n",
       "      <td>9245.325000</td>\n",
       "      <td>24882.900000</td>\n",
       "      <td>2413.575000</td>\n",
       "      <td>12.260000</td>\n",
       "      <td>37.71850</td>\n",
       "      <td>6.000000</td>\n",
       "    </tr>\n",
       "    <tr>\n",
       "      <th>50%</th>\n",
       "      <td>17193.550000</td>\n",
       "      <td>50606.800000</td>\n",
       "      <td>3290.460000</td>\n",
       "      <td>14.540310</td>\n",
       "      <td>44.02000</td>\n",
       "      <td>6.000000</td>\n",
       "    </tr>\n",
       "    <tr>\n",
       "      <th>75%</th>\n",
       "      <td>21142.320000</td>\n",
       "      <td>79116.550000</td>\n",
       "      <td>4648.805000</td>\n",
       "      <td>17.793365</td>\n",
       "      <td>50.96300</td>\n",
       "      <td>7.750000</td>\n",
       "    </tr>\n",
       "    <tr>\n",
       "      <th>max</th>\n",
       "      <td>34056.830000</td>\n",
       "      <td>93885.800000</td>\n",
       "      <td>6926.830000</td>\n",
       "      <td>23.924470</td>\n",
       "      <td>62.35400</td>\n",
       "      <td>10.250000</td>\n",
       "    </tr>\n",
       "  </tbody>\n",
       "</table>\n",
       "</div>"
      ],
      "text/plain": [
       "       Closing Price    Gold Price    Oil Price          M3  Exchange Rate  \\\n",
       "count     191.000000    191.000000   191.000000  191.000000      191.00000   \n",
       "mean    16271.865236  52145.140314  3462.208848   15.062906       44.17555   \n",
       "std      8425.124715  27456.514056  1542.312679    4.139020        7.99439   \n",
       "min      2949.320000  14465.500000   972.860000    5.505630       30.41500   \n",
       "25%      9245.325000  24882.900000  2413.575000   12.260000       37.71850   \n",
       "50%     17193.550000  50606.800000  3290.460000   14.540310       44.02000   \n",
       "75%     21142.320000  79116.550000  4648.805000   17.793365       50.96300   \n",
       "max     34056.830000  93885.800000  6926.830000   23.924470       62.35400   \n",
       "\n",
       "       Interest Rate  \n",
       "count     191.000000  \n",
       "mean        6.825916  \n",
       "std         1.212380  \n",
       "min         6.000000  \n",
       "25%         6.000000  \n",
       "50%         6.000000  \n",
       "75%         7.750000  \n",
       "max        10.250000  "
      ]
     },
     "execution_count": 6,
     "metadata": {},
     "output_type": "execute_result"
    }
   ],
   "source": [
    "data.describe()"
   ]
  },
  {
   "cell_type": "code",
   "execution_count": 7,
   "id": "7f448534",
   "metadata": {},
   "outputs": [],
   "source": [
    "import matplotlib.pyplot as plt\n",
    "import seaborn as sb"
   ]
  },
  {
   "cell_type": "code",
   "execution_count": 8,
   "id": "f2175d73",
   "metadata": {
    "scrolled": true
   },
   "outputs": [
    {
     "data": {
      "text/plain": [
       "[<matplotlib.lines.Line2D at 0x1315c8be1f0>]"
      ]
     },
     "execution_count": 8,
     "metadata": {},
     "output_type": "execute_result"
    },
    {
     "data": {
      "image/png": "[encoded data removed]",
      "text/plain": [
       "<Figure size 432x288 with 1 Axes>"
      ]
     },
     "metadata": {
      "needs_background": "light"
     },
     "output_type": "display_data"
    }
   ],
   "source": [
    "plt.plot(data['Closing Price'])"
   ]
  },
  {
   "cell_type": "code",
   "execution_count": 9,
   "id": "e08984b9",
   "metadata": {
    "scrolled": true
   },
   "outputs": [
    {
     "data": {
      "text/plain": [
       "[<matplotlib.lines.Line2D at 0x1315d988640>]"
      ]
     },
     "execution_count": 9,
     "metadata": {},
     "output_type": "execute_result"
    },
    {
     "data": {
      "image/png": "[encoded data removed]",
      "text/plain": [
       "<Figure size 432x288 with 1 Axes>"
      ]
     },
     "metadata": {
      "needs_background": "light"
     },
     "output_type": "display_data"
    }
   ],
   "source": [
    "plt.plot(data['Gold Price'])"
   ]
  },
  {
   "cell_type": "code",
   "execution_count": 10,
   "id": "9f484297",
   "metadata": {},
   "outputs": [
    {
     "data": {
      "text/plain": [
       "[<matplotlib.lines.Line2D at 0x1315da032e0>]"
      ]
     },
     "execution_count": 10,
     "metadata": {},
     "output_type": "execute_result"
    },
    {
     "data": {
      "image/png": "[encoded data removed]",
      "text/plain": [
       "<Figure size 432x288 with 1 Axes>"
      ]
     },
     "metadata": {
      "needs_background": "light"
     },
     "output_type": "display_data"
    }
   ],
   "source": [
    "plt.plot(data['Oil Price'])"
   ]
  },
  {
   "cell_type": "code",
   "execution_count": 11,
   "id": "7f64dd31",
   "metadata": {},
   "outputs": [
    {
     "data": {
      "text/plain": [
       "[<matplotlib.lines.Line2D at 0x1315da659a0>]"
      ]
     },
     "execution_count": 11,
     "metadata": {},
     "output_type": "execute_result"
    },
    {
     "data": {
      "image/png": "[encoded data removed]",
      "text/plain": [
       "<Figure size 432x288 with 1 Axes>"
      ]
     },
     "metadata": {
      "needs_background": "light"
     },
     "output_type": "display_data"
    }
   ],
   "source": [
    "plt.plot(data['M3'])"
   ]
  },
  {
   "cell_type": "code",
   "execution_count": 12,
   "id": "fc1fbe24",
   "metadata": {
    "scrolled": true
   },
   "outputs": [
    {
     "data": {
      "text/plain": [
       "[<matplotlib.lines.Line2D at 0x1315dad94f0>]"
      ]
     },
     "execution_count": 12,
     "metadata": {},
     "output_type": "execute_result"
    },
    {
     "data": {
      "image/png": "[encoded data removed]",
      "text/plain": [
       "<Figure size 432x288 with 1 Axes>"
      ]
     },
     "metadata": {
      "needs_background": "light"
     },
     "output_type": "display_data"
    }
   ],
   "source": [
    "plt.plot(data['Exchange Rate'])"
   ]
  },
  {
   "cell_type": "code",
   "execution_count": 13,
   "id": "d3f9ffca",
   "metadata": {
    "scrolled": true
   },
   "outputs": [
    {
     "data": {
      "text/plain": [
       "[<matplotlib.lines.Line2D at 0x1315db41a90>]"
      ]
     },
     "execution_count": 13,
     "metadata": {},
     "output_type": "execute_result"
    },
    {
     "data": {
      "image/png": "[encoded data removed]",
      "text/plain": [
       "<Figure size 432x288 with 1 Axes>"
      ]
     },
     "metadata": {
      "needs_background": "light"
     },
     "output_type": "display_data"
    }
   ],
   "source": [
    "plt.plot(data['Interest Rate'])"
   ]
  },
  {
   "cell_type": "code",
   "execution_count": 15,
   "id": "931c13a1",
   "metadata": {
    "scrolled": true
   },
   "outputs": [
    {
     "data": {
      "text/plain": [
       "<AxesSubplot:xlabel='Oil Price', ylabel='Closing Price'>"
      ]
     },
     "execution_count": 15,
     "metadata": {},
     "output_type": "execute_result"
    },
    {
     "data": {
      "image/png": "[encoded data removed]",
      "text/plain": [
       "<Figure size 432x288 with 1 Axes>"
      ]
     },
     "metadata": {
      "needs_background": "light"
     },
     "output_type": "display_data"
    }
   ],
   "source": [
    "sb.scatterplot(x='Oil Price',y='Closing Price',data=data)"
   ]
  },
  {
   "cell_type": "code",
   "execution_count": 16,
   "id": "f856b002",
   "metadata": {
    "scrolled": false
   },
   "outputs": [
    {
     "data": {
      "text/plain": [
       "<AxesSubplot:xlabel='M3', ylabel='Closing Price'>"
      ]
     },
     "execution_count": 16,
     "metadata": {},
     "output_type": "execute_result"
    },
    {
     "data": {
      "image/png": "[encoded data removed]",
      "text/plain": [
       "<Figure size 432x288 with 1 Axes>"
      ]
     },
     "metadata": {
      "needs_background": "light"
     },
     "output_type": "display_data"
    }
   ],
   "source": [
    "sb.scatterplot(x='M3',y='Closing Price',data=data)"
   ]
  },
  {
   "cell_type": "code",
   "execution_count": 17,
   "id": "4f8e5e74",
   "metadata": {
    "scrolled": false
   },
   "outputs": [
    {
     "data": {
      "text/plain": [
       "<AxesSubplot:xlabel='M3', ylabel='Exchange Rate'>"
      ]
     },
     "execution_count": 17,
     "metadata": {},
     "output_type": "execute_result"
    },
    {
     "data": {
      "image/png": "[encoded data removed]",
      "text/plain": [
       "<Figure size 432x288 with 1 Axes>"
      ]
     },
     "metadata": {
      "needs_background": "light"
     },
     "output_type": "display_data"
    }
   ],
   "source": [
    "sb.scatterplot(x='M3',y='Exchange Rate',data=data)"
   ]
  },
  {
   "cell_type": "code",
   "execution_count": 18,
   "id": "314b6ef9",
   "metadata": {
    "scrolled": true
   },
   "outputs": [
    {
     "data": {
      "text/plain": [
       "<AxesSubplot:xlabel='M3', ylabel='Closing Price'>"
      ]
     },
     "execution_count": 18,
     "metadata": {},
     "output_type": "execute_result"
    },
    {
     "data": {
      "image/png": "[encoded data removed]",
      "text/plain": [
       "<Figure size 432x288 with 1 Axes>"
      ]
     },
     "metadata": {
      "needs_background": "light"
     },
     "output_type": "display_data"
    }
   ],
   "source": [
    "sb.scatterplot(x='M3',y='Closing Price',data=data)"
   ]
  },
  {
   "cell_type": "code",
   "execution_count": 19,
   "id": "ff66db0c",
   "metadata": {
    "scrolled": false
   },
   "outputs": [
    {
     "data": {
      "text/plain": [
       "<AxesSubplot:xlabel='Interest Rate', ylabel='Closing Price'>"
      ]
     },
     "execution_count": 19,
     "metadata": {},
     "output_type": "execute_result"
    },
    {
     "data": {
      "image/png": "[encoded data removed]",
      "text/plain": [
       "<Figure size 432x288 with 1 Axes>"
      ]
     },
     "metadata": {
      "needs_background": "light"
     },
     "output_type": "display_data"
    }
   ],
   "source": [
    "sb.scatterplot(x='Interest Rate',y='Closing Price',data=data)"
   ]
  },
  {
   "cell_type": "code",
   "execution_count": 20,
   "id": "e91c520b",
   "metadata": {},
   "outputs": [
    {
     "data": {
      "text/plain": [
       "<AxesSubplot:xlabel='Interest Rate', ylabel='Count'>"
      ]
     },
     "execution_count": 20,
     "metadata": {},
     "output_type": "execute_result"
    },
    {
     "data": {
      "image/png": "[encoded data removed]",
      "text/plain": [
       "<Figure size 432x288 with 1 Axes>"
      ]
     },
     "metadata": {
      "needs_background": "light"
     },
     "output_type": "display_data"
    }
   ],
   "source": [
    "sb.histplot(x='Interest Rate',data=data,kde=True)"
   ]
  },
  {
   "cell_type": "markdown",
   "id": "2aa7418e",
   "metadata": {},
   "source": [
    "It indicates an oscillatory movement towards a converging point over time."
   ]
  },
  {
   "cell_type": "code",
   "execution_count": 21,
   "id": "28e71ad6",
   "metadata": {},
   "outputs": [],
   "source": [
    "#Dropping the Date Column\n",
    "data_1=data.drop(['Date'],axis=1)"
   ]
  },
  {
   "cell_type": "code",
   "execution_count": 22,
   "id": "312037fc",
   "metadata": {},
   "outputs": [
    {
     "data": {
      "text/html": [
       "<div>\n",
       "<style scoped>\n",
       "    .dataframe tbody tr th:only-of-type {\n",
       "        vertical-align: middle;\n",
       "    }\n",
       "\n",
       "    .dataframe tbody tr th {\n",
       "        vertical-align: top;\n",
       "    }\n",
       "\n",
       "    .dataframe thead th {\n",
       "        text-align: right;\n",
       "    }\n",
       "</style>\n",
       "<table border=\"1\" class=\"dataframe\">\n",
       "  <thead>\n",
       "    <tr style=\"text-align: right;\">\n",
       "      <th></th>\n",
       "      <th>Closing Price</th>\n",
       "      <th>Gold Price</th>\n",
       "      <th>Oil Price</th>\n",
       "      <th>M3</th>\n",
       "      <th>Exchange Rate</th>\n",
       "      <th>Interest Rate</th>\n",
       "    </tr>\n",
       "  </thead>\n",
       "  <tbody>\n",
       "    <tr>\n",
       "      <th>0</th>\n",
       "      <td>3562.31</td>\n",
       "      <td>14465.5</td>\n",
       "      <td>972.86</td>\n",
       "      <td>14.19164</td>\n",
       "      <td>30.415</td>\n",
       "      <td>6.50</td>\n",
       "    </tr>\n",
       "    <tr>\n",
       "      <th>1</th>\n",
       "      <td>3469.35</td>\n",
       "      <td>14702.3</td>\n",
       "      <td>1152.20</td>\n",
       "      <td>14.01346</td>\n",
       "      <td>30.574</td>\n",
       "      <td>6.50</td>\n",
       "    </tr>\n",
       "    <tr>\n",
       "      <th>2</th>\n",
       "      <td>3338.16</td>\n",
       "      <td>15080.2</td>\n",
       "      <td>1244.02</td>\n",
       "      <td>14.08145</td>\n",
       "      <td>31.209</td>\n",
       "      <td>6.50</td>\n",
       "    </tr>\n",
       "    <tr>\n",
       "      <th>3</th>\n",
       "      <td>3125.73</td>\n",
       "      <td>16006.7</td>\n",
       "      <td>1257.83</td>\n",
       "      <td>17.20787</td>\n",
       "      <td>31.970</td>\n",
       "      <td>6.50</td>\n",
       "    </tr>\n",
       "    <tr>\n",
       "      <th>4</th>\n",
       "      <td>3244.70</td>\n",
       "      <td>15561.9</td>\n",
       "      <td>1199.06</td>\n",
       "      <td>16.27839</td>\n",
       "      <td>32.170</td>\n",
       "      <td>6.50</td>\n",
       "    </tr>\n",
       "    <tr>\n",
       "      <th>...</th>\n",
       "      <td>...</td>\n",
       "      <td>...</td>\n",
       "      <td>...</td>\n",
       "      <td>...</td>\n",
       "      <td>...</td>\n",
       "      <td>...</td>\n",
       "    </tr>\n",
       "    <tr>\n",
       "      <th>186</th>\n",
       "      <td>31730.49</td>\n",
       "      <td>83855.2</td>\n",
       "      <td>3194.46</td>\n",
       "      <td>5.50563</td>\n",
       "      <td>51.222</td>\n",
       "      <td>6.25</td>\n",
       "    </tr>\n",
       "    <tr>\n",
       "      <th>187</th>\n",
       "      <td>31283.72</td>\n",
       "      <td>83812.1</td>\n",
       "      <td>3413.19</td>\n",
       "      <td>5.66959</td>\n",
       "      <td>52.376</td>\n",
       "      <td>6.25</td>\n",
       "    </tr>\n",
       "    <tr>\n",
       "      <th>188</th>\n",
       "      <td>33213.13</td>\n",
       "      <td>82269.2</td>\n",
       "      <td>3574.53</td>\n",
       "      <td>6.68857</td>\n",
       "      <td>50.248</td>\n",
       "      <td>6.25</td>\n",
       "    </tr>\n",
       "    <tr>\n",
       "      <th>189</th>\n",
       "      <td>33149.35</td>\n",
       "      <td>82547.3</td>\n",
       "      <td>3887.81</td>\n",
       "      <td>6.97587</td>\n",
       "      <td>50.006</td>\n",
       "      <td>6.25</td>\n",
       "    </tr>\n",
       "    <tr>\n",
       "      <th>190</th>\n",
       "      <td>34056.83</td>\n",
       "      <td>82401.3</td>\n",
       "      <td>3930.99</td>\n",
       "      <td>10.24980</td>\n",
       "      <td>50.751</td>\n",
       "      <td>6.25</td>\n",
       "    </tr>\n",
       "  </tbody>\n",
       "</table>\n",
       "<p>191 rows × 6 columns</p>\n",
       "</div>"
      ],
      "text/plain": [
       "     Closing Price  Gold Price  Oil Price        M3  Exchange Rate  \\\n",
       "0          3562.31     14465.5     972.86  14.19164         30.415   \n",
       "1          3469.35     14702.3    1152.20  14.01346         30.574   \n",
       "2          3338.16     15080.2    1244.02  14.08145         31.209   \n",
       "3          3125.73     16006.7    1257.83  17.20787         31.970   \n",
       "4          3244.70     15561.9    1199.06  16.27839         32.170   \n",
       "..             ...         ...        ...       ...            ...   \n",
       "186       31730.49     83855.2    3194.46   5.50563         51.222   \n",
       "187       31283.72     83812.1    3413.19   5.66959         52.376   \n",
       "188       33213.13     82269.2    3574.53   6.68857         50.248   \n",
       "189       33149.35     82547.3    3887.81   6.97587         50.006   \n",
       "190       34056.83     82401.3    3930.99  10.24980         50.751   \n",
       "\n",
       "     Interest Rate  \n",
       "0             6.50  \n",
       "1             6.50  \n",
       "2             6.50  \n",
       "3             6.50  \n",
       "4             6.50  \n",
       "..             ...  \n",
       "186           6.25  \n",
       "187           6.25  \n",
       "188           6.25  \n",
       "189           6.25  \n",
       "190           6.25  \n",
       "\n",
       "[191 rows x 6 columns]"
      ]
     },
     "execution_count": 22,
     "metadata": {},
     "output_type": "execute_result"
    }
   ],
   "source": [
    "data_1"
   ]
  },
  {
   "cell_type": "code",
   "execution_count": 23,
   "id": "ff5c9d9c",
   "metadata": {},
   "outputs": [],
   "source": [
    "from statsmodels.tsa.vector_ar.vecm import coint_johansen,VAR"
   ]
  },
  {
   "cell_type": "code",
   "execution_count": 24,
   "id": "31dfff5f",
   "metadata": {
    "scrolled": true
   },
   "outputs": [
    {
     "data": {
      "text/plain": [
       "array([0.13791534, 0.1090065 , 0.06641891, 0.0457662 , 0.03643257,\n",
       "       0.00573458])"
      ]
     },
     "execution_count": 24,
     "metadata": {},
     "output_type": "execute_result"
    }
   ],
   "source": [
    "coint_johansen(data_1,-1,1).eig"
   ]
  },
  {
   "cell_type": "markdown",
   "id": "649f9a7b",
   "metadata": {},
   "source": [
    "Since, the eigen values are < 1, this indicates the presence of stationarity."
   ]
  },
  {
   "cell_type": "code",
   "execution_count": 25,
   "id": "9cbf7ab9",
   "metadata": {},
   "outputs": [],
   "source": [
    "#splotting data in train and test\n",
    "train = data_1[:int(0.7*(len(data_1)))]\n",
    "test = data_1[int(0.7*(len(data_1))):]"
   ]
  },
  {
   "cell_type": "code",
   "execution_count": 26,
   "id": "43a198cb",
   "metadata": {},
   "outputs": [
    {
     "data": {
      "text/plain": [
       "Closing Price    133\n",
       "Gold Price       133\n",
       "Oil Price        133\n",
       "M3               133\n",
       "Exchange Rate    133\n",
       "Interest Rate    133\n",
       "dtype: int64"
      ]
     },
     "execution_count": 26,
     "metadata": {},
     "output_type": "execute_result"
    }
   ],
   "source": [
    "train.count()"
   ]
  },
  {
   "cell_type": "code",
   "execution_count": 27,
   "id": "6b82c9e0",
   "metadata": {},
   "outputs": [
    {
     "data": {
      "text/plain": [
       "Closing Price    58\n",
       "Gold Price       58\n",
       "Oil Price        58\n",
       "M3               58\n",
       "Exchange Rate    58\n",
       "Interest Rate    58\n",
       "dtype: int64"
      ]
     },
     "execution_count": 27,
     "metadata": {},
     "output_type": "execute_result"
    }
   ],
   "source": [
    "test.count()"
   ]
  },
  {
   "cell_type": "markdown",
   "id": "cd6bbde3",
   "metadata": {},
   "source": [
    "### For the Multivariate Timeseries, VAR model is going to be fitted"
   ]
  },
  {
   "cell_type": "code",
   "execution_count": 28,
   "id": "1a3ef24d",
   "metadata": {},
   "outputs": [],
   "source": [
    "Multi_model = VAR(endog=train)\n",
    "Multi_model_fit = Multi_model.fit()"
   ]
  },
  {
   "cell_type": "code",
   "execution_count": 29,
   "id": "35437aa0",
   "metadata": {
    "scrolled": false
   },
   "outputs": [
    {
     "data": {
      "text/plain": [
       "array([[3.562310e+03, 1.446550e+04, 9.728600e+02, 1.419164e+01,\n",
       "        3.041500e+01, 6.500000e+00],\n",
       "       [3.469350e+03, 1.470230e+04, 1.152200e+03, 1.401346e+01,\n",
       "        3.057400e+01, 6.500000e+00],\n",
       "       [3.338160e+03, 1.508020e+04, 1.244020e+03, 1.408145e+01,\n",
       "        3.120900e+01, 6.500000e+00],\n",
       "       [3.125730e+03, 1.600670e+04, 1.257830e+03, 1.720787e+01,\n",
       "        3.197000e+01, 6.500000e+00],\n",
       "       [3.244700e+03, 1.556190e+04, 1.199060e+03, 1.627839e+01,\n",
       "        3.217000e+01, 6.500000e+00],\n",
       "       [2.987650e+03, 1.481820e+04, 1.255670e+03, 1.633327e+01,\n",
       "        3.070700e+01, 6.500000e+00],\n",
       "       [3.181230e+03, 1.516140e+04, 1.301250e+03, 1.654781e+01,\n",
       "        3.109600e+01, 6.500000e+00],\n",
       "       [2.991360e+03, 1.565090e+04, 1.369920e+03, 1.659123e+01,\n",
       "        3.046800e+01, 6.500000e+00],\n",
       "       [2.949320e+03, 1.531890e+04, 1.331610e+03, 1.680651e+01,\n",
       "        3.101900e+01, 6.500000e+00],\n",
       "       [3.228820e+03, 1.541330e+04, 1.184180e+03, 1.640875e+01,\n",
       "        3.087100e+01, 6.250000e+00],\n",
       "       [3.377280e+03, 1.664820e+04, 1.342560e+03, 1.599744e+01,\n",
       "        3.048900e+01, 6.250000e+00],\n",
       "       [3.250380e+03, 1.756780e+04, 1.473850e+03, 1.620198e+01,\n",
       "        3.142100e+01, 6.250000e+00],\n",
       "       [3.283660e+03, 1.656120e+04, 1.569550e+03, 1.572802e+01,\n",
       "        3.211000e+01, 6.250000e+00],\n",
       "       [3.048720e+03, 1.589200e+04, 1.446380e+03, 1.444973e+01,\n",
       "        3.232800e+01, 6.250000e+00],\n",
       "       [2.959790e+03, 1.594340e+04, 1.210970e+03, 1.464463e+01,\n",
       "        3.301500e+01, 6.250000e+00],\n",
       "       [3.180750e+03, 1.699300e+04, 1.226990e+03, 1.121549e+01,\n",
       "        3.440200e+01, 6.000000e+00],\n",
       "       [3.607130e+03, 1.607860e+04, 1.304450e+03, 1.211716e+01,\n",
       "        3.445800e+01, 6.000000e+00],\n",
       "       [3.792610e+03, 1.636890e+04, 1.321850e+03, 1.200551e+01,\n",
       "        3.285800e+01, 6.000000e+00],\n",
       "       [4.244730e+03, 1.721750e+04, 1.363370e+03, 1.149603e+01,\n",
       "        3.307700e+01, 6.000000e+00],\n",
       "       [4.453240e+03, 1.775490e+04, 1.232460e+03, 1.160922e+01,\n",
       "        3.374500e+01, 6.000000e+00],\n",
       "       [4.906870e+03, 1.750480e+04, 1.316780e+03, 1.245941e+01,\n",
       "        3.434400e+01, 6.000000e+00],\n",
       "       [5.044820e+03, 1.823250e+04, 1.325540e+03, 1.215409e+01,\n",
       "        3.521200e+01, 6.000000e+00],\n",
       "       [5.838960e+03, 1.899140e+04, 1.366360e+03, 1.284820e+01,\n",
       "        3.517900e+01, 6.000000e+00],\n",
       "       [5.695670e+03, 1.810670e+04, 1.425740e+03, 1.355801e+01,\n",
       "        3.417800e+01, 6.000000e+00],\n",
       "       [5.667510e+03, 1.790630e+04, 1.418360e+03, 1.467432e+01,\n",
       "        3.384200e+01, 6.000000e+00],\n",
       "       [5.590600e+03, 1.839710e+04, 1.515650e+03, 1.647020e+01,\n",
       "        3.309500e+01, 6.000000e+00],\n",
       "       [5.655090e+03, 1.727660e+04, 1.480990e+03, 1.612893e+01,\n",
       "        3.245900e+01, 6.000000e+00],\n",
       "       [4.759620e+03, 1.784960e+04, 1.699290e+03, 1.529410e+01,\n",
       "        3.338100e+01, 6.000000e+00],\n",
       "       [4.795460e+03, 1.819690e+04, 1.617640e+03, 1.465247e+01,\n",
       "        3.448900e+01, 6.000000e+00],\n",
       "       [5.170320e+03, 1.815120e+04, 1.744590e+03, 1.421718e+01,\n",
       "        3.482300e+01, 6.000000e+00],\n",
       "       [5.192080e+03, 1.887400e+04, 1.950090e+03, 1.450954e+01,\n",
       "        3.528800e+01, 6.000000e+00],\n",
       "       [5.583610e+03, 1.911990e+04, 1.917680e+03, 1.393611e+01,\n",
       "        3.637800e+01, 6.000000e+00],\n",
       "       [5.672270e+03, 1.930510e+04, 2.146340e+03, 1.336254e+01,\n",
       "        3.721900e+01, 6.000000e+00],\n",
       "       [6.234290e+03, 2.017180e+04, 1.900580e+03, 1.313847e+01,\n",
       "        3.753500e+01, 6.000000e+00],\n",
       "       [6.602690e+03, 1.893550e+04, 1.717000e+03, 1.324217e+01,\n",
       "        3.595300e+01, 6.000000e+00],\n",
       "       [6.555940e+03, 1.842900e+04, 1.880230e+03, 1.477147e+01,\n",
       "        3.518200e+01, 6.000000e+00],\n",
       "       [6.713860e+03, 1.898560e+04, 1.957600e+03, 1.291897e+01,\n",
       "        3.537600e+01, 6.000000e+00],\n",
       "       [6.492820e+03, 1.866680e+04, 2.225570e+03, 1.168998e+01,\n",
       "        3.611400e+01, 6.000000e+00],\n",
       "       [6.154440e+03, 1.896600e+04, 2.215050e+03, 1.323922e+01,\n",
       "        3.449200e+01, 6.000000e+00],\n",
       "       [6.715110e+03, 1.813010e+04, 2.080200e+03, 1.337872e+01,\n",
       "        3.484200e+01, 6.000000e+00],\n",
       "       [7.193850e+03, 1.900510e+04, 2.348850e+03, 1.392416e+01,\n",
       "        3.548300e+01, 6.000000e+00],\n",
       "       [7.635420e+03, 1.863580e+04, 2.454200e+03, 1.439118e+01,\n",
       "        3.553800e+01, 6.000000e+00],\n",
       "       [7.805430e+03, 1.910200e+04, 2.700010e+03, 1.454031e+01,\n",
       "        3.703600e+01, 6.000000e+00],\n",
       "       [8.634480e+03, 2.080640e+04, 2.709210e+03, 1.803182e+01,\n",
       "        3.778600e+01, 6.000000e+00],\n",
       "       [7.892320e+03, 2.123320e+04, 2.608220e+03, 1.697110e+01,\n",
       "        3.815300e+01, 6.000000e+00],\n",
       "       [8.788810e+03, 2.275030e+04, 2.516770e+03, 1.747685e+01,\n",
       "        3.936500e+01, 6.000000e+00],\n",
       "       [9.397930e+03, 2.309010e+04, 2.576490e+03, 1.746153e+01,\n",
       "        3.870500e+01, 6.000000e+00],\n",
       "       [9.919890e+03, 2.509610e+04, 2.773130e+03, 1.428075e+01,\n",
       "        3.854400e+01, 6.000000e+00],\n",
       "       [1.037024e+04, 2.466970e+04, 2.646560e+03, 1.580709e+01,\n",
       "        3.895900e+01, 6.000000e+00],\n",
       "       [1.127996e+04, 2.593680e+04, 2.709890e+03, 2.087559e+01,\n",
       "        3.808300e+01, 6.000000e+00],\n",
       "       [1.204256e+04, 2.892530e+04, 3.055210e+03, 1.856215e+01,\n",
       "        4.019500e+01, 6.000000e+00],\n",
       "       [1.039861e+04, 3.023390e+04, 3.118700e+03, 1.891904e+01,\n",
       "        4.204200e+01, 6.000000e+00],\n",
       "       [1.060925e+04, 2.824550e+04, 3.145130e+03, 1.841350e+01,\n",
       "        4.106900e+01, 6.000000e+00],\n",
       "       [1.074388e+04, 2.944920e+04, 3.365750e+03, 1.985492e+01,\n",
       "        4.108700e+01, 6.000000e+00],\n",
       "       [1.169905e+04, 2.901460e+04, 3.341970e+03, 2.101571e+01,\n",
       "        4.211700e+01, 6.000000e+00],\n",
       "       [1.245442e+04, 2.752050e+04, 2.865030e+03, 1.902591e+01,\n",
       "        4.095000e+01, 6.000000e+00],\n",
       "       [1.296190e+04, 2.718690e+04, 2.633080e+03, 1.889175e+01,\n",
       "        4.003200e+01, 6.000000e+00],\n",
       "       [1.369631e+04, 2.892820e+04, 2.607990e+03, 1.982843e+01,\n",
       "        3.907700e+01, 6.000000e+00],\n",
       "       [1.378691e+04, 2.797230e+04, 2.722260e+03, 1.962855e+01,\n",
       "        3.785200e+01, 6.000000e+00],\n",
       "       [1.409092e+04, 2.872740e+04, 2.373050e+03, 2.148747e+01,\n",
       "        3.746900e+01, 6.000000e+00],\n",
       "       [1.293809e+04, 2.940740e+04, 2.541990e+03, 2.212625e+01,\n",
       "        3.770500e+01, 6.000000e+00],\n",
       "       [1.307210e+04, 2.876300e+04, 2.667950e+03, 2.154054e+01,\n",
       "        3.739000e+01, 6.000000e+00],\n",
       "       [1.387237e+04, 2.788560e+04, 2.742350e+03, 1.976785e+01,\n",
       "        3.700200e+01, 6.000000e+00],\n",
       "       [1.454446e+04, 2.676270e+04, 2.658010e+03, 1.987960e+01,\n",
       "        3.773200e+01, 6.000000e+00],\n",
       "       [1.465051e+04, 2.649320e+04, 2.779560e+03, 2.203116e+01,\n",
       "        3.804100e+01, 6.000000e+00],\n",
       "       [1.555099e+04, 2.687450e+04, 2.974640e+03, 2.213037e+01,\n",
       "        3.765700e+01, 6.000000e+00],\n",
       "       [1.531860e+04, 2.746800e+04, 2.862540e+03, 2.088438e+01,\n",
       "        3.849200e+01, 6.000000e+00],\n",
       "       [1.729110e+04, 2.960670e+04, 3.096500e+03, 2.190859e+01,\n",
       "        4.000000e+01, 6.000000e+00],\n",
       "       [1.983799e+04, 3.104590e+04, 3.238900e+03, 2.309797e+01,\n",
       "        4.155100e+01, 6.000000e+00],\n",
       "       [1.936319e+04, 3.104620e+04, 3.602450e+03, 2.341175e+01,\n",
       "        3.952000e+01, 6.000000e+00],\n",
       "       [2.028699e+04, 3.286230e+04, 3.530670e+03, 2.333235e+01,\n",
       "        3.953700e+01, 6.000000e+00],\n",
       "       [1.764871e+04, 3.635300e+04, 3.570710e+03, 2.392447e+01,\n",
       "        3.915100e+01, 6.000000e+00],\n",
       "       [1.757872e+04, 3.887460e+04, 3.710340e+03, 2.362239e+01,\n",
       "        4.054800e+01, 6.000000e+00],\n",
       "       [1.564444e+04, 3.745200e+04, 4.109920e+03, 2.132847e+01,\n",
       "        3.899500e+01, 6.000000e+00],\n",
       "       [1.728731e+04, 3.528860e+04, 4.353720e+03, 2.221005e+01,\n",
       "        4.016100e+01, 6.000000e+00],\n",
       "       [1.641557e+04, 3.760450e+04, 5.165850e+03, 2.325542e+01,\n",
       "        4.244000e+01, 6.000000e+00],\n",
       "       [1.346160e+04, 4.002400e+04, 5.631690e+03, 2.157338e+01,\n",
       "        4.204300e+01, 6.000000e+00],\n",
       "       [1.435575e+04, 3.908380e+04, 5.689980e+03, 1.985303e+01,\n",
       "        4.150800e+01, 6.000000e+00],\n",
       "       [1.456453e+04, 3.659790e+04, 4.919520e+03, 2.132358e+01,\n",
       "        4.123900e+01, 6.000000e+00],\n",
       "       [1.286043e+04, 4.154050e+04, 4.540910e+03, 1.965050e+01,\n",
       "        4.402000e+01, 6.000000e+00],\n",
       "       [9.788060e+03, 3.613560e+04, 3.535800e+03, 2.050131e+01,\n",
       "        4.068000e+01, 6.000000e+00],\n",
       "       [9.092720e+03, 4.079420e+04, 2.644710e+03, 1.923812e+01,\n",
       "        4.011700e+01, 6.000000e+00],\n",
       "       [9.647310e+03, 4.237420e+04, 2.010860e+03, 1.988126e+01,\n",
       "        3.995700e+01, 6.000000e+00],\n",
       "       [9.424240e+03, 4.494520e+04, 2.142120e+03, 2.017734e+01,\n",
       "        3.981100e+01, 6.000000e+00],\n",
       "       [8.891610e+03, 4.868530e+04, 2.059460e+03, 2.015585e+01,\n",
       "        4.007000e+01, 6.000000e+00],\n",
       "       [9.708500e+03, 4.649860e+04, 2.391750e+03, 1.938373e+01,\n",
       "        4.008200e+01, 6.000000e+00],\n",
       "       [1.140325e+04, 4.419340e+04, 2.517580e+03, 2.149112e+01,\n",
       "        4.166500e+01, 6.000000e+00],\n",
       "       [1.462525e+04, 4.596070e+04, 2.822250e+03, 2.086280e+01,\n",
       "        4.320000e+01, 6.000000e+00],\n",
       "       [1.449384e+04, 4.476720e+04, 3.303550e+03, 2.075492e+01,\n",
       "        4.106600e+01, 6.000000e+00],\n",
       "       [1.567031e+04, 4.502500e+04, 3.137000e+03, 2.152241e+01,\n",
       "        4.436700e+01, 6.000000e+00],\n",
       "       [1.566664e+04, 4.665230e+04, 3.461090e+03, 1.985205e+01,\n",
       "        4.447800e+01, 6.000000e+00],\n",
       "       [1.712684e+04, 4.790050e+04, 3.310800e+03, 1.979925e+01,\n",
       "        4.466900e+01, 6.000000e+00],\n",
       "       [1.589628e+04, 4.884360e+04, 3.461100e+03, 1.885972e+01,\n",
       "        4.326300e+01, 6.000000e+00],\n",
       "       [1.692622e+04, 5.469000e+04, 3.611430e+03, 1.917404e+01,\n",
       "        4.408400e+01, 6.000000e+00],\n",
       "       [1.746481e+04, 5.060680e+04, 3.491650e+03, 1.787017e+01,\n",
       "        4.412400e+01, 6.000000e+00],\n",
       "       [1.635796e+04, 4.979430e+04, 3.541880e+03, 1.730861e+01,\n",
       "        4.311400e+01, 6.000000e+00],\n",
       "       [1.642955e+04, 5.109590e+04, 3.463320e+03, 1.706568e+01,\n",
       "        4.380300e+01, 6.000000e+00],\n",
       "       [1.752777e+04, 5.008040e+04, 3.607990e+03, 1.700553e+01,\n",
       "        4.414700e+01, 6.000000e+00],\n",
       "       [1.755871e+04, 5.231150e+04, 3.745920e+03, 1.525031e+01,\n",
       "        4.351100e+01, 6.000000e+00],\n",
       "       [1.694463e+04, 5.598570e+04, 3.461170e+03, 1.516115e+01,\n",
       "        4.437500e+01, 6.000000e+00],\n",
       "       [1.770090e+04, 5.777760e+04, 3.479770e+03, 1.512881e+01,\n",
       "        4.362900e+01, 6.000000e+00],\n",
       "       [1.786829e+04, 5.424740e+04, 3.495720e+03, 1.560524e+01,\n",
       "        4.506400e+01, 6.000000e+00],\n",
       "       [1.797112e+04, 5.861180e+04, 3.531140e+03, 1.557275e+01,\n",
       "        4.423200e+01, 6.000000e+00],\n",
       "       [2.006912e+04, 5.873000e+04, 3.504320e+03, 1.543249e+01,\n",
       "        4.331000e+01, 6.000000e+00],\n",
       "       [2.003234e+04, 5.982940e+04, 3.629800e+03, 1.729682e+01,\n",
       "        4.350500e+01, 6.000000e+00],\n",
       "       [1.952125e+04, 6.348190e+04, 3.793460e+03, 1.634918e+01,\n",
       "        4.461100e+01, 6.000000e+00],\n",
       "       [2.050909e+04, 6.284690e+04, 4.065660e+03, 1.843745e+01,\n",
       "        4.482500e+01, 6.000000e+00],\n",
       "       [1.832776e+04, 6.092260e+04, 4.206660e+03, 1.649789e+01,\n",
       "        4.578600e+01, 6.000000e+00],\n",
       "       [1.782340e+04, 6.386890e+04, 4.450500e+03, 1.675764e+01,\n",
       "        4.658300e+01, 6.000000e+00],\n",
       "       [1.944522e+04, 6.417220e+04, 4.888110e+03, 1.630210e+01,\n",
       "        4.590100e+01, 6.000000e+00],\n",
       "       [1.913596e+04, 6.789210e+04, 5.159400e+03, 1.771656e+01,\n",
       "        4.685300e+01, 6.000000e+00],\n",
       "       [1.850328e+04, 6.921160e+04, 4.851800e+03, 1.702236e+01,\n",
       "        4.651400e+01, 6.000000e+00],\n",
       "       [1.884587e+04, 6.729960e+04, 4.747570e+03, 1.720606e+01,\n",
       "        4.639800e+01, 6.000000e+00],\n",
       "       [1.819720e+04, 7.196340e+04, 4.793300e+03, 1.661849e+01,\n",
       "        4.628100e+01, 6.000000e+00],\n",
       "       [1.667675e+04, 8.351170e+04, 4.550040e+03, 1.701144e+01,\n",
       "        4.683300e+01, 6.000000e+00],\n",
       "       [1.645376e+04, 7.933950e+04, 4.811930e+03, 1.678484e+01,\n",
       "        4.668300e+01, 6.000000e+00],\n",
       "       [1.770501e+04, 8.385280e+04, 4.916610e+03, 1.486625e+01,\n",
       "        4.871400e+01, 6.000000e+00],\n",
       "       [1.612346e+04, 9.114990e+04, 5.343290e+03, 1.534999e+01,\n",
       "        5.114300e+01, 6.000000e+00],\n",
       "       [1.545492e+04, 8.130370e+04, 5.486720e+03, 1.569083e+01,\n",
       "        5.200400e+01, 6.000000e+00],\n",
       "       [1.719355e+04, 8.623210e+04, 5.484920e+03, 1.471975e+01,\n",
       "        4.937900e+01, 6.000000e+00],\n",
       "       [1.775268e+04, 8.674770e+04, 5.540260e+03, 1.404182e+01,\n",
       "        4.963900e+01, 9.500000e+00],\n",
       "       [1.740420e+04, 8.469600e+04, 5.927550e+03, 1.336874e+01,\n",
       "        5.098200e+01, 9.500000e+00],\n",
       "       [1.731881e+04, 8.702090e+04, 5.888490e+03, 1.318507e+01,\n",
       "        5.334800e+01, 9.000000e+00],\n",
       "       [1.621853e+04, 8.749340e+04, 5.655940e+03, 1.348380e+01,\n",
       "        5.398000e+01, 9.000000e+00],\n",
       "       [1.742998e+04, 8.925220e+04, 5.083600e+03, 1.550101e+01,\n",
       "        5.460100e+01, 9.000000e+00],\n",
       "       [1.723618e+04, 9.020750e+04, 5.372190e+03, 1.371303e+01,\n",
       "        5.545700e+01, 9.000000e+00],\n",
       "       [1.742956e+04, 9.169780e+04, 5.848750e+03, 1.384837e+01,\n",
       "        5.628200e+01, 9.000000e+00],\n",
       "       [1.876274e+04, 9.367510e+04, 5.798480e+03, 1.343842e+01,\n",
       "        5.371200e+01, 9.000000e+00],\n",
       "       [1.850538e+04, 9.247360e+04, 5.476430e+03, 1.312812e+01,\n",
       "        5.379400e+01, 9.000000e+00],\n",
       "       [1.933990e+04, 9.388580e+04, 5.536010e+03, 1.327601e+01,\n",
       "        5.457400e+01, 9.000000e+00],\n",
       "       [1.942671e+04, 9.081440e+04, 5.526620e+03, 1.113159e+01,\n",
       "        5.507000e+01, 9.000000e+00],\n",
       "       [1.989498e+04, 8.854800e+04, 5.708320e+03, 1.303702e+01,\n",
       "        5.342300e+01, 9.000000e+00],\n",
       "       [1.886154e+04, 8.642230e+04, 5.784940e+03, 1.269911e+01,\n",
       "        5.333100e+01, 8.750000e+00]])"
      ]
     },
     "execution_count": 29,
     "metadata": {},
     "output_type": "execute_result"
    }
   ],
   "source": [
    "Multi_model_fit.y"
   ]
  },
  {
   "cell_type": "code",
   "execution_count": 30,
   "id": "da954f08",
   "metadata": {},
   "outputs": [],
   "source": [
    "predict = Multi_model_fit.forecast(Multi_model_fit.y, steps=len(test))"
   ]
  },
  {
   "cell_type": "code",
   "execution_count": 31,
   "id": "e7a8cf1c",
   "metadata": {},
   "outputs": [
    {
     "data": {
      "text/plain": [
       "array([[1.88184451e+04, 8.66884909e+04, 5.78488722e+03, 1.28744612e+01,\n",
       "        5.35633313e+01, 8.71442209e+00],\n",
       "       [1.88120531e+04, 8.69468983e+04, 5.78039681e+03, 1.30105101e+01,\n",
       "        5.37392223e+01, 8.68261369e+00],\n",
       "       [1.88345688e+04, 8.72028873e+04, 5.77399843e+03, 1.31177755e+01,\n",
       "        5.38732991e+01, 8.65398938e+00],\n",
       "       [1.88795399e+04, 8.74605702e+04, 5.76746008e+03, 1.32040926e+01,\n",
       "        5.39770992e+01, 8.62814826e+00],\n",
       "       [1.89416666e+04, 8.77230201e+04, 5.76197219e+03, 1.32752229e+01,\n",
       "        5.40596459e+01, 8.60481834e+00],\n",
       "       [1.90166309e+04, 8.79924566e+04, 5.75829270e+03, 1.33353397e+01,\n",
       "        5.41279276e+01, 8.58381520e+00],\n",
       "       [1.91009441e+04, 8.82704062e+04, 5.75686056e+03, 1.33874128e+01,\n",
       "        5.41872942e+01, 8.56501171e+00],\n",
       "       [1.91918142e+04, 8.85578388e+04, 5.75788382e+03, 1.34335107e+01,\n",
       "        5.42417856e+01, 8.54831639e+00],\n",
       "       [1.92870289e+04, 8.88552838e+04, 5.76140751e+03, 1.34750369e+01,\n",
       "        5.42944008e+01, 8.53365806e+00],\n",
       "       [1.93848566e+04, 8.91629271e+04, 5.76736525e+03, 1.35129111e+01,\n",
       "        5.43473178e+01, 8.52097543e+00],\n",
       "       [1.94839597e+04, 8.94806916e+04, 5.77561815e+03, 1.35477100e+01,\n",
       "        5.44020728e+01, 8.51021032e+00],\n",
       "       [1.95833224e+04, 8.98083036e+04, 5.78598369e+03, 1.35797718e+01,\n",
       "        5.44597049e+01, 8.50130346e+00],\n",
       "       [1.96821889e+04, 9.01453471e+04, 5.79825678e+03, 1.36092760e+01,\n",
       "        5.45208724e+01, 8.49419212e+00],\n",
       "       [1.97800119e+04, 9.04913072e+04, 5.81222480e+03, 1.36363012e+01,\n",
       "        5.45859458e+01, 8.48880921e+00],\n",
       "       [1.98764098e+04, 9.08456052e+04, 5.82767795e+03, 1.36608668e+01,\n",
       "        5.46550813e+01, 8.48508308e+00],\n",
       "       [1.99711314e+04, 9.12076258e+04, 5.84441621e+03, 1.36829633e+01,\n",
       "        5.47282796e+01, 8.48293800e+00],\n",
       "       [2.00640264e+04, 9.15767385e+04, 5.86225362e+03, 1.37025716e+01,\n",
       "        5.48054307e+01, 8.48229495e+00],\n",
       "       [2.01550219e+04, 9.19523141e+04, 5.88102065e+03, 1.37196769e+01,\n",
       "        5.48863492e+01, 8.48307258e+00],\n",
       "       [2.02441032e+04, 9.23337364e+04, 5.90056521e+03, 1.37342762e+01,\n",
       "        5.49708012e+01, 8.48518817e+00],\n",
       "       [2.03312983e+04, 9.27204111e+04, 5.92075265e+03, 1.37463827e+01,\n",
       "        5.50585248e+01, 8.48855866e+00],\n",
       "       [2.04166657e+04, 9.31117720e+04, 5.94146518e+03, 1.37560276e+01,\n",
       "        5.51492451e+01, 8.49310153e+00],\n",
       "       [2.05002848e+04, 9.35072846e+04, 5.96260077e+03, 1.37632593e+01,\n",
       "        5.52426849e+01, 8.49873559e+00],\n",
       "       [2.05822479e+04, 9.39064489e+04, 5.98407190e+03, 1.37681429e+01,\n",
       "        5.53385732e+01, 8.50538167e+00],\n",
       "       [2.06626552e+04, 9.43087999e+04, 6.00580410e+03, 1.37707574e+01,\n",
       "        5.54366498e+01, 8.51296320e+00],\n",
       "       [2.07416099e+04, 9.47139079e+04, 6.02773457e+03, 1.37711938e+01,\n",
       "        5.55366693e+01, 8.52140658e+00],\n",
       "       [2.08192149e+04, 9.51213777e+04, 6.04981072e+03, 1.37695522e+01,\n",
       "        5.56384029e+01, 8.53064161e+00],\n",
       "       [2.08955708e+04, 9.55308473e+04, 6.07198889e+03, 1.37659399e+01,\n",
       "        5.57416393e+01, 8.54060165e+00],\n",
       "       [2.09707739e+04, 9.59419865e+04, 6.09423307e+03, 1.37604684e+01,\n",
       "        5.58461852e+01, 8.55122376e+00],\n",
       "       [2.10449156e+04, 9.63544951e+04, 6.11651383e+03, 1.37532519e+01,\n",
       "        5.59518646e+01, 8.56244883e+00],\n",
       "       [2.11180811e+04, 9.67681008e+04, 6.13880729e+03, 1.37444054e+01,\n",
       "        5.60585185e+01, 8.57422153e+00],\n",
       "       [2.11903495e+04, 9.71825571e+04, 6.16109424e+03, 1.37340428e+01,\n",
       "        5.61660033e+01, 8.58649026e+00],\n",
       "       [2.12617936e+04, 9.75976418e+04, 6.18335936e+03, 1.37222761e+01,\n",
       "        5.62741906e+01, 8.59920713e+00],\n",
       "       [2.13324802e+04, 9.80131547e+04, 6.20559057e+03, 1.37092137e+01,\n",
       "        5.63829654e+01, 8.61232774e+00],\n",
       "       [2.14024697e+04, 9.84289155e+04, 6.22777845e+03, 1.36949606e+01,\n",
       "        5.64922251e+01, 8.62581111e+00],\n",
       "       [2.14718172e+04, 9.88447627e+04, 6.24991574e+03, 1.36796167e+01,\n",
       "        5.66018782e+01, 8.63961951e+00],\n",
       "       [2.15405722e+04, 9.92605513e+04, 6.27199694e+03, 1.36632771e+01,\n",
       "        5.67118436e+01, 8.65371824e+00],\n",
       "       [2.16087793e+04, 9.96761514e+04, 6.29401794e+03, 1.36460316e+01,\n",
       "        5.68220491e+01, 8.66807551e+00],\n",
       "       [2.16764784e+04, 1.00091447e+05, 6.31597578e+03, 1.36279644e+01,\n",
       "        5.69324310e+01, 8.68266222e+00],\n",
       "       [2.17437055e+04, 1.00506334e+05, 6.33786836e+03, 1.36091543e+01,\n",
       "        5.70429325e+01, 8.69745177e+00],\n",
       "       [2.18104925e+04, 1.00920721e+05, 6.35969428e+03, 1.35896748e+01,\n",
       "        5.71535034e+01, 8.71241993e+00],\n",
       "       [2.18768679e+04, 1.01334525e+05, 6.38145266e+03, 1.35695937e+01,\n",
       "        5.72640994e+01, 8.72754463e+00],\n",
       "       [2.19428572e+04, 1.01747672e+05, 6.40314304e+03, 1.35489741e+01,\n",
       "        5.73746809e+01, 8.74280578e+00],\n",
       "       [2.20084828e+04, 1.02160097e+05, 6.42476523e+03, 1.35278738e+01,\n",
       "        5.74852133e+01, 8.75818516e+00],\n",
       "       [2.20737650e+04, 1.02571742e+05, 6.44631930e+03, 1.35063459e+01,\n",
       "        5.75956657e+01, 8.77366624e+00],\n",
       "       [2.21387216e+04, 1.02982555e+05, 6.46780542e+03, 1.34844393e+01,\n",
       "        5.77060107e+01, 8.78923402e+00],\n",
       "       [2.22033684e+04, 1.03392492e+05, 6.48922391e+03, 1.34621985e+01,\n",
       "        5.78162240e+01, 8.80487496e+00],\n",
       "       [2.22677196e+04, 1.03801511e+05, 6.51057515e+03, 1.34396642e+01,\n",
       "        5.79262843e+01, 8.82057677e+00],\n",
       "       [2.23317875e+04, 1.04209576e+05, 6.53185953e+03, 1.34168732e+01,\n",
       "        5.80361725e+01, 8.83632838e+00],\n",
       "       [2.23955834e+04, 1.04616657e+05, 6.55307749e+03, 1.33938592e+01,\n",
       "        5.81458717e+01, 8.85211978e+00],\n",
       "       [2.24591171e+04, 1.05022725e+05, 6.57422945e+03, 1.33706527e+01,\n",
       "        5.82553669e+01, 8.86794195e+00],\n",
       "       [2.25223974e+04, 1.05427756e+05, 6.59531583e+03, 1.33472812e+01,\n",
       "        5.83646450e+01, 8.88378675e+00],\n",
       "       [2.25854320e+04, 1.05831728e+05, 6.61633704e+03, 1.33237698e+01,\n",
       "        5.84736941e+01, 8.89964685e+00],\n",
       "       [2.26482279e+04, 1.06234623e+05, 6.63729344e+03, 1.33001408e+01,\n",
       "        5.85825037e+01, 8.91551567e+00],\n",
       "       [2.27107913e+04, 1.06636425e+05, 6.65818541e+03, 1.32764145e+01,\n",
       "        5.86910647e+01, 8.93138726e+00],\n",
       "       [2.27731276e+04, 1.07037119e+05, 6.67901328e+03, 1.32526094e+01,\n",
       "        5.87993688e+01, 8.94725630e+00],\n",
       "       [2.28352419e+04, 1.07436694e+05, 6.69977736e+03, 1.32287418e+01,\n",
       "        5.89074088e+01, 8.96311800e+00],\n",
       "       [2.28971385e+04, 1.07835138e+05, 6.72047793e+03, 1.32048264e+01,\n",
       "        5.90151783e+01, 8.97896807e+00],\n",
       "       [2.29588214e+04, 1.08232442e+05, 6.74111526e+03, 1.31808765e+01,\n",
       "        5.91226716e+01, 8.99480265e+00]])"
      ]
     },
     "execution_count": 31,
     "metadata": {},
     "output_type": "execute_result"
    }
   ],
   "source": [
    "predict"
   ]
  },
  {
   "cell_type": "code",
   "execution_count": 32,
   "id": "30558ead",
   "metadata": {},
   "outputs": [],
   "source": [
    "from sklearn.metrics import mean_squared_error"
   ]
  },
  {
   "cell_type": "code",
   "execution_count": 33,
   "id": "304706ff",
   "metadata": {},
   "outputs": [],
   "source": [
    "import math"
   ]
  },
  {
   "cell_type": "code",
   "execution_count": 34,
   "id": "84b09023",
   "metadata": {},
   "outputs": [
    {
     "data": {
      "text/html": [
       "<div>\n",
       "<style scoped>\n",
       "    .dataframe tbody tr th:only-of-type {\n",
       "        vertical-align: middle;\n",
       "    }\n",
       "\n",
       "    .dataframe tbody tr th {\n",
       "        vertical-align: top;\n",
       "    }\n",
       "\n",
       "    .dataframe thead tr th {\n",
       "        text-align: left;\n",
       "    }\n",
       "</style>\n",
       "<table border=\"1\" class=\"dataframe\">\n",
       "  <thead>\n",
       "    <tr>\n",
       "      <th></th>\n",
       "      <th>Closing Price</th>\n",
       "      <th>Gold Price</th>\n",
       "      <th>Oil Price</th>\n",
       "      <th>M3</th>\n",
       "      <th>Exchange Rate</th>\n",
       "      <th>Interest Rate</th>\n",
       "    </tr>\n",
       "  </thead>\n",
       "  <tbody>\n",
       "    <tr>\n",
       "      <th>0</th>\n",
       "      <td>18818.445095</td>\n",
       "      <td>86688.490855</td>\n",
       "      <td>5784.887216</td>\n",
       "      <td>12.874461</td>\n",
       "      <td>53.563331</td>\n",
       "      <td>8.714422</td>\n",
       "    </tr>\n",
       "    <tr>\n",
       "      <th>1</th>\n",
       "      <td>18812.053123</td>\n",
       "      <td>86946.898347</td>\n",
       "      <td>5780.396808</td>\n",
       "      <td>13.01051</td>\n",
       "      <td>53.739222</td>\n",
       "      <td>8.682614</td>\n",
       "    </tr>\n",
       "    <tr>\n",
       "      <th>2</th>\n",
       "      <td>18834.568795</td>\n",
       "      <td>87202.887337</td>\n",
       "      <td>5773.998431</td>\n",
       "      <td>13.117775</td>\n",
       "      <td>53.873299</td>\n",
       "      <td>8.653989</td>\n",
       "    </tr>\n",
       "    <tr>\n",
       "      <th>3</th>\n",
       "      <td>18879.539852</td>\n",
       "      <td>87460.57022</td>\n",
       "      <td>5767.460081</td>\n",
       "      <td>13.204093</td>\n",
       "      <td>53.977099</td>\n",
       "      <td>8.628148</td>\n",
       "    </tr>\n",
       "    <tr>\n",
       "      <th>4</th>\n",
       "      <td>18941.666611</td>\n",
       "      <td>87723.020104</td>\n",
       "      <td>5761.972193</td>\n",
       "      <td>13.275223</td>\n",
       "      <td>54.059646</td>\n",
       "      <td>8.604818</td>\n",
       "    </tr>\n",
       "    <tr>\n",
       "      <th>5</th>\n",
       "      <td>19016.630886</td>\n",
       "      <td>87992.456618</td>\n",
       "      <td>5758.292704</td>\n",
       "      <td>13.33534</td>\n",
       "      <td>54.127928</td>\n",
       "      <td>8.583815</td>\n",
       "    </tr>\n",
       "    <tr>\n",
       "      <th>6</th>\n",
       "      <td>19100.944146</td>\n",
       "      <td>88270.406162</td>\n",
       "      <td>5756.860557</td>\n",
       "      <td>13.387413</td>\n",
       "      <td>54.187294</td>\n",
       "      <td>8.565012</td>\n",
       "    </tr>\n",
       "    <tr>\n",
       "      <th>7</th>\n",
       "      <td>19191.814156</td>\n",
       "      <td>88557.838751</td>\n",
       "      <td>5757.883822</td>\n",
       "      <td>13.433511</td>\n",
       "      <td>54.241786</td>\n",
       "      <td>8.548316</td>\n",
       "    </tr>\n",
       "    <tr>\n",
       "      <th>8</th>\n",
       "      <td>19287.028932</td>\n",
       "      <td>88855.283781</td>\n",
       "      <td>5761.407514</td>\n",
       "      <td>13.475037</td>\n",
       "      <td>54.294401</td>\n",
       "      <td>8.533658</td>\n",
       "    </tr>\n",
       "    <tr>\n",
       "      <th>9</th>\n",
       "      <td>19384.856614</td>\n",
       "      <td>89162.927088</td>\n",
       "      <td>5767.365249</td>\n",
       "      <td>13.512911</td>\n",
       "      <td>54.347318</td>\n",
       "      <td>8.520975</td>\n",
       "    </tr>\n",
       "    <tr>\n",
       "      <th>10</th>\n",
       "      <td>19483.95975</td>\n",
       "      <td>89480.69158</td>\n",
       "      <td>5775.618145</td>\n",
       "      <td>13.54771</td>\n",
       "      <td>54.402073</td>\n",
       "      <td>8.51021</td>\n",
       "    </tr>\n",
       "    <tr>\n",
       "      <th>11</th>\n",
       "      <td>19583.322446</td>\n",
       "      <td>89808.303612</td>\n",
       "      <td>5785.983686</td>\n",
       "      <td>13.579772</td>\n",
       "      <td>54.459705</td>\n",
       "      <td>8.501303</td>\n",
       "    </tr>\n",
       "    <tr>\n",
       "      <th>12</th>\n",
       "      <td>19682.188899</td>\n",
       "      <td>90145.347107</td>\n",
       "      <td>5798.256784</td>\n",
       "      <td>13.609276</td>\n",
       "      <td>54.520872</td>\n",
       "      <td>8.494192</td>\n",
       "    </tr>\n",
       "    <tr>\n",
       "      <th>13</th>\n",
       "      <td>19780.011873</td>\n",
       "      <td>90491.307218</td>\n",
       "      <td>5812.2248</td>\n",
       "      <td>13.636301</td>\n",
       "      <td>54.585946</td>\n",
       "      <td>8.488809</td>\n",
       "    </tr>\n",
       "    <tr>\n",
       "      <th>14</th>\n",
       "      <td>19876.409816</td>\n",
       "      <td>90845.605181</td>\n",
       "      <td>5827.677951</td>\n",
       "      <td>13.660867</td>\n",
       "      <td>54.655081</td>\n",
       "      <td>8.485083</td>\n",
       "    </tr>\n",
       "    <tr>\n",
       "      <th>15</th>\n",
       "      <td>19971.131392</td>\n",
       "      <td>91207.625754</td>\n",
       "      <td>5844.416213</td>\n",
       "      <td>13.682963</td>\n",
       "      <td>54.72828</td>\n",
       "      <td>8.482938</td>\n",
       "    </tr>\n",
       "    <tr>\n",
       "      <th>16</th>\n",
       "      <td>20064.026368</td>\n",
       "      <td>91576.738524</td>\n",
       "      <td>5862.253622</td>\n",
       "      <td>13.702572</td>\n",
       "      <td>54.805431</td>\n",
       "      <td>8.482295</td>\n",
       "    </tr>\n",
       "    <tr>\n",
       "      <th>17</th>\n",
       "      <td>20155.021874</td>\n",
       "      <td>91952.314145</td>\n",
       "      <td>5881.020652</td>\n",
       "      <td>13.719677</td>\n",
       "      <td>54.886349</td>\n",
       "      <td>8.483073</td>\n",
       "    </tr>\n",
       "    <tr>\n",
       "      <th>18</th>\n",
       "      <td>20244.103186</td>\n",
       "      <td>92333.736436</td>\n",
       "      <td>5900.565206</td>\n",
       "      <td>13.734276</td>\n",
       "      <td>54.970801</td>\n",
       "      <td>8.485188</td>\n",
       "    </tr>\n",
       "    <tr>\n",
       "      <th>19</th>\n",
       "      <td>20331.298318</td>\n",
       "      <td>92720.411137</td>\n",
       "      <td>5920.752651</td>\n",
       "      <td>13.746383</td>\n",
       "      <td>55.058525</td>\n",
       "      <td>8.488559</td>\n",
       "    </tr>\n",
       "    <tr>\n",
       "      <th>20</th>\n",
       "      <td>20416.665747</td>\n",
       "      <td>93111.771977</td>\n",
       "      <td>5941.465181</td>\n",
       "      <td>13.756028</td>\n",
       "      <td>55.149245</td>\n",
       "      <td>8.493102</td>\n",
       "    </tr>\n",
       "    <tr>\n",
       "      <th>21</th>\n",
       "      <td>20500.284755</td>\n",
       "      <td>93507.284612</td>\n",
       "      <td>5962.600775</td>\n",
       "      <td>13.763259</td>\n",
       "      <td>55.242685</td>\n",
       "      <td>8.498736</td>\n",
       "    </tr>\n",
       "    <tr>\n",
       "      <th>22</th>\n",
       "      <td>20582.247897</td>\n",
       "      <td>93906.448904</td>\n",
       "      <td>5984.071899</td>\n",
       "      <td>13.768143</td>\n",
       "      <td>55.338573</td>\n",
       "      <td>8.505382</td>\n",
       "    </tr>\n",
       "    <tr>\n",
       "      <th>23</th>\n",
       "      <td>20662.655218</td>\n",
       "      <td>94308.79991</td>\n",
       "      <td>6005.804101</td>\n",
       "      <td>13.770757</td>\n",
       "      <td>55.43665</td>\n",
       "      <td>8.512963</td>\n",
       "    </tr>\n",
       "    <tr>\n",
       "      <th>24</th>\n",
       "      <td>20741.609875</td>\n",
       "      <td>94713.907903</td>\n",
       "      <td>6027.734567</td>\n",
       "      <td>13.771194</td>\n",
       "      <td>55.536669</td>\n",
       "      <td>8.521407</td>\n",
       "    </tr>\n",
       "    <tr>\n",
       "      <th>25</th>\n",
       "      <td>20819.214883</td>\n",
       "      <td>95121.377666</td>\n",
       "      <td>6049.81072</td>\n",
       "      <td>13.769552</td>\n",
       "      <td>55.638403</td>\n",
       "      <td>8.530642</td>\n",
       "    </tr>\n",
       "    <tr>\n",
       "      <th>26</th>\n",
       "      <td>20895.570773</td>\n",
       "      <td>95530.847277</td>\n",
       "      <td>6071.988887</td>\n",
       "      <td>13.76594</td>\n",
       "      <td>55.741639</td>\n",
       "      <td>8.540602</td>\n",
       "    </tr>\n",
       "    <tr>\n",
       "      <th>27</th>\n",
       "      <td>20970.773949</td>\n",
       "      <td>95941.986531</td>\n",
       "      <td>6094.233071</td>\n",
       "      <td>13.760468</td>\n",
       "      <td>55.846185</td>\n",
       "      <td>8.551224</td>\n",
       "    </tr>\n",
       "    <tr>\n",
       "      <th>28</th>\n",
       "      <td>21044.915604</td>\n",
       "      <td>96354.495135</td>\n",
       "      <td>6116.513834</td>\n",
       "      <td>13.753252</td>\n",
       "      <td>55.951865</td>\n",
       "      <td>8.562449</td>\n",
       "    </tr>\n",
       "    <tr>\n",
       "      <th>29</th>\n",
       "      <td>21118.081066</td>\n",
       "      <td>96768.100773</td>\n",
       "      <td>6138.807293</td>\n",
       "      <td>13.744405</td>\n",
       "      <td>56.058518</td>\n",
       "      <td>8.574222</td>\n",
       "    </tr>\n",
       "    <tr>\n",
       "      <th>30</th>\n",
       "      <td>21190.349458</td>\n",
       "      <td>97182.55712</td>\n",
       "      <td>6161.094238</td>\n",
       "      <td>13.734043</td>\n",
       "      <td>56.166003</td>\n",
       "      <td>8.58649</td>\n",
       "    </tr>\n",
       "    <tr>\n",
       "      <th>31</th>\n",
       "      <td>21261.793612</td>\n",
       "      <td>97597.641848</td>\n",
       "      <td>6183.359358</td>\n",
       "      <td>13.722276</td>\n",
       "      <td>56.274191</td>\n",
       "      <td>8.599207</td>\n",
       "    </tr>\n",
       "    <tr>\n",
       "      <th>32</th>\n",
       "      <td>21332.480151</td>\n",
       "      <td>98013.154683</td>\n",
       "      <td>6205.590571</td>\n",
       "      <td>13.709214</td>\n",
       "      <td>56.382965</td>\n",
       "      <td>8.612328</td>\n",
       "    </tr>\n",
       "    <tr>\n",
       "      <th>33</th>\n",
       "      <td>21402.469702</td>\n",
       "      <td>98428.915535</td>\n",
       "      <td>6227.778452</td>\n",
       "      <td>13.694961</td>\n",
       "      <td>56.492225</td>\n",
       "      <td>8.625811</td>\n",
       "    </tr>\n",
       "    <tr>\n",
       "      <th>34</th>\n",
       "      <td>21471.817187</td>\n",
       "      <td>98844.762716</td>\n",
       "      <td>6249.915742</td>\n",
       "      <td>13.679617</td>\n",
       "      <td>56.601878</td>\n",
       "      <td>8.63962</td>\n",
       "    </tr>\n",
       "    <tr>\n",
       "      <th>35</th>\n",
       "      <td>21540.572177</td>\n",
       "      <td>99260.551268</td>\n",
       "      <td>6271.996938</td>\n",
       "      <td>13.663277</td>\n",
       "      <td>56.711844</td>\n",
       "      <td>8.653718</td>\n",
       "    </tr>\n",
       "    <tr>\n",
       "      <th>36</th>\n",
       "      <td>21608.779263</td>\n",
       "      <td>99676.151398</td>\n",
       "      <td>6294.017943</td>\n",
       "      <td>13.646032</td>\n",
       "      <td>56.822049</td>\n",
       "      <td>8.668076</td>\n",
       "    </tr>\n",
       "    <tr>\n",
       "      <th>37</th>\n",
       "      <td>21676.478449</td>\n",
       "      <td>100091.447035</td>\n",
       "      <td>6315.975781</td>\n",
       "      <td>13.627964</td>\n",
       "      <td>56.932431</td>\n",
       "      <td>8.682662</td>\n",
       "    </tr>\n",
       "    <tr>\n",
       "      <th>38</th>\n",
       "      <td>21743.705543</td>\n",
       "      <td>100506.334491</td>\n",
       "      <td>6337.868362</td>\n",
       "      <td>13.609154</td>\n",
       "      <td>57.042932</td>\n",
       "      <td>8.697452</td>\n",
       "    </tr>\n",
       "    <tr>\n",
       "      <th>39</th>\n",
       "      <td>21810.492529</td>\n",
       "      <td>100920.721248</td>\n",
       "      <td>6359.69428</td>\n",
       "      <td>13.589675</td>\n",
       "      <td>57.153503</td>\n",
       "      <td>8.71242</td>\n",
       "    </tr>\n",
       "    <tr>\n",
       "      <th>40</th>\n",
       "      <td>21876.867934</td>\n",
       "      <td>101334.524831</td>\n",
       "      <td>6381.452664</td>\n",
       "      <td>13.569594</td>\n",
       "      <td>57.264099</td>\n",
       "      <td>8.727545</td>\n",
       "    </tr>\n",
       "    <tr>\n",
       "      <th>41</th>\n",
       "      <td>21942.857167</td>\n",
       "      <td>101747.671803</td>\n",
       "      <td>6403.143039</td>\n",
       "      <td>13.548974</td>\n",
       "      <td>57.374681</td>\n",
       "      <td>8.742806</td>\n",
       "    </tr>\n",
       "    <tr>\n",
       "      <th>42</th>\n",
       "      <td>22008.482831</td>\n",
       "      <td>102160.096838</td>\n",
       "      <td>6424.765235</td>\n",
       "      <td>13.527874</td>\n",
       "      <td>57.485213</td>\n",
       "      <td>8.758185</td>\n",
       "    </tr>\n",
       "    <tr>\n",
       "      <th>43</th>\n",
       "      <td>22073.765025</td>\n",
       "      <td>102571.74189</td>\n",
       "      <td>6446.319295</td>\n",
       "      <td>13.506346</td>\n",
       "      <td>57.595666</td>\n",
       "      <td>8.773666</td>\n",
       "    </tr>\n",
       "    <tr>\n",
       "      <th>44</th>\n",
       "      <td>22138.721602</td>\n",
       "      <td>102982.555442</td>\n",
       "      <td>6467.80542</td>\n",
       "      <td>13.484439</td>\n",
       "      <td>57.706011</td>\n",
       "      <td>8.789234</td>\n",
       "    </tr>\n",
       "    <tr>\n",
       "      <th>45</th>\n",
       "      <td>22203.368421</td>\n",
       "      <td>103392.491826</td>\n",
       "      <td>6489.223914</td>\n",
       "      <td>13.462199</td>\n",
       "      <td>57.816224</td>\n",
       "      <td>8.804875</td>\n",
       "    </tr>\n",
       "    <tr>\n",
       "      <th>46</th>\n",
       "      <td>22267.719562</td>\n",
       "      <td>103801.510616</td>\n",
       "      <td>6510.575149</td>\n",
       "      <td>13.439664</td>\n",
       "      <td>57.926284</td>\n",
       "      <td>8.820577</td>\n",
       "    </tr>\n",
       "    <tr>\n",
       "      <th>47</th>\n",
       "      <td>22331.787529</td>\n",
       "      <td>104209.576076</td>\n",
       "      <td>6531.859532</td>\n",
       "      <td>13.416873</td>\n",
       "      <td>58.036172</td>\n",
       "      <td>8.836328</td>\n",
       "    </tr>\n",
       "    <tr>\n",
       "      <th>48</th>\n",
       "      <td>22395.583424</td>\n",
       "      <td>104616.656673</td>\n",
       "      <td>6553.07749</td>\n",
       "      <td>13.393859</td>\n",
       "      <td>58.145872</td>\n",
       "      <td>8.85212</td>\n",
       "    </tr>\n",
       "    <tr>\n",
       "      <th>49</th>\n",
       "      <td>22459.117113</td>\n",
       "      <td>105022.724632</td>\n",
       "      <td>6574.229451</td>\n",
       "      <td>13.370653</td>\n",
       "      <td>58.255367</td>\n",
       "      <td>8.867942</td>\n",
       "    </tr>\n",
       "    <tr>\n",
       "      <th>50</th>\n",
       "      <td>22522.397363</td>\n",
       "      <td>105427.755541</td>\n",
       "      <td>6595.315832</td>\n",
       "      <td>13.347281</td>\n",
       "      <td>58.364645</td>\n",
       "      <td>8.883787</td>\n",
       "    </tr>\n",
       "    <tr>\n",
       "      <th>51</th>\n",
       "      <td>22585.431971</td>\n",
       "      <td>105831.727998</td>\n",
       "      <td>6616.337036</td>\n",
       "      <td>13.32377</td>\n",
       "      <td>58.473694</td>\n",
       "      <td>8.899647</td>\n",
       "    </tr>\n",
       "    <tr>\n",
       "      <th>52</th>\n",
       "      <td>22648.227876</td>\n",
       "      <td>106234.623291</td>\n",
       "      <td>6637.293444</td>\n",
       "      <td>13.300141</td>\n",
       "      <td>58.582504</td>\n",
       "      <td>8.915516</td>\n",
       "    </tr>\n",
       "    <tr>\n",
       "      <th>53</th>\n",
       "      <td>22710.79126</td>\n",
       "      <td>106636.425118</td>\n",
       "      <td>6658.185415</td>\n",
       "      <td>13.276415</td>\n",
       "      <td>58.691065</td>\n",
       "      <td>8.931387</td>\n",
       "    </tr>\n",
       "    <tr>\n",
       "      <th>54</th>\n",
       "      <td>22773.127637</td>\n",
       "      <td>107037.119328</td>\n",
       "      <td>6679.013282</td>\n",
       "      <td>13.252609</td>\n",
       "      <td>58.799369</td>\n",
       "      <td>8.947256</td>\n",
       "    </tr>\n",
       "    <tr>\n",
       "      <th>55</th>\n",
       "      <td>22835.241928</td>\n",
       "      <td>107436.693695</td>\n",
       "      <td>6699.777356</td>\n",
       "      <td>13.228742</td>\n",
       "      <td>58.907409</td>\n",
       "      <td>8.963118</td>\n",
       "    </tr>\n",
       "    <tr>\n",
       "      <th>56</th>\n",
       "      <td>22897.138534</td>\n",
       "      <td>107835.137715</td>\n",
       "      <td>6720.477926</td>\n",
       "      <td>13.204826</td>\n",
       "      <td>59.015178</td>\n",
       "      <td>8.978968</td>\n",
       "    </tr>\n",
       "    <tr>\n",
       "      <th>57</th>\n",
       "      <td>22958.821395</td>\n",
       "      <td>108232.442424</td>\n",
       "      <td>6741.11526</td>\n",
       "      <td>13.180877</td>\n",
       "      <td>59.122672</td>\n",
       "      <td>8.994803</td>\n",
       "    </tr>\n",
       "  </tbody>\n",
       "</table>\n",
       "</div>"
      ],
      "text/plain": [
       "   Closing Price     Gold Price    Oil Price         M3 Exchange Rate  \\\n",
       "0   18818.445095   86688.490855  5784.887216  12.874461     53.563331   \n",
       "1   18812.053123   86946.898347  5780.396808   13.01051     53.739222   \n",
       "2   18834.568795   87202.887337  5773.998431  13.117775     53.873299   \n",
       "3   18879.539852    87460.57022  5767.460081  13.204093     53.977099   \n",
       "4   18941.666611   87723.020104  5761.972193  13.275223     54.059646   \n",
       "5   19016.630886   87992.456618  5758.292704   13.33534     54.127928   \n",
       "6   19100.944146   88270.406162  5756.860557  13.387413     54.187294   \n",
       "7   19191.814156   88557.838751  5757.883822  13.433511     54.241786   \n",
       "8   19287.028932   88855.283781  5761.407514  13.475037     54.294401   \n",
       "9   19384.856614   89162.927088  5767.365249  13.512911     54.347318   \n",
       "10   19483.95975    89480.69158  5775.618145   13.54771     54.402073   \n",
       "11  19583.322446   89808.303612  5785.983686  13.579772     54.459705   \n",
       "12  19682.188899   90145.347107  5798.256784  13.609276     54.520872   \n",
       "13  19780.011873   90491.307218    5812.2248  13.636301     54.585946   \n",
       "14  19876.409816   90845.605181  5827.677951  13.660867     54.655081   \n",
       "15  19971.131392   91207.625754  5844.416213  13.682963      54.72828   \n",
       "16  20064.026368   91576.738524  5862.253622  13.702572     54.805431   \n",
       "17  20155.021874   91952.314145  5881.020652  13.719677     54.886349   \n",
       "18  20244.103186   92333.736436  5900.565206  13.734276     54.970801   \n",
       "19  20331.298318   92720.411137  5920.752651  13.746383     55.058525   \n",
       "20  20416.665747   93111.771977  5941.465181  13.756028     55.149245   \n",
       "21  20500.284755   93507.284612  5962.600775  13.763259     55.242685   \n",
       "22  20582.247897   93906.448904  5984.071899  13.768143     55.338573   \n",
       "23  20662.655218    94308.79991  6005.804101  13.770757      55.43665   \n",
       "24  20741.609875   94713.907903  6027.734567  13.771194     55.536669   \n",
       "25  20819.214883   95121.377666   6049.81072  13.769552     55.638403   \n",
       "26  20895.570773   95530.847277  6071.988887   13.76594     55.741639   \n",
       "27  20970.773949   95941.986531  6094.233071  13.760468     55.846185   \n",
       "28  21044.915604   96354.495135  6116.513834  13.753252     55.951865   \n",
       "29  21118.081066   96768.100773  6138.807293  13.744405     56.058518   \n",
       "30  21190.349458    97182.55712  6161.094238  13.734043     56.166003   \n",
       "31  21261.793612   97597.641848  6183.359358  13.722276     56.274191   \n",
       "32  21332.480151   98013.154683  6205.590571  13.709214     56.382965   \n",
       "33  21402.469702   98428.915535  6227.778452  13.694961     56.492225   \n",
       "34  21471.817187   98844.762716  6249.915742  13.679617     56.601878   \n",
       "35  21540.572177   99260.551268  6271.996938  13.663277     56.711844   \n",
       "36  21608.779263   99676.151398  6294.017943  13.646032     56.822049   \n",
       "37  21676.478449  100091.447035  6315.975781  13.627964     56.932431   \n",
       "38  21743.705543  100506.334491  6337.868362  13.609154     57.042932   \n",
       "39  21810.492529  100920.721248   6359.69428  13.589675     57.153503   \n",
       "40  21876.867934  101334.524831  6381.452664  13.569594     57.264099   \n",
       "41  21942.857167  101747.671803  6403.143039  13.548974     57.374681   \n",
       "42  22008.482831  102160.096838  6424.765235  13.527874     57.485213   \n",
       "43  22073.765025   102571.74189  6446.319295  13.506346     57.595666   \n",
       "44  22138.721602  102982.555442   6467.80542  13.484439     57.706011   \n",
       "45  22203.368421  103392.491826  6489.223914  13.462199     57.816224   \n",
       "46  22267.719562  103801.510616  6510.575149  13.439664     57.926284   \n",
       "47  22331.787529  104209.576076  6531.859532  13.416873     58.036172   \n",
       "48  22395.583424  104616.656673   6553.07749  13.393859     58.145872   \n",
       "49  22459.117113  105022.724632  6574.229451  13.370653     58.255367   \n",
       "50  22522.397363  105427.755541  6595.315832  13.347281     58.364645   \n",
       "51  22585.431971  105831.727998  6616.337036   13.32377     58.473694   \n",
       "52  22648.227876  106234.623291  6637.293444  13.300141     58.582504   \n",
       "53   22710.79126  106636.425118  6658.185415  13.276415     58.691065   \n",
       "54  22773.127637  107037.119328  6679.013282  13.252609     58.799369   \n",
       "55  22835.241928  107436.693695  6699.777356  13.228742     58.907409   \n",
       "56  22897.138534  107835.137715  6720.477926  13.204826     59.015178   \n",
       "57  22958.821395  108232.442424   6741.11526  13.180877     59.122672   \n",
       "\n",
       "   Interest Rate  \n",
       "0       8.714422  \n",
       "1       8.682614  \n",
       "2       8.653989  \n",
       "3       8.628148  \n",
       "4       8.604818  \n",
       "5       8.583815  \n",
       "6       8.565012  \n",
       "7       8.548316  \n",
       "8       8.533658  \n",
       "9       8.520975  \n",
       "10       8.51021  \n",
       "11      8.501303  \n",
       "12      8.494192  \n",
       "13      8.488809  \n",
       "14      8.485083  \n",
       "15      8.482938  \n",
       "16      8.482295  \n",
       "17      8.483073  \n",
       "18      8.485188  \n",
       "19      8.488559  \n",
       "20      8.493102  \n",
       "21      8.498736  \n",
       "22      8.505382  \n",
       "23      8.512963  \n",
       "24      8.521407  \n",
       "25      8.530642  \n",
       "26      8.540602  \n",
       "27      8.551224  \n",
       "28      8.562449  \n",
       "29      8.574222  \n",
       "30       8.58649  \n",
       "31      8.599207  \n",
       "32      8.612328  \n",
       "33      8.625811  \n",
       "34       8.63962  \n",
       "35      8.653718  \n",
       "36      8.668076  \n",
       "37      8.682662  \n",
       "38      8.697452  \n",
       "39       8.71242  \n",
       "40      8.727545  \n",
       "41      8.742806  \n",
       "42      8.758185  \n",
       "43      8.773666  \n",
       "44      8.789234  \n",
       "45      8.804875  \n",
       "46      8.820577  \n",
       "47      8.836328  \n",
       "48       8.85212  \n",
       "49      8.867942  \n",
       "50      8.883787  \n",
       "51      8.899647  \n",
       "52      8.915516  \n",
       "53      8.931387  \n",
       "54      8.947256  \n",
       "55      8.963118  \n",
       "56      8.978968  \n",
       "57      8.994803  "
      ]
     },
     "execution_count": 34,
     "metadata": {},
     "output_type": "execute_result"
    }
   ],
   "source": [
    "pred = pd.DataFrame(index=range(0,len(predict)),columns=[data_1.columns])\n",
    "for j in range(0,6):\n",
    "    for i in range(0, len(predict)):\n",
    "       pred.iloc[i][j] = predict[i][j]\n",
    "pred"
   ]
  },
  {
   "cell_type": "code",
   "execution_count": 35,
   "id": "8d5d8ec5",
   "metadata": {
    "scrolled": true
   },
   "outputs": [
    {
     "name": "stdout",
     "output_type": "stream",
     "text": [
      "rmse value for Closing Price is :  5975.726959940235\n",
      "rmse value for Gold Price is :  18728.735406994685\n",
      "rmse value for Oil Price is :  2577.3300323903395\n",
      "rmse value for M3 is :  3.652950430006263\n",
      "rmse value for Exchange Rate is :  5.937639929781941\n",
      "rmse value for Interest Rate is :  1.4274550943807096\n"
     ]
    }
   ],
   "source": [
    "#check rmse\n",
    "for i in data_1.columns:\n",
    "    print('rmse value for', i, 'is : ', math.sqrt(mean_squared_error(pred[i], test[i])))"
   ]
  },
  {
   "cell_type": "markdown",
   "id": "c8acbe66",
   "metadata": {},
   "source": [
    "Here, the RMSE values are not good for Closing Price,  Gold Price and Oil Price which indicates bad fits of our model."
   ]
  },
  {
   "cell_type": "code",
   "execution_count": 36,
   "id": "6e0a4f76",
   "metadata": {},
   "outputs": [],
   "source": [
    "#Fitting the entire data on our model\n",
    "model = VAR(endog=data_1)\n",
    "model_fit = model.fit()"
   ]
  },
  {
   "cell_type": "code",
   "execution_count": 59,
   "id": "371feba9",
   "metadata": {},
   "outputs": [
    {
     "data": {
      "text/plain": [
       "array([[3.40797007e+04, 8.32408079e+04, 3.91879335e+03, 1.05691903e+01,\n",
       "        5.08656259e+01, 6.28695736e+00],\n",
       "       [3.40967472e+04, 8.40594817e+04, 3.91522520e+03, 1.08300029e+01,\n",
       "        5.09877819e+01, 6.31787496e+00],\n",
       "       [3.41099032e+04, 8.48588624e+04, 3.91905102e+03, 1.10417895e+01,\n",
       "        5.11164029e+01, 6.34446399e+00],\n",
       "       [3.41206384e+04, 8.56401718e+04, 3.92918735e+03, 1.12125616e+01,\n",
       "        5.12507293e+01, 6.36808107e+00],\n",
       "       [3.41300761e+04, 8.64043832e+04, 3.94468467e+03, 1.13490286e+01,\n",
       "        5.13901893e+01, 6.38979224e+00],\n",
       "       [3.41390804e+04, 8.71522772e+04, 3.96471168e+03, 1.14568011e+01,\n",
       "        5.15343210e+01, 6.41042581e+00],\n",
       "       [3.41483202e+04, 8.78844861e+04, 3.98854088e+03, 1.15405661e+01,\n",
       "        5.16827225e+01, 6.43061625e+00],\n",
       "       [3.41583169e+04, 8.86015285e+04, 4.01553584e+03, 1.16042349e+01,\n",
       "        5.18350205e+01, 6.45084038e+00],\n",
       "       [3.41694791e+04, 8.93038375e+04, 4.04513983e+03, 1.16510693e+01,\n",
       "        5.19908528e+01, 6.47144733e+00],\n",
       "       [3.41821292e+04, 8.99917816e+04, 4.07686583e+03, 1.16837876e+01,\n",
       "        5.21498587e+01, 6.49268326e+00],\n",
       "       [3.41965223e+04, 9.06656824e+04, 4.11028778e+03, 1.17046545e+01,\n",
       "        5.23116748e+01, 6.51471177e+00],\n",
       "       [3.42128612e+04, 9.13258276e+04, 4.14503300e+03, 1.17155567e+01,\n",
       "        5.24759347e+01, 6.53763068e+00],\n",
       "       [3.42313070e+04, 9.19724817e+04, 4.18077550e+03, 1.17180654e+01,\n",
       "        5.26422707e+01, 6.56148589e+00],\n",
       "       [3.42519873e+04, 9.26058940e+04, 4.21723030e+03, 1.17134902e+01,\n",
       "        5.28103160e+01, 6.58628269e+00],\n",
       "       [3.42750026e+04, 9.32263047e+04, 4.25414840e+03, 1.17029226e+01,\n",
       "        5.29797082e+01, 6.61199509e+00]])"
      ]
     },
     "execution_count": 59,
     "metadata": {},
     "output_type": "execute_result"
    }
   ],
   "source": [
    "forecast_upto15 = model_fit.forecast(model_fit.y, steps=15)\n",
    "forecast_upto15"
   ]
  },
  {
   "cell_type": "code",
   "execution_count": 106,
   "id": "bbf35ea3",
   "metadata": {},
   "outputs": [
    {
     "data": {
      "text/plain": [
       "(15, 6)"
      ]
     },
     "execution_count": 106,
     "metadata": {},
     "output_type": "execute_result"
    }
   ],
   "source": [
    "forecast_upto15.shape"
   ]
  },
  {
   "cell_type": "code",
   "execution_count": 74,
   "id": "af1a7fc7",
   "metadata": {},
   "outputs": [
    {
     "data": {
      "text/html": [
       "<div>\n",
       "<style scoped>\n",
       "    .dataframe tbody tr th:only-of-type {\n",
       "        vertical-align: middle;\n",
       "    }\n",
       "\n",
       "    .dataframe tbody tr th {\n",
       "        vertical-align: top;\n",
       "    }\n",
       "\n",
       "    .dataframe thead tr th {\n",
       "        text-align: left;\n",
       "    }\n",
       "</style>\n",
       "<table border=\"1\" class=\"dataframe\">\n",
       "  <thead>\n",
       "    <tr>\n",
       "      <th></th>\n",
       "      <th>Closing Price</th>\n",
       "      <th>Gold Price</th>\n",
       "      <th>Oil Price</th>\n",
       "      <th>M3</th>\n",
       "      <th>Exchange Rate</th>\n",
       "      <th>Interest Rate</th>\n",
       "    </tr>\n",
       "  </thead>\n",
       "  <tbody>\n",
       "    <tr>\n",
       "      <th>0</th>\n",
       "      <td>34079.700661</td>\n",
       "      <td>83240.807931</td>\n",
       "      <td>3918.793345</td>\n",
       "      <td>10.56919</td>\n",
       "      <td>50.865626</td>\n",
       "      <td>6.286957</td>\n",
       "    </tr>\n",
       "    <tr>\n",
       "      <th>1</th>\n",
       "      <td>34096.747205</td>\n",
       "      <td>84059.481659</td>\n",
       "      <td>3915.225204</td>\n",
       "      <td>10.830003</td>\n",
       "      <td>50.987782</td>\n",
       "      <td>6.317875</td>\n",
       "    </tr>\n",
       "    <tr>\n",
       "      <th>2</th>\n",
       "      <td>34109.903239</td>\n",
       "      <td>84858.86237</td>\n",
       "      <td>3919.051023</td>\n",
       "      <td>11.041789</td>\n",
       "      <td>51.116403</td>\n",
       "      <td>6.344464</td>\n",
       "    </tr>\n",
       "    <tr>\n",
       "      <th>3</th>\n",
       "      <td>34120.638387</td>\n",
       "      <td>85640.171812</td>\n",
       "      <td>3929.187345</td>\n",
       "      <td>11.212562</td>\n",
       "      <td>51.250729</td>\n",
       "      <td>6.368081</td>\n",
       "    </tr>\n",
       "    <tr>\n",
       "      <th>4</th>\n",
       "      <td>34130.076063</td>\n",
       "      <td>86404.383209</td>\n",
       "      <td>3944.684674</td>\n",
       "      <td>11.349029</td>\n",
       "      <td>51.390189</td>\n",
       "      <td>6.389792</td>\n",
       "    </tr>\n",
       "    <tr>\n",
       "      <th>5</th>\n",
       "      <td>34139.080359</td>\n",
       "      <td>87152.277204</td>\n",
       "      <td>3964.711678</td>\n",
       "      <td>11.456801</td>\n",
       "      <td>51.534321</td>\n",
       "      <td>6.410426</td>\n",
       "    </tr>\n",
       "    <tr>\n",
       "      <th>6</th>\n",
       "      <td>34148.320221</td>\n",
       "      <td>87884.486058</td>\n",
       "      <td>3988.540879</td>\n",
       "      <td>11.540566</td>\n",
       "      <td>51.682722</td>\n",
       "      <td>6.430616</td>\n",
       "    </tr>\n",
       "    <tr>\n",
       "      <th>7</th>\n",
       "      <td>34158.316906</td>\n",
       "      <td>88601.528547</td>\n",
       "      <td>4015.535843</td>\n",
       "      <td>11.604235</td>\n",
       "      <td>51.83502</td>\n",
       "      <td>6.45084</td>\n",
       "    </tr>\n",
       "    <tr>\n",
       "      <th>8</th>\n",
       "      <td>34169.479131</td>\n",
       "      <td>89303.837519</td>\n",
       "      <td>4045.139835</td>\n",
       "      <td>11.651069</td>\n",
       "      <td>51.990853</td>\n",
       "      <td>6.471447</td>\n",
       "    </tr>\n",
       "    <tr>\n",
       "      <th>9</th>\n",
       "      <td>34182.129171</td>\n",
       "      <td>89991.781619</td>\n",
       "      <td>4076.865831</td>\n",
       "      <td>11.683788</td>\n",
       "      <td>52.149859</td>\n",
       "      <td>6.492683</td>\n",
       "    </tr>\n",
       "    <tr>\n",
       "      <th>10</th>\n",
       "      <td>34196.522277</td>\n",
       "      <td>90665.682369</td>\n",
       "      <td>4110.287783</td>\n",
       "      <td>11.704655</td>\n",
       "      <td>52.311675</td>\n",
       "      <td>6.514712</td>\n",
       "    </tr>\n",
       "    <tr>\n",
       "      <th>11</th>\n",
       "      <td>34212.861183</td>\n",
       "      <td>91325.827554</td>\n",
       "      <td>4145.032996</td>\n",
       "      <td>11.715557</td>\n",
       "      <td>52.475935</td>\n",
       "      <td>6.537631</td>\n",
       "    </tr>\n",
       "    <tr>\n",
       "      <th>12</th>\n",
       "      <td>34231.306975</td>\n",
       "      <td>91972.481662</td>\n",
       "      <td>4180.7755</td>\n",
       "      <td>11.718065</td>\n",
       "      <td>52.642271</td>\n",
       "      <td>6.561486</td>\n",
       "    </tr>\n",
       "    <tr>\n",
       "      <th>13</th>\n",
       "      <td>34251.987296</td>\n",
       "      <td>92605.893961</td>\n",
       "      <td>4217.230303</td>\n",
       "      <td>11.71349</td>\n",
       "      <td>52.810316</td>\n",
       "      <td>6.586283</td>\n",
       "    </tr>\n",
       "    <tr>\n",
       "      <th>14</th>\n",
       "      <td>34275.002567</td>\n",
       "      <td>93226.304691</td>\n",
       "      <td>4254.148396</td>\n",
       "      <td>11.702923</td>\n",
       "      <td>52.979708</td>\n",
       "      <td>6.611995</td>\n",
       "    </tr>\n",
       "  </tbody>\n",
       "</table>\n",
       "</div>"
      ],
      "text/plain": [
       "   Closing Price    Gold Price    Oil Price         M3 Exchange Rate  \\\n",
       "0   34079.700661  83240.807931  3918.793345   10.56919     50.865626   \n",
       "1   34096.747205  84059.481659  3915.225204  10.830003     50.987782   \n",
       "2   34109.903239   84858.86237  3919.051023  11.041789     51.116403   \n",
       "3   34120.638387  85640.171812  3929.187345  11.212562     51.250729   \n",
       "4   34130.076063  86404.383209  3944.684674  11.349029     51.390189   \n",
       "5   34139.080359  87152.277204  3964.711678  11.456801     51.534321   \n",
       "6   34148.320221  87884.486058  3988.540879  11.540566     51.682722   \n",
       "7   34158.316906  88601.528547  4015.535843  11.604235      51.83502   \n",
       "8   34169.479131  89303.837519  4045.139835  11.651069     51.990853   \n",
       "9   34182.129171  89991.781619  4076.865831  11.683788     52.149859   \n",
       "10  34196.522277  90665.682369  4110.287783  11.704655     52.311675   \n",
       "11  34212.861183  91325.827554  4145.032996  11.715557     52.475935   \n",
       "12  34231.306975  91972.481662    4180.7755  11.718065     52.642271   \n",
       "13  34251.987296  92605.893961  4217.230303   11.71349     52.810316   \n",
       "14  34275.002567  93226.304691  4254.148396  11.702923     52.979708   \n",
       "\n",
       "   Interest Rate  \n",
       "0       6.286957  \n",
       "1       6.317875  \n",
       "2       6.344464  \n",
       "3       6.368081  \n",
       "4       6.389792  \n",
       "5       6.410426  \n",
       "6       6.430616  \n",
       "7        6.45084  \n",
       "8       6.471447  \n",
       "9       6.492683  \n",
       "10      6.514712  \n",
       "11      6.537631  \n",
       "12      6.561486  \n",
       "13      6.586283  \n",
       "14      6.611995  "
      ]
     },
     "execution_count": 74,
     "metadata": {},
     "output_type": "execute_result"
    }
   ],
   "source": [
    "forecast_df = pd.DataFrame(index=range(0,len(forecast_upto15)),columns=[data_1.columns])\n",
    "for j in range(0,6):\n",
    "    for i in range(0, len(forecast_upto15)):\n",
    "       forecast_df.iloc[i][j] = forecast_upto15[i][j]\n",
    "forecast_df"
   ]
  },
  {
   "cell_type": "markdown",
   "id": "b351c498",
   "metadata": {},
   "source": [
    "These are the forecasting values for next 15 timepoints"
   ]
  },
  {
   "cell_type": "code",
   "execution_count": 75,
   "id": "d5ae521b",
   "metadata": {},
   "outputs": [
    {
     "data": {
      "text/plain": [
       "MultiIndex([('Closing Price',),\n",
       "            (   'Gold Price',),\n",
       "            (    'Oil Price',),\n",
       "            (           'M3',),\n",
       "            ('Exchange Rate',),\n",
       "            ('Interest Rate',)],\n",
       "           )"
      ]
     },
     "execution_count": 75,
     "metadata": {},
     "output_type": "execute_result"
    }
   ],
   "source": [
    "forecast_df.columns"
   ]
  },
  {
   "cell_type": "code",
   "execution_count": 76,
   "id": "959cf55c",
   "metadata": {},
   "outputs": [],
   "source": [
    "forecast_df.columns = ['Closing Price',\n",
    "            'Gold Price',\n",
    "            'Oil Price',\n",
    "            'M3',\n",
    "            'Exchange Rate',\n",
    "            'Interest Rate']"
   ]
  },
  {
   "cell_type": "code",
   "execution_count": 77,
   "id": "5953eb7d",
   "metadata": {
    "scrolled": true
   },
   "outputs": [
    {
     "data": {
      "text/plain": [
       "Index(['Closing Price', 'Gold Price', 'Oil Price', 'M3', 'Exchange Rate',\n",
       "       'Interest Rate'],\n",
       "      dtype='object')"
      ]
     },
     "execution_count": 77,
     "metadata": {},
     "output_type": "execute_result"
    }
   ],
   "source": [
    "forecast_df.columns"
   ]
  },
  {
   "cell_type": "code",
   "execution_count": 78,
   "id": "bfe7930d",
   "metadata": {},
   "outputs": [],
   "source": [
    "final_data = data_1.append(forecast_df)"
   ]
  },
  {
   "cell_type": "code",
   "execution_count": 81,
   "id": "6679fed0",
   "metadata": {
    "scrolled": true
   },
   "outputs": [],
   "source": [
    "final_data['days'] = range(0,206)"
   ]
  },
  {
   "cell_type": "code",
   "execution_count": 82,
   "id": "474b1c17",
   "metadata": {},
   "outputs": [
    {
     "data": {
      "text/html": [
       "<div>\n",
       "<style scoped>\n",
       "    .dataframe tbody tr th:only-of-type {\n",
       "        vertical-align: middle;\n",
       "    }\n",
       "\n",
       "    .dataframe tbody tr th {\n",
       "        vertical-align: top;\n",
       "    }\n",
       "\n",
       "    .dataframe thead th {\n",
       "        text-align: right;\n",
       "    }\n",
       "</style>\n",
       "<table border=\"1\" class=\"dataframe\">\n",
       "  <thead>\n",
       "    <tr style=\"text-align: right;\">\n",
       "      <th></th>\n",
       "      <th>Closing Price</th>\n",
       "      <th>Gold Price</th>\n",
       "      <th>Oil Price</th>\n",
       "      <th>M3</th>\n",
       "      <th>Exchange Rate</th>\n",
       "      <th>Interest Rate</th>\n",
       "      <th>days</th>\n",
       "    </tr>\n",
       "  </thead>\n",
       "  <tbody>\n",
       "    <tr>\n",
       "      <th>0</th>\n",
       "      <td>3562.31</td>\n",
       "      <td>14465.5</td>\n",
       "      <td>972.86</td>\n",
       "      <td>14.19164</td>\n",
       "      <td>30.415</td>\n",
       "      <td>6.5</td>\n",
       "      <td>0</td>\n",
       "    </tr>\n",
       "    <tr>\n",
       "      <th>1</th>\n",
       "      <td>3469.35</td>\n",
       "      <td>14702.3</td>\n",
       "      <td>1152.2</td>\n",
       "      <td>14.01346</td>\n",
       "      <td>30.574</td>\n",
       "      <td>6.5</td>\n",
       "      <td>1</td>\n",
       "    </tr>\n",
       "    <tr>\n",
       "      <th>2</th>\n",
       "      <td>3338.16</td>\n",
       "      <td>15080.2</td>\n",
       "      <td>1244.02</td>\n",
       "      <td>14.08145</td>\n",
       "      <td>31.209</td>\n",
       "      <td>6.5</td>\n",
       "      <td>2</td>\n",
       "    </tr>\n",
       "    <tr>\n",
       "      <th>3</th>\n",
       "      <td>3125.73</td>\n",
       "      <td>16006.7</td>\n",
       "      <td>1257.83</td>\n",
       "      <td>17.20787</td>\n",
       "      <td>31.97</td>\n",
       "      <td>6.5</td>\n",
       "      <td>3</td>\n",
       "    </tr>\n",
       "    <tr>\n",
       "      <th>4</th>\n",
       "      <td>3244.7</td>\n",
       "      <td>15561.9</td>\n",
       "      <td>1199.06</td>\n",
       "      <td>16.27839</td>\n",
       "      <td>32.17</td>\n",
       "      <td>6.5</td>\n",
       "      <td>4</td>\n",
       "    </tr>\n",
       "    <tr>\n",
       "      <th>...</th>\n",
       "      <td>...</td>\n",
       "      <td>...</td>\n",
       "      <td>...</td>\n",
       "      <td>...</td>\n",
       "      <td>...</td>\n",
       "      <td>...</td>\n",
       "      <td>...</td>\n",
       "    </tr>\n",
       "    <tr>\n",
       "      <th>10</th>\n",
       "      <td>34196.522277</td>\n",
       "      <td>90665.682369</td>\n",
       "      <td>4110.287783</td>\n",
       "      <td>11.704655</td>\n",
       "      <td>52.311675</td>\n",
       "      <td>6.514712</td>\n",
       "      <td>201</td>\n",
       "    </tr>\n",
       "    <tr>\n",
       "      <th>11</th>\n",
       "      <td>34212.861183</td>\n",
       "      <td>91325.827554</td>\n",
       "      <td>4145.032996</td>\n",
       "      <td>11.715557</td>\n",
       "      <td>52.475935</td>\n",
       "      <td>6.537631</td>\n",
       "      <td>202</td>\n",
       "    </tr>\n",
       "    <tr>\n",
       "      <th>12</th>\n",
       "      <td>34231.306975</td>\n",
       "      <td>91972.481662</td>\n",
       "      <td>4180.7755</td>\n",
       "      <td>11.718065</td>\n",
       "      <td>52.642271</td>\n",
       "      <td>6.561486</td>\n",
       "      <td>203</td>\n",
       "    </tr>\n",
       "    <tr>\n",
       "      <th>13</th>\n",
       "      <td>34251.987296</td>\n",
       "      <td>92605.893961</td>\n",
       "      <td>4217.230303</td>\n",
       "      <td>11.71349</td>\n",
       "      <td>52.810316</td>\n",
       "      <td>6.586283</td>\n",
       "      <td>204</td>\n",
       "    </tr>\n",
       "    <tr>\n",
       "      <th>14</th>\n",
       "      <td>34275.002567</td>\n",
       "      <td>93226.304691</td>\n",
       "      <td>4254.148396</td>\n",
       "      <td>11.702923</td>\n",
       "      <td>52.979708</td>\n",
       "      <td>6.611995</td>\n",
       "      <td>205</td>\n",
       "    </tr>\n",
       "  </tbody>\n",
       "</table>\n",
       "<p>206 rows × 7 columns</p>\n",
       "</div>"
      ],
      "text/plain": [
       "   Closing Price    Gold Price    Oil Price         M3 Exchange Rate  \\\n",
       "0        3562.31       14465.5       972.86   14.19164        30.415   \n",
       "1        3469.35       14702.3       1152.2   14.01346        30.574   \n",
       "2        3338.16       15080.2      1244.02   14.08145        31.209   \n",
       "3        3125.73       16006.7      1257.83   17.20787         31.97   \n",
       "4         3244.7       15561.9      1199.06   16.27839         32.17   \n",
       "..           ...           ...          ...        ...           ...   \n",
       "10  34196.522277  90665.682369  4110.287783  11.704655     52.311675   \n",
       "11  34212.861183  91325.827554  4145.032996  11.715557     52.475935   \n",
       "12  34231.306975  91972.481662    4180.7755  11.718065     52.642271   \n",
       "13  34251.987296  92605.893961  4217.230303   11.71349     52.810316   \n",
       "14  34275.002567  93226.304691  4254.148396  11.702923     52.979708   \n",
       "\n",
       "   Interest Rate  days  \n",
       "0            6.5     0  \n",
       "1            6.5     1  \n",
       "2            6.5     2  \n",
       "3            6.5     3  \n",
       "4            6.5     4  \n",
       "..           ...   ...  \n",
       "10      6.514712   201  \n",
       "11      6.537631   202  \n",
       "12      6.561486   203  \n",
       "13      6.586283   204  \n",
       "14      6.611995   205  \n",
       "\n",
       "[206 rows x 7 columns]"
      ]
     },
     "execution_count": 82,
     "metadata": {},
     "output_type": "execute_result"
    }
   ],
   "source": [
    "final_data"
   ]
  },
  {
   "cell_type": "code",
   "execution_count": 83,
   "id": "864d29e7",
   "metadata": {
    "scrolled": false
   },
   "outputs": [],
   "source": [
    "final_data=final_data.set_index('days')"
   ]
  },
  {
   "cell_type": "code",
   "execution_count": 84,
   "id": "69d16370",
   "metadata": {},
   "outputs": [
    {
     "data": {
      "text/html": [
       "<div>\n",
       "<style scoped>\n",
       "    .dataframe tbody tr th:only-of-type {\n",
       "        vertical-align: middle;\n",
       "    }\n",
       "\n",
       "    .dataframe tbody tr th {\n",
       "        vertical-align: top;\n",
       "    }\n",
       "\n",
       "    .dataframe thead th {\n",
       "        text-align: right;\n",
       "    }\n",
       "</style>\n",
       "<table border=\"1\" class=\"dataframe\">\n",
       "  <thead>\n",
       "    <tr style=\"text-align: right;\">\n",
       "      <th></th>\n",
       "      <th>Closing Price</th>\n",
       "      <th>Gold Price</th>\n",
       "      <th>Oil Price</th>\n",
       "      <th>M3</th>\n",
       "      <th>Exchange Rate</th>\n",
       "      <th>Interest Rate</th>\n",
       "    </tr>\n",
       "    <tr>\n",
       "      <th>days</th>\n",
       "      <th></th>\n",
       "      <th></th>\n",
       "      <th></th>\n",
       "      <th></th>\n",
       "      <th></th>\n",
       "      <th></th>\n",
       "    </tr>\n",
       "  </thead>\n",
       "  <tbody>\n",
       "    <tr>\n",
       "      <th>0</th>\n",
       "      <td>3562.31</td>\n",
       "      <td>14465.5</td>\n",
       "      <td>972.86</td>\n",
       "      <td>14.19164</td>\n",
       "      <td>30.415</td>\n",
       "      <td>6.5</td>\n",
       "    </tr>\n",
       "    <tr>\n",
       "      <th>1</th>\n",
       "      <td>3469.35</td>\n",
       "      <td>14702.3</td>\n",
       "      <td>1152.2</td>\n",
       "      <td>14.01346</td>\n",
       "      <td>30.574</td>\n",
       "      <td>6.5</td>\n",
       "    </tr>\n",
       "    <tr>\n",
       "      <th>2</th>\n",
       "      <td>3338.16</td>\n",
       "      <td>15080.2</td>\n",
       "      <td>1244.02</td>\n",
       "      <td>14.08145</td>\n",
       "      <td>31.209</td>\n",
       "      <td>6.5</td>\n",
       "    </tr>\n",
       "    <tr>\n",
       "      <th>3</th>\n",
       "      <td>3125.73</td>\n",
       "      <td>16006.7</td>\n",
       "      <td>1257.83</td>\n",
       "      <td>17.20787</td>\n",
       "      <td>31.97</td>\n",
       "      <td>6.5</td>\n",
       "    </tr>\n",
       "    <tr>\n",
       "      <th>4</th>\n",
       "      <td>3244.7</td>\n",
       "      <td>15561.9</td>\n",
       "      <td>1199.06</td>\n",
       "      <td>16.27839</td>\n",
       "      <td>32.17</td>\n",
       "      <td>6.5</td>\n",
       "    </tr>\n",
       "    <tr>\n",
       "      <th>...</th>\n",
       "      <td>...</td>\n",
       "      <td>...</td>\n",
       "      <td>...</td>\n",
       "      <td>...</td>\n",
       "      <td>...</td>\n",
       "      <td>...</td>\n",
       "    </tr>\n",
       "    <tr>\n",
       "      <th>201</th>\n",
       "      <td>34196.522277</td>\n",
       "      <td>90665.682369</td>\n",
       "      <td>4110.287783</td>\n",
       "      <td>11.704655</td>\n",
       "      <td>52.311675</td>\n",
       "      <td>6.514712</td>\n",
       "    </tr>\n",
       "    <tr>\n",
       "      <th>202</th>\n",
       "      <td>34212.861183</td>\n",
       "      <td>91325.827554</td>\n",
       "      <td>4145.032996</td>\n",
       "      <td>11.715557</td>\n",
       "      <td>52.475935</td>\n",
       "      <td>6.537631</td>\n",
       "    </tr>\n",
       "    <tr>\n",
       "      <th>203</th>\n",
       "      <td>34231.306975</td>\n",
       "      <td>91972.481662</td>\n",
       "      <td>4180.7755</td>\n",
       "      <td>11.718065</td>\n",
       "      <td>52.642271</td>\n",
       "      <td>6.561486</td>\n",
       "    </tr>\n",
       "    <tr>\n",
       "      <th>204</th>\n",
       "      <td>34251.987296</td>\n",
       "      <td>92605.893961</td>\n",
       "      <td>4217.230303</td>\n",
       "      <td>11.71349</td>\n",
       "      <td>52.810316</td>\n",
       "      <td>6.586283</td>\n",
       "    </tr>\n",
       "    <tr>\n",
       "      <th>205</th>\n",
       "      <td>34275.002567</td>\n",
       "      <td>93226.304691</td>\n",
       "      <td>4254.148396</td>\n",
       "      <td>11.702923</td>\n",
       "      <td>52.979708</td>\n",
       "      <td>6.611995</td>\n",
       "    </tr>\n",
       "  </tbody>\n",
       "</table>\n",
       "<p>206 rows × 6 columns</p>\n",
       "</div>"
      ],
      "text/plain": [
       "     Closing Price    Gold Price    Oil Price         M3 Exchange Rate  \\\n",
       "days                                                                     \n",
       "0          3562.31       14465.5       972.86   14.19164        30.415   \n",
       "1          3469.35       14702.3       1152.2   14.01346        30.574   \n",
       "2          3338.16       15080.2      1244.02   14.08145        31.209   \n",
       "3          3125.73       16006.7      1257.83   17.20787         31.97   \n",
       "4           3244.7       15561.9      1199.06   16.27839         32.17   \n",
       "...            ...           ...          ...        ...           ...   \n",
       "201   34196.522277  90665.682369  4110.287783  11.704655     52.311675   \n",
       "202   34212.861183  91325.827554  4145.032996  11.715557     52.475935   \n",
       "203   34231.306975  91972.481662    4180.7755  11.718065     52.642271   \n",
       "204   34251.987296  92605.893961  4217.230303   11.71349     52.810316   \n",
       "205   34275.002567  93226.304691  4254.148396  11.702923     52.979708   \n",
       "\n",
       "     Interest Rate  \n",
       "days                \n",
       "0              6.5  \n",
       "1              6.5  \n",
       "2              6.5  \n",
       "3              6.5  \n",
       "4              6.5  \n",
       "...            ...  \n",
       "201       6.514712  \n",
       "202       6.537631  \n",
       "203       6.561486  \n",
       "204       6.586283  \n",
       "205       6.611995  \n",
       "\n",
       "[206 rows x 6 columns]"
      ]
     },
     "execution_count": 84,
     "metadata": {},
     "output_type": "execute_result"
    }
   ],
   "source": [
    "final_data"
   ]
  },
  {
   "cell_type": "code",
   "execution_count": 85,
   "id": "20f2f6aa",
   "metadata": {},
   "outputs": [
    {
     "data": {
      "text/html": [
       "<div>\n",
       "<style scoped>\n",
       "    .dataframe tbody tr th:only-of-type {\n",
       "        vertical-align: middle;\n",
       "    }\n",
       "\n",
       "    .dataframe tbody tr th {\n",
       "        vertical-align: top;\n",
       "    }\n",
       "\n",
       "    .dataframe thead th {\n",
       "        text-align: right;\n",
       "    }\n",
       "</style>\n",
       "<table border=\"1\" class=\"dataframe\">\n",
       "  <thead>\n",
       "    <tr style=\"text-align: right;\">\n",
       "      <th></th>\n",
       "      <th>days</th>\n",
       "      <th>Closing Price</th>\n",
       "      <th>Gold Price</th>\n",
       "      <th>Oil Price</th>\n",
       "      <th>M3</th>\n",
       "      <th>Exchange Rate</th>\n",
       "      <th>Interest Rate</th>\n",
       "    </tr>\n",
       "  </thead>\n",
       "  <tbody>\n",
       "    <tr>\n",
       "      <th>0</th>\n",
       "      <td>0</td>\n",
       "      <td>3562.31</td>\n",
       "      <td>14465.5</td>\n",
       "      <td>972.86</td>\n",
       "      <td>14.19164</td>\n",
       "      <td>30.415</td>\n",
       "      <td>6.5</td>\n",
       "    </tr>\n",
       "    <tr>\n",
       "      <th>1</th>\n",
       "      <td>1</td>\n",
       "      <td>3469.35</td>\n",
       "      <td>14702.3</td>\n",
       "      <td>1152.2</td>\n",
       "      <td>14.01346</td>\n",
       "      <td>30.574</td>\n",
       "      <td>6.5</td>\n",
       "    </tr>\n",
       "    <tr>\n",
       "      <th>2</th>\n",
       "      <td>2</td>\n",
       "      <td>3338.16</td>\n",
       "      <td>15080.2</td>\n",
       "      <td>1244.02</td>\n",
       "      <td>14.08145</td>\n",
       "      <td>31.209</td>\n",
       "      <td>6.5</td>\n",
       "    </tr>\n",
       "    <tr>\n",
       "      <th>3</th>\n",
       "      <td>3</td>\n",
       "      <td>3125.73</td>\n",
       "      <td>16006.7</td>\n",
       "      <td>1257.83</td>\n",
       "      <td>17.20787</td>\n",
       "      <td>31.97</td>\n",
       "      <td>6.5</td>\n",
       "    </tr>\n",
       "    <tr>\n",
       "      <th>4</th>\n",
       "      <td>4</td>\n",
       "      <td>3244.7</td>\n",
       "      <td>15561.9</td>\n",
       "      <td>1199.06</td>\n",
       "      <td>16.27839</td>\n",
       "      <td>32.17</td>\n",
       "      <td>6.5</td>\n",
       "    </tr>\n",
       "    <tr>\n",
       "      <th>...</th>\n",
       "      <td>...</td>\n",
       "      <td>...</td>\n",
       "      <td>...</td>\n",
       "      <td>...</td>\n",
       "      <td>...</td>\n",
       "      <td>...</td>\n",
       "      <td>...</td>\n",
       "    </tr>\n",
       "    <tr>\n",
       "      <th>201</th>\n",
       "      <td>201</td>\n",
       "      <td>34196.522277</td>\n",
       "      <td>90665.682369</td>\n",
       "      <td>4110.287783</td>\n",
       "      <td>11.704655</td>\n",
       "      <td>52.311675</td>\n",
       "      <td>6.514712</td>\n",
       "    </tr>\n",
       "    <tr>\n",
       "      <th>202</th>\n",
       "      <td>202</td>\n",
       "      <td>34212.861183</td>\n",
       "      <td>91325.827554</td>\n",
       "      <td>4145.032996</td>\n",
       "      <td>11.715557</td>\n",
       "      <td>52.475935</td>\n",
       "      <td>6.537631</td>\n",
       "    </tr>\n",
       "    <tr>\n",
       "      <th>203</th>\n",
       "      <td>203</td>\n",
       "      <td>34231.306975</td>\n",
       "      <td>91972.481662</td>\n",
       "      <td>4180.7755</td>\n",
       "      <td>11.718065</td>\n",
       "      <td>52.642271</td>\n",
       "      <td>6.561486</td>\n",
       "    </tr>\n",
       "    <tr>\n",
       "      <th>204</th>\n",
       "      <td>204</td>\n",
       "      <td>34251.987296</td>\n",
       "      <td>92605.893961</td>\n",
       "      <td>4217.230303</td>\n",
       "      <td>11.71349</td>\n",
       "      <td>52.810316</td>\n",
       "      <td>6.586283</td>\n",
       "    </tr>\n",
       "    <tr>\n",
       "      <th>205</th>\n",
       "      <td>205</td>\n",
       "      <td>34275.002567</td>\n",
       "      <td>93226.304691</td>\n",
       "      <td>4254.148396</td>\n",
       "      <td>11.702923</td>\n",
       "      <td>52.979708</td>\n",
       "      <td>6.611995</td>\n",
       "    </tr>\n",
       "  </tbody>\n",
       "</table>\n",
       "<p>206 rows × 7 columns</p>\n",
       "</div>"
      ],
      "text/plain": [
       "     days Closing Price    Gold Price    Oil Price         M3 Exchange Rate  \\\n",
       "0       0       3562.31       14465.5       972.86   14.19164        30.415   \n",
       "1       1       3469.35       14702.3       1152.2   14.01346        30.574   \n",
       "2       2       3338.16       15080.2      1244.02   14.08145        31.209   \n",
       "3       3       3125.73       16006.7      1257.83   17.20787         31.97   \n",
       "4       4        3244.7       15561.9      1199.06   16.27839         32.17   \n",
       "..    ...           ...           ...          ...        ...           ...   \n",
       "201   201  34196.522277  90665.682369  4110.287783  11.704655     52.311675   \n",
       "202   202  34212.861183  91325.827554  4145.032996  11.715557     52.475935   \n",
       "203   203  34231.306975  91972.481662    4180.7755  11.718065     52.642271   \n",
       "204   204  34251.987296  92605.893961  4217.230303   11.71349     52.810316   \n",
       "205   205  34275.002567  93226.304691  4254.148396  11.702923     52.979708   \n",
       "\n",
       "    Interest Rate  \n",
       "0             6.5  \n",
       "1             6.5  \n",
       "2             6.5  \n",
       "3             6.5  \n",
       "4             6.5  \n",
       "..            ...  \n",
       "201      6.514712  \n",
       "202      6.537631  \n",
       "203      6.561486  \n",
       "204      6.586283  \n",
       "205      6.611995  \n",
       "\n",
       "[206 rows x 7 columns]"
      ]
     },
     "execution_count": 85,
     "metadata": {},
     "output_type": "execute_result"
    }
   ],
   "source": [
    "final_data.reset_index()"
   ]
  },
  {
   "cell_type": "code",
   "execution_count": 86,
   "id": "1fa36f60",
   "metadata": {},
   "outputs": [
    {
     "data": {
      "text/html": [
       "<div>\n",
       "<style scoped>\n",
       "    .dataframe tbody tr th:only-of-type {\n",
       "        vertical-align: middle;\n",
       "    }\n",
       "\n",
       "    .dataframe tbody tr th {\n",
       "        vertical-align: top;\n",
       "    }\n",
       "\n",
       "    .dataframe thead th {\n",
       "        text-align: right;\n",
       "    }\n",
       "</style>\n",
       "<table border=\"1\" class=\"dataframe\">\n",
       "  <thead>\n",
       "    <tr style=\"text-align: right;\">\n",
       "      <th></th>\n",
       "      <th>Closing Price</th>\n",
       "      <th>Gold Price</th>\n",
       "      <th>Oil Price</th>\n",
       "      <th>M3</th>\n",
       "      <th>Exchange Rate</th>\n",
       "      <th>Interest Rate</th>\n",
       "    </tr>\n",
       "    <tr>\n",
       "      <th>days</th>\n",
       "      <th></th>\n",
       "      <th></th>\n",
       "      <th></th>\n",
       "      <th></th>\n",
       "      <th></th>\n",
       "      <th></th>\n",
       "    </tr>\n",
       "  </thead>\n",
       "  <tbody>\n",
       "    <tr>\n",
       "      <th>0</th>\n",
       "      <td>3562.31</td>\n",
       "      <td>14465.5</td>\n",
       "      <td>972.86</td>\n",
       "      <td>14.19164</td>\n",
       "      <td>30.415</td>\n",
       "      <td>6.5</td>\n",
       "    </tr>\n",
       "    <tr>\n",
       "      <th>1</th>\n",
       "      <td>3469.35</td>\n",
       "      <td>14702.3</td>\n",
       "      <td>1152.2</td>\n",
       "      <td>14.01346</td>\n",
       "      <td>30.574</td>\n",
       "      <td>6.5</td>\n",
       "    </tr>\n",
       "    <tr>\n",
       "      <th>2</th>\n",
       "      <td>3338.16</td>\n",
       "      <td>15080.2</td>\n",
       "      <td>1244.02</td>\n",
       "      <td>14.08145</td>\n",
       "      <td>31.209</td>\n",
       "      <td>6.5</td>\n",
       "    </tr>\n",
       "    <tr>\n",
       "      <th>3</th>\n",
       "      <td>3125.73</td>\n",
       "      <td>16006.7</td>\n",
       "      <td>1257.83</td>\n",
       "      <td>17.20787</td>\n",
       "      <td>31.97</td>\n",
       "      <td>6.5</td>\n",
       "    </tr>\n",
       "    <tr>\n",
       "      <th>4</th>\n",
       "      <td>3244.7</td>\n",
       "      <td>15561.9</td>\n",
       "      <td>1199.06</td>\n",
       "      <td>16.27839</td>\n",
       "      <td>32.17</td>\n",
       "      <td>6.5</td>\n",
       "    </tr>\n",
       "    <tr>\n",
       "      <th>...</th>\n",
       "      <td>...</td>\n",
       "      <td>...</td>\n",
       "      <td>...</td>\n",
       "      <td>...</td>\n",
       "      <td>...</td>\n",
       "      <td>...</td>\n",
       "    </tr>\n",
       "    <tr>\n",
       "      <th>201</th>\n",
       "      <td>34196.522277</td>\n",
       "      <td>90665.682369</td>\n",
       "      <td>4110.287783</td>\n",
       "      <td>11.704655</td>\n",
       "      <td>52.311675</td>\n",
       "      <td>6.514712</td>\n",
       "    </tr>\n",
       "    <tr>\n",
       "      <th>202</th>\n",
       "      <td>34212.861183</td>\n",
       "      <td>91325.827554</td>\n",
       "      <td>4145.032996</td>\n",
       "      <td>11.715557</td>\n",
       "      <td>52.475935</td>\n",
       "      <td>6.537631</td>\n",
       "    </tr>\n",
       "    <tr>\n",
       "      <th>203</th>\n",
       "      <td>34231.306975</td>\n",
       "      <td>91972.481662</td>\n",
       "      <td>4180.7755</td>\n",
       "      <td>11.718065</td>\n",
       "      <td>52.642271</td>\n",
       "      <td>6.561486</td>\n",
       "    </tr>\n",
       "    <tr>\n",
       "      <th>204</th>\n",
       "      <td>34251.987296</td>\n",
       "      <td>92605.893961</td>\n",
       "      <td>4217.230303</td>\n",
       "      <td>11.71349</td>\n",
       "      <td>52.810316</td>\n",
       "      <td>6.586283</td>\n",
       "    </tr>\n",
       "    <tr>\n",
       "      <th>205</th>\n",
       "      <td>34275.002567</td>\n",
       "      <td>93226.304691</td>\n",
       "      <td>4254.148396</td>\n",
       "      <td>11.702923</td>\n",
       "      <td>52.979708</td>\n",
       "      <td>6.611995</td>\n",
       "    </tr>\n",
       "  </tbody>\n",
       "</table>\n",
       "<p>206 rows × 6 columns</p>\n",
       "</div>"
      ],
      "text/plain": [
       "     Closing Price    Gold Price    Oil Price         M3 Exchange Rate  \\\n",
       "days                                                                     \n",
       "0          3562.31       14465.5       972.86   14.19164        30.415   \n",
       "1          3469.35       14702.3       1152.2   14.01346        30.574   \n",
       "2          3338.16       15080.2      1244.02   14.08145        31.209   \n",
       "3          3125.73       16006.7      1257.83   17.20787         31.97   \n",
       "4           3244.7       15561.9      1199.06   16.27839         32.17   \n",
       "...            ...           ...          ...        ...           ...   \n",
       "201   34196.522277  90665.682369  4110.287783  11.704655     52.311675   \n",
       "202   34212.861183  91325.827554  4145.032996  11.715557     52.475935   \n",
       "203   34231.306975  91972.481662    4180.7755  11.718065     52.642271   \n",
       "204   34251.987296  92605.893961  4217.230303   11.71349     52.810316   \n",
       "205   34275.002567  93226.304691  4254.148396  11.702923     52.979708   \n",
       "\n",
       "     Interest Rate  \n",
       "days                \n",
       "0              6.5  \n",
       "1              6.5  \n",
       "2              6.5  \n",
       "3              6.5  \n",
       "4              6.5  \n",
       "...            ...  \n",
       "201       6.514712  \n",
       "202       6.537631  \n",
       "203       6.561486  \n",
       "204       6.586283  \n",
       "205       6.611995  \n",
       "\n",
       "[206 rows x 6 columns]"
      ]
     },
     "execution_count": 86,
     "metadata": {},
     "output_type": "execute_result"
    }
   ],
   "source": [
    "final_data"
   ]
  },
  {
   "cell_type": "markdown",
   "id": "ae002e2c",
   "metadata": {},
   "source": [
    "### Here are the graphs with forcasting"
   ]
  },
  {
   "cell_type": "code",
   "execution_count": 100,
   "id": "633bfa6b",
   "metadata": {
    "scrolled": false
   },
   "outputs": [
    {
     "data": {
      "text/plain": [
       "Text(0.5, 1.0, 'Closing Price')"
      ]
     },
     "execution_count": 100,
     "metadata": {},
     "output_type": "execute_result"
    },
    {
     "data": {
      "image/png": "[encoded data removed]",
      "text/plain": [
       "<Figure size 432x288 with 1 Axes>"
      ]
     },
     "metadata": {
      "needs_background": "light"
     },
     "output_type": "display_data"
    }
   ],
   "source": [
    "plt.plot(final_data['Closing Price'][:191],linewidth = 2.5,color='lime',label='actual')\n",
    "plt.plot(final_data['Closing Price'][191:],linewidth = 2.5,color='red',label='actual')\n",
    "plt.title('Closing Price')"
   ]
  },
  {
   "cell_type": "markdown",
   "id": "5cee6b49",
   "metadata": {},
   "source": [
    "The forcasting outcomes seem to maintain a constant flow(or slightly more or less)."
   ]
  },
  {
   "cell_type": "code",
   "execution_count": 101,
   "id": "37d25fed",
   "metadata": {
    "scrolled": true
   },
   "outputs": [
    {
     "data": {
      "text/plain": [
       "Text(0.5, 1.0, 'Gold Price')"
      ]
     },
     "execution_count": 101,
     "metadata": {},
     "output_type": "execute_result"
    },
    {
     "data": {
      "image/png": "[encoded data removed]",
      "text/plain": [
       "<Figure size 432x288 with 1 Axes>"
      ]
     },
     "metadata": {
      "needs_background": "light"
     },
     "output_type": "display_data"
    }
   ],
   "source": [
    "plt.plot(final_data['Gold Price'][:191],linewidth = 2.5,color='lime',label='actual')\n",
    "plt.plot(final_data['Gold Price'][191:],linewidth = 2.5,color='red',label='actual')\n",
    "plt.title('Gold Price')"
   ]
  },
  {
   "cell_type": "markdown",
   "id": "e5e32bf1",
   "metadata": {},
   "source": [
    "The forcasting outcomes seem to maintain a linearly increasing flow."
   ]
  },
  {
   "cell_type": "code",
   "execution_count": 102,
   "id": "48e3b91a",
   "metadata": {
    "scrolled": true
   },
   "outputs": [
    {
     "data": {
      "text/plain": [
       "Text(0.5, 1.0, 'Oil Price')"
      ]
     },
     "execution_count": 102,
     "metadata": {},
     "output_type": "execute_result"
    },
    {
     "data": {
      "image/png": "[encoded data removed]",
      "text/plain": [
       "<Figure size 432x288 with 1 Axes>"
      ]
     },
     "metadata": {
      "needs_background": "light"
     },
     "output_type": "display_data"
    }
   ],
   "source": [
    "plt.plot(final_data['Oil Price'][:191],linewidth = 2.5,color='lime',label='actual')\n",
    "plt.plot(final_data['Oil Price'][191:],linewidth = 2.5,color='red',label='actual')\n",
    "plt.title('Oil Price')"
   ]
  },
  {
   "cell_type": "markdown",
   "id": "dc51c3f6",
   "metadata": {},
   "source": [
    "The forcasting outcomes seem to maintain an exponentially increasing flow."
   ]
  },
  {
   "cell_type": "code",
   "execution_count": 103,
   "id": "29bbd29a",
   "metadata": {
    "scrolled": true
   },
   "outputs": [
    {
     "data": {
      "text/plain": [
       "Text(0.5, 1.0, 'M3 Price')"
      ]
     },
     "execution_count": 103,
     "metadata": {},
     "output_type": "execute_result"
    },
    {
     "data": {
      "image/png": "[encoded data removed]",
      "text/plain": [
       "<Figure size 432x288 with 1 Axes>"
      ]
     },
     "metadata": {
      "needs_background": "light"
     },
     "output_type": "display_data"
    }
   ],
   "source": [
    "plt.plot(final_data['M3'][:191],linewidth = 2.5,color='lime',label='actual')\n",
    "plt.plot(final_data['M3'][191:],linewidth = 2.5,color='red',label='actual')\n",
    "plt.title('M3 Price')"
   ]
  },
  {
   "cell_type": "markdown",
   "id": "aa1d0d50",
   "metadata": {},
   "source": [
    "The forcasting outcomes seem to maintain an logarithic increasing flow."
   ]
  },
  {
   "cell_type": "code",
   "execution_count": 104,
   "id": "6b22a202",
   "metadata": {},
   "outputs": [
    {
     "data": {
      "text/plain": [
       "Text(0.5, 1.0, 'Exchange Rate')"
      ]
     },
     "execution_count": 104,
     "metadata": {},
     "output_type": "execute_result"
    },
    {
     "data": {
      "image/png": "[encoded data removed]",
      "text/plain": [
       "<Figure size 432x288 with 1 Axes>"
      ]
     },
     "metadata": {
      "needs_background": "light"
     },
     "output_type": "display_data"
    }
   ],
   "source": [
    "plt.plot(final_data['Exchange Rate'][:191],linewidth = 2.5,color='lime',label='actual')\n",
    "plt.plot(final_data['Exchange Rate'][191:],linewidth = 2.5,color='red',label='actual')\n",
    "plt.title('Exchange Rate')"
   ]
  },
  {
   "cell_type": "markdown",
   "id": "43dedec7",
   "metadata": {},
   "source": [
    "The forcasting outcomes seem to maintain a linearly increasing flow."
   ]
  },
  {
   "cell_type": "code",
   "execution_count": 105,
   "id": "83c9bc17",
   "metadata": {},
   "outputs": [
    {
     "data": {
      "text/plain": [
       "Text(0.5, 1.0, 'Interest Rate')"
      ]
     },
     "execution_count": 105,
     "metadata": {},
     "output_type": "execute_result"
    },
    {
     "data": {
      "image/png": "[encoded data removed]",
      "text/plain": [
       "<Figure size 432x288 with 1 Axes>"
      ]
     },
     "metadata": {
      "needs_background": "light"
     },
     "output_type": "display_data"
    }
   ],
   "source": [
    "plt.plot(final_data['Interest Rate'][:191],linewidth = 2.5,color='lime',label='actual')\n",
    "plt.plot(final_data['Interest Rate'][191:],linewidth = 2.5,color='red',label='actual')\n",
    "plt.title('Interest Rate')"
   ]
  },
  {
   "cell_type": "markdown",
   "id": "2e5a6fb7",
   "metadata": {},
   "source": [
    "The forcasting outcomes seem to maintain a linearly increasing flow."
   ]
  },
  {
   "cell_type": "code",
   "execution_count": null,
   "id": "e74c5f38",
   "metadata": {},
   "outputs": [],
   "source": []
  }
 ],
 "metadata": {
  "kernelspec": {
   "display_name": "Python 3",
   "language": "python",
   "name": "python3"
  },
  "language_info": {
   "codemirror_mode": {
    "name": "ipython",
    "version": 3
   },
   "file_extension": ".py",
   "mimetype": "text/x-python",
   "name": "python",
   "nbconvert_exporter": "python",
   "pygments_lexer": "ipython3",
   "version": "3.8.8"
  }
 },
 "nbformat": 4,
 "nbformat_minor": 5
}
